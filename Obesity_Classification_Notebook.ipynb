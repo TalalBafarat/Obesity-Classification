{
  "cells": [
    {
      "cell_type": "markdown",
      "metadata": {
        "id": "view-in-github",
        "colab_type": "text"
      },
      "source": [
        "<a href=\"https://colab.research.google.com/github/TalalBafarat/Obesity-Classification/blob/main/Obesity_Classification_Notebook.ipynb\" target=\"_parent\"><img src=\"https://colab.research.google.com/assets/colab-badge.svg\" alt=\"Open In Colab\"/></a>"
      ]
    },
    {
      "cell_type": "markdown",
      "id": "c4d8e1ec",
      "metadata": {
        "id": "c4d8e1ec"
      },
      "source": [
        "# Introduction\n",
        "Obesity has been one of the greatest health-related threats of the 21st century. It is estimated that around 2 billion adults are overweight. According to the World Health Organization, obesity has nearly tripled globally since 1975. In fact, most of the world population reside in countries where deaths related to being overweight are more prevalent than hunger-related deaths."
      ]
    },
    {
      "cell_type": "markdown",
      "id": "d454e35c",
      "metadata": {
        "id": "d454e35c"
      },
      "source": [
        "## Problem Statement\n",
        "While the tendency to being overweight can be attributed to genetics, obesity is mostly dependent on one's life style. This raises an important question. Which factors can be used to predict one's physique? This project attempts to answer this question through data classification."
      ]
    },
    {
      "cell_type": "markdown",
      "id": "3279435a",
      "metadata": {
        "id": "3279435a"
      },
      "source": [
        "# Dataset Description\n",
        "\n",
        "The following data is used to estimate obesity levels in individuals from the countries of Mexico, Peru and Colombia, based on their eating habits and physical condition. The data contains 17 attributes and 2111 records, the records are labeled with the class variable NObesity (Obesity Level), that allows classification of the data using the values of Insufficient Weight, Normal Weight, Overweight Level I, Overweight Level II, Obesity Type I, Obesity Type II and Obesity Type III. 77% of the data was generated synthetically using the Weka tool and the SMOTE filter, 23% of the data was collected directly from users through a web platform. This data can be used to generate intelligent computational tools to identify the obesity level of an individual and to build recommender systems that monitor obesity levels (De-La-Hoz-Correa et al., 2019).<br>\n",
        "\n",
        "\n",
        "<img src=\"https://themedicalbiochemistrypage.org/wp-content/uploads/2020/05/obesity-title-image.jpg\"/>\n",
        "\n",
        "## Features\n",
        "•Gender (Male/Female)<br>\n",
        "•Age (numeric value)<br>\n",
        "•Height (numeric value in meters)<br>\n",
        "•Weight (numeric value in kilograms)<br>\n",
        "•familiy_history_with_overweight (yes/no)<br>\n",
        "•FAVC: Frequent consumption of high caloric food (yes/no)<br>\n",
        "•FCVC: Frequent consumption of vegetables (Never, Sometimes, Frequently)<br>\n",
        "•NCP: Number of main meals (1-2, 3, > 3)<br>\n",
        "•CAEC: Consumption of food between meals (no, Sometimes, Frequently, Always)<br>\n",
        "•SMOKE (yes/no)<br>\n",
        "•CH2O: Consumption of water daily (< 1 liter, 1-2 liters, > 2 liters)<br>\n",
        "•SCC: Calories consumption monitoring (yes/no)<br>\n",
        "•FAF: Physical activity frequency (none, 1 or 2 days per week, 2 or 4 days per week, 4 or 5 days per week)<br> \n",
        "•TUE: Time using technology devices (0-2 hours, 3-5 hours, > 5 hours)<br>\n",
        "•CALC: Consumption of Alcohol (no, Sometimes, Frequently, Always)<br>\n",
        "•MTRANS: Transportation Used (Public_Transportation, Automobile, Walking, Motorbike, Bike)<br>\n",
        "\n",
        "## Target\n",
        "•NObeyesdad (Insufficient_Weight, Normal_Weight, Overweight_Level_I, Overweight_Level_II, Obesity_Type_I, Obesity_Type_II, Obesity_Type_III)\n",
        "\n",
        "### Calculation\n",
        "\n",
        "Obesity level is determined by the Body Mass Index (BMI), which is calculated via the following formula:<br><br>\n",
        "\n",
        "<img src=\"https://www.bmi-online.org/images/bmi-formula.png\" width=\"300px\"/>\n",
        "\n",
        "<br><br>\n",
        "•Underweight Less than 18.5<br>\n",
        "•Normal 18.5 to 24.9<br>\n",
        "•Overweight 25.0 to 29.9<br>\n",
        "•Obesity I 30.0 to 34.9<br>\n",
        "•Obesity II 35.0 to 39.9<br>\n",
        "•Obesity III Higher than 40<br>"
      ]
    },
    {
      "cell_type": "markdown",
      "id": "036a05ea",
      "metadata": {
        "id": "036a05ea"
      },
      "source": [
        "# Import & Dataset Overview"
      ]
    },
    {
      "cell_type": "code",
      "execution_count": null,
      "id": "a229397e",
      "metadata": {
        "ExecuteTime": {
          "end_time": "2021-12-12T18:20:25.780563Z",
          "start_time": "2021-12-12T18:20:17.394376Z"
        },
        "id": "a229397e"
      },
      "outputs": [],
      "source": [
        "import pandas as pd\n",
        "from sklearn.preprocessing import LabelEncoder\n",
        "from sklearn.model_selection import train_test_split\n",
        "from sklearn.model_selection import cross_val_score\n",
        "from sklearn.neighbors import KNeighborsClassifier\n",
        "from sklearn.metrics import classification_report, accuracy_score, plot_confusion_matrix, confusion_matrix\n",
        "import numpy as np\n",
        "import seaborn as sns\n",
        "import matplotlib.pyplot as plt\n",
        "from sklearn.preprocessing import LabelEncoder\n",
        "from sklearn import metrics\n",
        "from sklearn.preprocessing import StandardScaler\n",
        "from sklearn.preprocessing import MinMaxScaler"
      ]
    },
    {
      "cell_type": "code",
      "execution_count": null,
      "id": "97ec6899",
      "metadata": {
        "ExecuteTime": {
          "end_time": "2021-12-12T18:20:25.940535Z",
          "start_time": "2021-12-12T18:20:25.783535Z"
        },
        "id": "97ec6899",
        "outputId": "d8958093-5c73-48b6-dc71-e155061bb150"
      },
      "outputs": [
        {
          "data": {
            "text/html": [
              "<div>\n",
              "<style scoped>\n",
              "    .dataframe tbody tr th:only-of-type {\n",
              "        vertical-align: middle;\n",
              "    }\n",
              "\n",
              "    .dataframe tbody tr th {\n",
              "        vertical-align: top;\n",
              "    }\n",
              "\n",
              "    .dataframe thead th {\n",
              "        text-align: right;\n",
              "    }\n",
              "</style>\n",
              "<table border=\"1\" class=\"dataframe\">\n",
              "  <thead>\n",
              "    <tr style=\"text-align: right;\">\n",
              "      <th></th>\n",
              "      <th>Gender</th>\n",
              "      <th>Age</th>\n",
              "      <th>Height</th>\n",
              "      <th>Weight</th>\n",
              "      <th>family_history_with_overweight</th>\n",
              "      <th>FAVC</th>\n",
              "      <th>FCVC</th>\n",
              "      <th>NCP</th>\n",
              "      <th>CAEC</th>\n",
              "      <th>SMOKE</th>\n",
              "      <th>CH2O</th>\n",
              "      <th>SCC</th>\n",
              "      <th>FAF</th>\n",
              "      <th>TUE</th>\n",
              "      <th>CALC</th>\n",
              "      <th>MTRANS</th>\n",
              "      <th>NObeyesdad</th>\n",
              "    </tr>\n",
              "  </thead>\n",
              "  <tbody>\n",
              "    <tr>\n",
              "      <th>0</th>\n",
              "      <td>Female</td>\n",
              "      <td>21.0</td>\n",
              "      <td>1.62</td>\n",
              "      <td>64.0</td>\n",
              "      <td>yes</td>\n",
              "      <td>no</td>\n",
              "      <td>2.0</td>\n",
              "      <td>3.0</td>\n",
              "      <td>Sometimes</td>\n",
              "      <td>no</td>\n",
              "      <td>2.0</td>\n",
              "      <td>no</td>\n",
              "      <td>0.0</td>\n",
              "      <td>1.0</td>\n",
              "      <td>no</td>\n",
              "      <td>Public_Transportation</td>\n",
              "      <td>Normal_Weight</td>\n",
              "    </tr>\n",
              "    <tr>\n",
              "      <th>1</th>\n",
              "      <td>Female</td>\n",
              "      <td>21.0</td>\n",
              "      <td>1.52</td>\n",
              "      <td>56.0</td>\n",
              "      <td>yes</td>\n",
              "      <td>no</td>\n",
              "      <td>3.0</td>\n",
              "      <td>3.0</td>\n",
              "      <td>Sometimes</td>\n",
              "      <td>yes</td>\n",
              "      <td>3.0</td>\n",
              "      <td>yes</td>\n",
              "      <td>3.0</td>\n",
              "      <td>0.0</td>\n",
              "      <td>Sometimes</td>\n",
              "      <td>Public_Transportation</td>\n",
              "      <td>Normal_Weight</td>\n",
              "    </tr>\n",
              "    <tr>\n",
              "      <th>2</th>\n",
              "      <td>Male</td>\n",
              "      <td>23.0</td>\n",
              "      <td>1.80</td>\n",
              "      <td>77.0</td>\n",
              "      <td>yes</td>\n",
              "      <td>no</td>\n",
              "      <td>2.0</td>\n",
              "      <td>3.0</td>\n",
              "      <td>Sometimes</td>\n",
              "      <td>no</td>\n",
              "      <td>2.0</td>\n",
              "      <td>no</td>\n",
              "      <td>2.0</td>\n",
              "      <td>1.0</td>\n",
              "      <td>Frequently</td>\n",
              "      <td>Public_Transportation</td>\n",
              "      <td>Normal_Weight</td>\n",
              "    </tr>\n",
              "    <tr>\n",
              "      <th>3</th>\n",
              "      <td>Male</td>\n",
              "      <td>27.0</td>\n",
              "      <td>1.80</td>\n",
              "      <td>87.0</td>\n",
              "      <td>no</td>\n",
              "      <td>no</td>\n",
              "      <td>3.0</td>\n",
              "      <td>3.0</td>\n",
              "      <td>Sometimes</td>\n",
              "      <td>no</td>\n",
              "      <td>2.0</td>\n",
              "      <td>no</td>\n",
              "      <td>2.0</td>\n",
              "      <td>0.0</td>\n",
              "      <td>Frequently</td>\n",
              "      <td>Walking</td>\n",
              "      <td>Overweight_Level_I</td>\n",
              "    </tr>\n",
              "    <tr>\n",
              "      <th>4</th>\n",
              "      <td>Male</td>\n",
              "      <td>22.0</td>\n",
              "      <td>1.78</td>\n",
              "      <td>89.8</td>\n",
              "      <td>no</td>\n",
              "      <td>no</td>\n",
              "      <td>2.0</td>\n",
              "      <td>1.0</td>\n",
              "      <td>Sometimes</td>\n",
              "      <td>no</td>\n",
              "      <td>2.0</td>\n",
              "      <td>no</td>\n",
              "      <td>0.0</td>\n",
              "      <td>0.0</td>\n",
              "      <td>Sometimes</td>\n",
              "      <td>Public_Transportation</td>\n",
              "      <td>Overweight_Level_II</td>\n",
              "    </tr>\n",
              "    <tr>\n",
              "      <th>5</th>\n",
              "      <td>Male</td>\n",
              "      <td>29.0</td>\n",
              "      <td>1.62</td>\n",
              "      <td>53.0</td>\n",
              "      <td>no</td>\n",
              "      <td>yes</td>\n",
              "      <td>2.0</td>\n",
              "      <td>3.0</td>\n",
              "      <td>Sometimes</td>\n",
              "      <td>no</td>\n",
              "      <td>2.0</td>\n",
              "      <td>no</td>\n",
              "      <td>0.0</td>\n",
              "      <td>0.0</td>\n",
              "      <td>Sometimes</td>\n",
              "      <td>Automobile</td>\n",
              "      <td>Normal_Weight</td>\n",
              "    </tr>\n",
              "    <tr>\n",
              "      <th>6</th>\n",
              "      <td>Female</td>\n",
              "      <td>23.0</td>\n",
              "      <td>1.50</td>\n",
              "      <td>55.0</td>\n",
              "      <td>yes</td>\n",
              "      <td>yes</td>\n",
              "      <td>3.0</td>\n",
              "      <td>3.0</td>\n",
              "      <td>Sometimes</td>\n",
              "      <td>no</td>\n",
              "      <td>2.0</td>\n",
              "      <td>no</td>\n",
              "      <td>1.0</td>\n",
              "      <td>0.0</td>\n",
              "      <td>Sometimes</td>\n",
              "      <td>Motorbike</td>\n",
              "      <td>Normal_Weight</td>\n",
              "    </tr>\n",
              "    <tr>\n",
              "      <th>7</th>\n",
              "      <td>Male</td>\n",
              "      <td>22.0</td>\n",
              "      <td>1.64</td>\n",
              "      <td>53.0</td>\n",
              "      <td>no</td>\n",
              "      <td>no</td>\n",
              "      <td>2.0</td>\n",
              "      <td>3.0</td>\n",
              "      <td>Sometimes</td>\n",
              "      <td>no</td>\n",
              "      <td>2.0</td>\n",
              "      <td>no</td>\n",
              "      <td>3.0</td>\n",
              "      <td>0.0</td>\n",
              "      <td>Sometimes</td>\n",
              "      <td>Public_Transportation</td>\n",
              "      <td>Normal_Weight</td>\n",
              "    </tr>\n",
              "    <tr>\n",
              "      <th>8</th>\n",
              "      <td>Male</td>\n",
              "      <td>24.0</td>\n",
              "      <td>1.78</td>\n",
              "      <td>64.0</td>\n",
              "      <td>yes</td>\n",
              "      <td>yes</td>\n",
              "      <td>3.0</td>\n",
              "      <td>3.0</td>\n",
              "      <td>Sometimes</td>\n",
              "      <td>no</td>\n",
              "      <td>2.0</td>\n",
              "      <td>no</td>\n",
              "      <td>1.0</td>\n",
              "      <td>1.0</td>\n",
              "      <td>Frequently</td>\n",
              "      <td>Public_Transportation</td>\n",
              "      <td>Normal_Weight</td>\n",
              "    </tr>\n",
              "    <tr>\n",
              "      <th>9</th>\n",
              "      <td>Male</td>\n",
              "      <td>22.0</td>\n",
              "      <td>1.72</td>\n",
              "      <td>68.0</td>\n",
              "      <td>yes</td>\n",
              "      <td>yes</td>\n",
              "      <td>2.0</td>\n",
              "      <td>3.0</td>\n",
              "      <td>Sometimes</td>\n",
              "      <td>no</td>\n",
              "      <td>2.0</td>\n",
              "      <td>no</td>\n",
              "      <td>1.0</td>\n",
              "      <td>1.0</td>\n",
              "      <td>no</td>\n",
              "      <td>Public_Transportation</td>\n",
              "      <td>Normal_Weight</td>\n",
              "    </tr>\n",
              "  </tbody>\n",
              "</table>\n",
              "</div>"
            ],
            "text/plain": [
              "   Gender   Age  Height  Weight family_history_with_overweight FAVC  FCVC  \\\n",
              "0  Female  21.0    1.62    64.0                            yes   no   2.0   \n",
              "1  Female  21.0    1.52    56.0                            yes   no   3.0   \n",
              "2    Male  23.0    1.80    77.0                            yes   no   2.0   \n",
              "3    Male  27.0    1.80    87.0                             no   no   3.0   \n",
              "4    Male  22.0    1.78    89.8                             no   no   2.0   \n",
              "5    Male  29.0    1.62    53.0                             no  yes   2.0   \n",
              "6  Female  23.0    1.50    55.0                            yes  yes   3.0   \n",
              "7    Male  22.0    1.64    53.0                             no   no   2.0   \n",
              "8    Male  24.0    1.78    64.0                            yes  yes   3.0   \n",
              "9    Male  22.0    1.72    68.0                            yes  yes   2.0   \n",
              "\n",
              "   NCP       CAEC SMOKE  CH2O  SCC  FAF  TUE        CALC  \\\n",
              "0  3.0  Sometimes    no   2.0   no  0.0  1.0          no   \n",
              "1  3.0  Sometimes   yes   3.0  yes  3.0  0.0   Sometimes   \n",
              "2  3.0  Sometimes    no   2.0   no  2.0  1.0  Frequently   \n",
              "3  3.0  Sometimes    no   2.0   no  2.0  0.0  Frequently   \n",
              "4  1.0  Sometimes    no   2.0   no  0.0  0.0   Sometimes   \n",
              "5  3.0  Sometimes    no   2.0   no  0.0  0.0   Sometimes   \n",
              "6  3.0  Sometimes    no   2.0   no  1.0  0.0   Sometimes   \n",
              "7  3.0  Sometimes    no   2.0   no  3.0  0.0   Sometimes   \n",
              "8  3.0  Sometimes    no   2.0   no  1.0  1.0  Frequently   \n",
              "9  3.0  Sometimes    no   2.0   no  1.0  1.0          no   \n",
              "\n",
              "                  MTRANS           NObeyesdad  \n",
              "0  Public_Transportation        Normal_Weight  \n",
              "1  Public_Transportation        Normal_Weight  \n",
              "2  Public_Transportation        Normal_Weight  \n",
              "3                Walking   Overweight_Level_I  \n",
              "4  Public_Transportation  Overweight_Level_II  \n",
              "5             Automobile        Normal_Weight  \n",
              "6              Motorbike        Normal_Weight  \n",
              "7  Public_Transportation        Normal_Weight  \n",
              "8  Public_Transportation        Normal_Weight  \n",
              "9  Public_Transportation        Normal_Weight  "
            ]
          },
          "execution_count": 2,
          "metadata": {},
          "output_type": "execute_result"
        }
      ],
      "source": [
        "df = pd.read_csv(\"ObesityDataSet_raw_and_data_sinthetic.csv\")\n",
        "df.head(10)"
      ]
    },
    {
      "cell_type": "code",
      "execution_count": null,
      "id": "f75a5369",
      "metadata": {
        "ExecuteTime": {
          "end_time": "2021-12-11T11:44:32.350811Z",
          "start_time": "2021-12-11T11:44:32.293237Z"
        },
        "id": "f75a5369",
        "outputId": "a3cac064-df30-45f8-c735-16d497d2e093"
      },
      "outputs": [
        {
          "data": {
            "text/html": [
              "<div>\n",
              "<style scoped>\n",
              "    .dataframe tbody tr th:only-of-type {\n",
              "        vertical-align: middle;\n",
              "    }\n",
              "\n",
              "    .dataframe tbody tr th {\n",
              "        vertical-align: top;\n",
              "    }\n",
              "\n",
              "    .dataframe thead th {\n",
              "        text-align: right;\n",
              "    }\n",
              "</style>\n",
              "<table border=\"1\" class=\"dataframe\">\n",
              "  <thead>\n",
              "    <tr style=\"text-align: right;\">\n",
              "      <th></th>\n",
              "      <th>Gender</th>\n",
              "      <th>Age</th>\n",
              "      <th>Height</th>\n",
              "      <th>Weight</th>\n",
              "      <th>family_history_with_overweight</th>\n",
              "      <th>FAVC</th>\n",
              "      <th>FCVC</th>\n",
              "      <th>NCP</th>\n",
              "      <th>CAEC</th>\n",
              "      <th>SMOKE</th>\n",
              "      <th>CH2O</th>\n",
              "      <th>SCC</th>\n",
              "      <th>FAF</th>\n",
              "      <th>TUE</th>\n",
              "      <th>CALC</th>\n",
              "      <th>MTRANS</th>\n",
              "      <th>NObeyesdad</th>\n",
              "    </tr>\n",
              "  </thead>\n",
              "  <tbody>\n",
              "    <tr>\n",
              "      <th>2101</th>\n",
              "      <td>Female</td>\n",
              "      <td>25.722004</td>\n",
              "      <td>1.628470</td>\n",
              "      <td>107.218949</td>\n",
              "      <td>yes</td>\n",
              "      <td>yes</td>\n",
              "      <td>3.0</td>\n",
              "      <td>3.0</td>\n",
              "      <td>Sometimes</td>\n",
              "      <td>no</td>\n",
              "      <td>2.487070</td>\n",
              "      <td>no</td>\n",
              "      <td>0.067329</td>\n",
              "      <td>0.455823</td>\n",
              "      <td>Sometimes</td>\n",
              "      <td>Public_Transportation</td>\n",
              "      <td>Obesity_Type_III</td>\n",
              "    </tr>\n",
              "    <tr>\n",
              "      <th>2102</th>\n",
              "      <td>Female</td>\n",
              "      <td>25.765628</td>\n",
              "      <td>1.627839</td>\n",
              "      <td>108.107360</td>\n",
              "      <td>yes</td>\n",
              "      <td>yes</td>\n",
              "      <td>3.0</td>\n",
              "      <td>3.0</td>\n",
              "      <td>Sometimes</td>\n",
              "      <td>no</td>\n",
              "      <td>2.320068</td>\n",
              "      <td>no</td>\n",
              "      <td>0.045246</td>\n",
              "      <td>0.413106</td>\n",
              "      <td>Sometimes</td>\n",
              "      <td>Public_Transportation</td>\n",
              "      <td>Obesity_Type_III</td>\n",
              "    </tr>\n",
              "    <tr>\n",
              "      <th>2103</th>\n",
              "      <td>Female</td>\n",
              "      <td>21.016849</td>\n",
              "      <td>1.724268</td>\n",
              "      <td>133.033523</td>\n",
              "      <td>yes</td>\n",
              "      <td>yes</td>\n",
              "      <td>3.0</td>\n",
              "      <td>3.0</td>\n",
              "      <td>Sometimes</td>\n",
              "      <td>no</td>\n",
              "      <td>1.650612</td>\n",
              "      <td>no</td>\n",
              "      <td>1.537639</td>\n",
              "      <td>0.912457</td>\n",
              "      <td>Sometimes</td>\n",
              "      <td>Public_Transportation</td>\n",
              "      <td>Obesity_Type_III</td>\n",
              "    </tr>\n",
              "    <tr>\n",
              "      <th>2104</th>\n",
              "      <td>Female</td>\n",
              "      <td>21.682367</td>\n",
              "      <td>1.732383</td>\n",
              "      <td>133.043941</td>\n",
              "      <td>yes</td>\n",
              "      <td>yes</td>\n",
              "      <td>3.0</td>\n",
              "      <td>3.0</td>\n",
              "      <td>Sometimes</td>\n",
              "      <td>no</td>\n",
              "      <td>1.610768</td>\n",
              "      <td>no</td>\n",
              "      <td>1.510398</td>\n",
              "      <td>0.931455</td>\n",
              "      <td>Sometimes</td>\n",
              "      <td>Public_Transportation</td>\n",
              "      <td>Obesity_Type_III</td>\n",
              "    </tr>\n",
              "    <tr>\n",
              "      <th>2105</th>\n",
              "      <td>Female</td>\n",
              "      <td>21.285965</td>\n",
              "      <td>1.726920</td>\n",
              "      <td>131.335786</td>\n",
              "      <td>yes</td>\n",
              "      <td>yes</td>\n",
              "      <td>3.0</td>\n",
              "      <td>3.0</td>\n",
              "      <td>Sometimes</td>\n",
              "      <td>no</td>\n",
              "      <td>1.796267</td>\n",
              "      <td>no</td>\n",
              "      <td>1.728332</td>\n",
              "      <td>0.897924</td>\n",
              "      <td>Sometimes</td>\n",
              "      <td>Public_Transportation</td>\n",
              "      <td>Obesity_Type_III</td>\n",
              "    </tr>\n",
              "    <tr>\n",
              "      <th>2106</th>\n",
              "      <td>Female</td>\n",
              "      <td>20.976842</td>\n",
              "      <td>1.710730</td>\n",
              "      <td>131.408528</td>\n",
              "      <td>yes</td>\n",
              "      <td>yes</td>\n",
              "      <td>3.0</td>\n",
              "      <td>3.0</td>\n",
              "      <td>Sometimes</td>\n",
              "      <td>no</td>\n",
              "      <td>1.728139</td>\n",
              "      <td>no</td>\n",
              "      <td>1.676269</td>\n",
              "      <td>0.906247</td>\n",
              "      <td>Sometimes</td>\n",
              "      <td>Public_Transportation</td>\n",
              "      <td>Obesity_Type_III</td>\n",
              "    </tr>\n",
              "    <tr>\n",
              "      <th>2107</th>\n",
              "      <td>Female</td>\n",
              "      <td>21.982942</td>\n",
              "      <td>1.748584</td>\n",
              "      <td>133.742943</td>\n",
              "      <td>yes</td>\n",
              "      <td>yes</td>\n",
              "      <td>3.0</td>\n",
              "      <td>3.0</td>\n",
              "      <td>Sometimes</td>\n",
              "      <td>no</td>\n",
              "      <td>2.005130</td>\n",
              "      <td>no</td>\n",
              "      <td>1.341390</td>\n",
              "      <td>0.599270</td>\n",
              "      <td>Sometimes</td>\n",
              "      <td>Public_Transportation</td>\n",
              "      <td>Obesity_Type_III</td>\n",
              "    </tr>\n",
              "    <tr>\n",
              "      <th>2108</th>\n",
              "      <td>Female</td>\n",
              "      <td>22.524036</td>\n",
              "      <td>1.752206</td>\n",
              "      <td>133.689352</td>\n",
              "      <td>yes</td>\n",
              "      <td>yes</td>\n",
              "      <td>3.0</td>\n",
              "      <td>3.0</td>\n",
              "      <td>Sometimes</td>\n",
              "      <td>no</td>\n",
              "      <td>2.054193</td>\n",
              "      <td>no</td>\n",
              "      <td>1.414209</td>\n",
              "      <td>0.646288</td>\n",
              "      <td>Sometimes</td>\n",
              "      <td>Public_Transportation</td>\n",
              "      <td>Obesity_Type_III</td>\n",
              "    </tr>\n",
              "    <tr>\n",
              "      <th>2109</th>\n",
              "      <td>Female</td>\n",
              "      <td>24.361936</td>\n",
              "      <td>1.739450</td>\n",
              "      <td>133.346641</td>\n",
              "      <td>yes</td>\n",
              "      <td>yes</td>\n",
              "      <td>3.0</td>\n",
              "      <td>3.0</td>\n",
              "      <td>Sometimes</td>\n",
              "      <td>no</td>\n",
              "      <td>2.852339</td>\n",
              "      <td>no</td>\n",
              "      <td>1.139107</td>\n",
              "      <td>0.586035</td>\n",
              "      <td>Sometimes</td>\n",
              "      <td>Public_Transportation</td>\n",
              "      <td>Obesity_Type_III</td>\n",
              "    </tr>\n",
              "    <tr>\n",
              "      <th>2110</th>\n",
              "      <td>Female</td>\n",
              "      <td>23.664709</td>\n",
              "      <td>1.738836</td>\n",
              "      <td>133.472641</td>\n",
              "      <td>yes</td>\n",
              "      <td>yes</td>\n",
              "      <td>3.0</td>\n",
              "      <td>3.0</td>\n",
              "      <td>Sometimes</td>\n",
              "      <td>no</td>\n",
              "      <td>2.863513</td>\n",
              "      <td>no</td>\n",
              "      <td>1.026452</td>\n",
              "      <td>0.714137</td>\n",
              "      <td>Sometimes</td>\n",
              "      <td>Public_Transportation</td>\n",
              "      <td>Obesity_Type_III</td>\n",
              "    </tr>\n",
              "  </tbody>\n",
              "</table>\n",
              "</div>"
            ],
            "text/plain": [
              "      Gender        Age    Height      Weight family_history_with_overweight  \\\n",
              "2101  Female  25.722004  1.628470  107.218949                            yes   \n",
              "2102  Female  25.765628  1.627839  108.107360                            yes   \n",
              "2103  Female  21.016849  1.724268  133.033523                            yes   \n",
              "2104  Female  21.682367  1.732383  133.043941                            yes   \n",
              "2105  Female  21.285965  1.726920  131.335786                            yes   \n",
              "2106  Female  20.976842  1.710730  131.408528                            yes   \n",
              "2107  Female  21.982942  1.748584  133.742943                            yes   \n",
              "2108  Female  22.524036  1.752206  133.689352                            yes   \n",
              "2109  Female  24.361936  1.739450  133.346641                            yes   \n",
              "2110  Female  23.664709  1.738836  133.472641                            yes   \n",
              "\n",
              "     FAVC  FCVC  NCP       CAEC SMOKE      CH2O SCC       FAF       TUE  \\\n",
              "2101  yes   3.0  3.0  Sometimes    no  2.487070  no  0.067329  0.455823   \n",
              "2102  yes   3.0  3.0  Sometimes    no  2.320068  no  0.045246  0.413106   \n",
              "2103  yes   3.0  3.0  Sometimes    no  1.650612  no  1.537639  0.912457   \n",
              "2104  yes   3.0  3.0  Sometimes    no  1.610768  no  1.510398  0.931455   \n",
              "2105  yes   3.0  3.0  Sometimes    no  1.796267  no  1.728332  0.897924   \n",
              "2106  yes   3.0  3.0  Sometimes    no  1.728139  no  1.676269  0.906247   \n",
              "2107  yes   3.0  3.0  Sometimes    no  2.005130  no  1.341390  0.599270   \n",
              "2108  yes   3.0  3.0  Sometimes    no  2.054193  no  1.414209  0.646288   \n",
              "2109  yes   3.0  3.0  Sometimes    no  2.852339  no  1.139107  0.586035   \n",
              "2110  yes   3.0  3.0  Sometimes    no  2.863513  no  1.026452  0.714137   \n",
              "\n",
              "           CALC                 MTRANS        NObeyesdad  \n",
              "2101  Sometimes  Public_Transportation  Obesity_Type_III  \n",
              "2102  Sometimes  Public_Transportation  Obesity_Type_III  \n",
              "2103  Sometimes  Public_Transportation  Obesity_Type_III  \n",
              "2104  Sometimes  Public_Transportation  Obesity_Type_III  \n",
              "2105  Sometimes  Public_Transportation  Obesity_Type_III  \n",
              "2106  Sometimes  Public_Transportation  Obesity_Type_III  \n",
              "2107  Sometimes  Public_Transportation  Obesity_Type_III  \n",
              "2108  Sometimes  Public_Transportation  Obesity_Type_III  \n",
              "2109  Sometimes  Public_Transportation  Obesity_Type_III  \n",
              "2110  Sometimes  Public_Transportation  Obesity_Type_III  "
            ]
          },
          "execution_count": 8,
          "metadata": {},
          "output_type": "execute_result"
        }
      ],
      "source": [
        "df.tail(10)"
      ]
    },
    {
      "cell_type": "markdown",
      "id": "9b1ca7aa",
      "metadata": {
        "id": "9b1ca7aa"
      },
      "source": [
        "As demonstrated below, the dataset contains 17 features and 2111 entries "
      ]
    },
    {
      "cell_type": "markdown",
      "id": "b4194ff4",
      "metadata": {
        "id": "b4194ff4"
      },
      "source": [
        "# Dataset Details"
      ]
    },
    {
      "cell_type": "markdown",
      "id": "273e728b",
      "metadata": {
        "id": "273e728b"
      },
      "source": [
        "## The number of features and entries"
      ]
    },
    {
      "cell_type": "code",
      "execution_count": null,
      "id": "8cee43f1",
      "metadata": {
        "ExecuteTime": {
          "end_time": "2021-12-11T11:44:32.366882Z",
          "start_time": "2021-12-11T11:44:32.354943Z"
        },
        "id": "8cee43f1",
        "outputId": "b5462911-279f-4fb9-cbef-e56a99feeb9e"
      },
      "outputs": [
        {
          "data": {
            "text/plain": [
              "(2111, 17)"
            ]
          },
          "execution_count": 9,
          "metadata": {},
          "output_type": "execute_result"
        }
      ],
      "source": [
        "df.shape"
      ]
    },
    {
      "cell_type": "markdown",
      "id": "6a6055b0",
      "metadata": {
        "id": "6a6055b0"
      },
      "source": [
        "## Data Definition Information"
      ]
    },
    {
      "cell_type": "code",
      "execution_count": null,
      "id": "249fb9a2",
      "metadata": {
        "ExecuteTime": {
          "end_time": "2021-12-11T11:44:32.413739Z",
          "start_time": "2021-12-11T11:44:32.371030Z"
        },
        "id": "249fb9a2",
        "outputId": "e376a076-6801-4429-c9eb-248eae7ce23e"
      },
      "outputs": [
        {
          "name": "stdout",
          "output_type": "stream",
          "text": [
            "<class 'pandas.core.frame.DataFrame'>\n",
            "RangeIndex: 2111 entries, 0 to 2110\n",
            "Data columns (total 17 columns):\n",
            " #   Column                          Non-Null Count  Dtype  \n",
            "---  ------                          --------------  -----  \n",
            " 0   Gender                          2111 non-null   object \n",
            " 1   Age                             2111 non-null   float64\n",
            " 2   Height                          2111 non-null   float64\n",
            " 3   Weight                          2111 non-null   float64\n",
            " 4   family_history_with_overweight  2111 non-null   object \n",
            " 5   FAVC                            2111 non-null   object \n",
            " 6   FCVC                            2111 non-null   float64\n",
            " 7   NCP                             2111 non-null   float64\n",
            " 8   CAEC                            2111 non-null   object \n",
            " 9   SMOKE                           2111 non-null   object \n",
            " 10  CH2O                            2111 non-null   float64\n",
            " 11  SCC                             2111 non-null   object \n",
            " 12  FAF                             2111 non-null   float64\n",
            " 13  TUE                             2111 non-null   float64\n",
            " 14  CALC                            2111 non-null   object \n",
            " 15  MTRANS                          2111 non-null   object \n",
            " 16  NObeyesdad                      2111 non-null   object \n",
            "dtypes: float64(8), object(9)\n",
            "memory usage: 280.5+ KB\n"
          ]
        }
      ],
      "source": [
        "df.info()"
      ]
    },
    {
      "cell_type": "markdown",
      "id": "c777e7b0",
      "metadata": {
        "id": "c777e7b0"
      },
      "source": [
        "## Statistical Description"
      ]
    },
    {
      "cell_type": "code",
      "execution_count": null,
      "id": "9e17784e",
      "metadata": {
        "ExecuteTime": {
          "end_time": "2021-12-11T11:44:32.490744Z",
          "start_time": "2021-12-11T11:44:32.416741Z"
        },
        "id": "9e17784e",
        "outputId": "e1ba6508-61c2-4e38-b59a-14fa7e1916a8"
      },
      "outputs": [
        {
          "data": {
            "text/html": [
              "<div>\n",
              "<style scoped>\n",
              "    .dataframe tbody tr th:only-of-type {\n",
              "        vertical-align: middle;\n",
              "    }\n",
              "\n",
              "    .dataframe tbody tr th {\n",
              "        vertical-align: top;\n",
              "    }\n",
              "\n",
              "    .dataframe thead th {\n",
              "        text-align: right;\n",
              "    }\n",
              "</style>\n",
              "<table border=\"1\" class=\"dataframe\">\n",
              "  <thead>\n",
              "    <tr style=\"text-align: right;\">\n",
              "      <th></th>\n",
              "      <th>Age</th>\n",
              "      <th>Height</th>\n",
              "      <th>Weight</th>\n",
              "      <th>FCVC</th>\n",
              "      <th>NCP</th>\n",
              "      <th>CH2O</th>\n",
              "      <th>FAF</th>\n",
              "      <th>TUE</th>\n",
              "    </tr>\n",
              "  </thead>\n",
              "  <tbody>\n",
              "    <tr>\n",
              "      <th>count</th>\n",
              "      <td>2111.000000</td>\n",
              "      <td>2111.000000</td>\n",
              "      <td>2111.000000</td>\n",
              "      <td>2111.000000</td>\n",
              "      <td>2111.000000</td>\n",
              "      <td>2111.000000</td>\n",
              "      <td>2111.000000</td>\n",
              "      <td>2111.000000</td>\n",
              "    </tr>\n",
              "    <tr>\n",
              "      <th>mean</th>\n",
              "      <td>24.312600</td>\n",
              "      <td>1.701677</td>\n",
              "      <td>86.586058</td>\n",
              "      <td>2.419043</td>\n",
              "      <td>2.685628</td>\n",
              "      <td>2.008011</td>\n",
              "      <td>1.010298</td>\n",
              "      <td>0.657866</td>\n",
              "    </tr>\n",
              "    <tr>\n",
              "      <th>std</th>\n",
              "      <td>6.345968</td>\n",
              "      <td>0.093305</td>\n",
              "      <td>26.191172</td>\n",
              "      <td>0.533927</td>\n",
              "      <td>0.778039</td>\n",
              "      <td>0.612953</td>\n",
              "      <td>0.850592</td>\n",
              "      <td>0.608927</td>\n",
              "    </tr>\n",
              "    <tr>\n",
              "      <th>min</th>\n",
              "      <td>14.000000</td>\n",
              "      <td>1.450000</td>\n",
              "      <td>39.000000</td>\n",
              "      <td>1.000000</td>\n",
              "      <td>1.000000</td>\n",
              "      <td>1.000000</td>\n",
              "      <td>0.000000</td>\n",
              "      <td>0.000000</td>\n",
              "    </tr>\n",
              "    <tr>\n",
              "      <th>25%</th>\n",
              "      <td>19.947192</td>\n",
              "      <td>1.630000</td>\n",
              "      <td>65.473343</td>\n",
              "      <td>2.000000</td>\n",
              "      <td>2.658738</td>\n",
              "      <td>1.584812</td>\n",
              "      <td>0.124505</td>\n",
              "      <td>0.000000</td>\n",
              "    </tr>\n",
              "    <tr>\n",
              "      <th>50%</th>\n",
              "      <td>22.777890</td>\n",
              "      <td>1.700499</td>\n",
              "      <td>83.000000</td>\n",
              "      <td>2.385502</td>\n",
              "      <td>3.000000</td>\n",
              "      <td>2.000000</td>\n",
              "      <td>1.000000</td>\n",
              "      <td>0.625350</td>\n",
              "    </tr>\n",
              "    <tr>\n",
              "      <th>75%</th>\n",
              "      <td>26.000000</td>\n",
              "      <td>1.768464</td>\n",
              "      <td>107.430682</td>\n",
              "      <td>3.000000</td>\n",
              "      <td>3.000000</td>\n",
              "      <td>2.477420</td>\n",
              "      <td>1.666678</td>\n",
              "      <td>1.000000</td>\n",
              "    </tr>\n",
              "    <tr>\n",
              "      <th>max</th>\n",
              "      <td>61.000000</td>\n",
              "      <td>1.980000</td>\n",
              "      <td>173.000000</td>\n",
              "      <td>3.000000</td>\n",
              "      <td>4.000000</td>\n",
              "      <td>3.000000</td>\n",
              "      <td>3.000000</td>\n",
              "      <td>2.000000</td>\n",
              "    </tr>\n",
              "  </tbody>\n",
              "</table>\n",
              "</div>"
            ],
            "text/plain": [
              "               Age       Height       Weight         FCVC          NCP  \\\n",
              "count  2111.000000  2111.000000  2111.000000  2111.000000  2111.000000   \n",
              "mean     24.312600     1.701677    86.586058     2.419043     2.685628   \n",
              "std       6.345968     0.093305    26.191172     0.533927     0.778039   \n",
              "min      14.000000     1.450000    39.000000     1.000000     1.000000   \n",
              "25%      19.947192     1.630000    65.473343     2.000000     2.658738   \n",
              "50%      22.777890     1.700499    83.000000     2.385502     3.000000   \n",
              "75%      26.000000     1.768464   107.430682     3.000000     3.000000   \n",
              "max      61.000000     1.980000   173.000000     3.000000     4.000000   \n",
              "\n",
              "              CH2O          FAF          TUE  \n",
              "count  2111.000000  2111.000000  2111.000000  \n",
              "mean      2.008011     1.010298     0.657866  \n",
              "std       0.612953     0.850592     0.608927  \n",
              "min       1.000000     0.000000     0.000000  \n",
              "25%       1.584812     0.124505     0.000000  \n",
              "50%       2.000000     1.000000     0.625350  \n",
              "75%       2.477420     1.666678     1.000000  \n",
              "max       3.000000     3.000000     2.000000  "
            ]
          },
          "execution_count": 11,
          "metadata": {},
          "output_type": "execute_result"
        }
      ],
      "source": [
        "df.describe()"
      ]
    },
    {
      "cell_type": "markdown",
      "id": "a242ca6d",
      "metadata": {
        "id": "a242ca6d"
      },
      "source": [
        "# Analysis & Visualization of Features"
      ]
    },
    {
      "cell_type": "markdown",
      "id": "d0e05a4c",
      "metadata": {
        "id": "d0e05a4c"
      },
      "source": [
        "## Age"
      ]
    },
    {
      "cell_type": "markdown",
      "id": "05a17395",
      "metadata": {
        "id": "05a17395"
      },
      "source": [
        "How many times each age appears in the column"
      ]
    },
    {
      "cell_type": "code",
      "execution_count": null,
      "id": "772ba006",
      "metadata": {
        "ExecuteTime": {
          "end_time": "2021-12-11T11:44:32.521995Z",
          "start_time": "2021-12-11T11:44:32.494366Z"
        },
        "id": "772ba006",
        "outputId": "417ca718-2a02-48cf-bf6a-e0685b907e25"
      },
      "outputs": [
        {
          "data": {
            "text/plain": [
              "18.000000    128\n",
              "26.000000    101\n",
              "21.000000     96\n",
              "23.000000     89\n",
              "19.000000     59\n",
              "20.000000     48\n",
              "22.000000     39\n",
              "17.000000     30\n",
              "24.000000     18\n",
              "25.000000     16\n",
              "27.000000     14\n",
              "33.000000     13\n",
              "29.000000     11\n",
              "16.000000      9\n",
              "30.000000      8\n",
              "41.000000      7\n",
              "38.000000      7\n",
              "40.000000      6\n",
              "34.000000      5\n",
              "31.000000      4\n",
              "45.000000      3\n",
              "36.000000      3\n",
              "39.000000      3\n",
              "32.000000      3\n",
              "37.000000      3\n",
              "35.000000      3\n",
              "16.306870      2\n",
              "21.811190      2\n",
              "25.930376      2\n",
              "25.783865      2\n",
              "Name: Age, dtype: int64"
            ]
          },
          "execution_count": 12,
          "metadata": {},
          "output_type": "execute_result"
        }
      ],
      "source": [
        "df['Age'].value_counts().head(30)#shows how many times each item appears in the column"
      ]
    },
    {
      "cell_type": "code",
      "execution_count": null,
      "id": "92be06f0",
      "metadata": {
        "ExecuteTime": {
          "end_time": "2021-12-11T11:44:33.006646Z",
          "start_time": "2021-12-11T11:44:32.527742Z"
        },
        "id": "92be06f0",
        "outputId": "ec92f6ac-fdde-4c2f-bf29-f5059fe483af"
      },
      "outputs": [
        {
          "data": {
            "image/png": "[encoded data removed]",
            "text/plain": [
              "<Figure size 1296x576 with 1 Axes>"
            ]
          },
          "metadata": {},
          "output_type": "display_data"
        }
      ],
      "source": [
        "histAge = df[\"Age\"].hist(bins=5)"
      ]
    },
    {
      "cell_type": "markdown",
      "id": "26ee5aa0",
      "metadata": {
        "id": "26ee5aa0"
      },
      "source": [
        "## Gender"
      ]
    },
    {
      "cell_type": "markdown",
      "id": "f803f6e7",
      "metadata": {
        "id": "f803f6e7"
      },
      "source": [
        "The dataset contains 1068 Male and 1043 Female participants"
      ]
    },
    {
      "cell_type": "code",
      "execution_count": null,
      "id": "ed671c28",
      "metadata": {
        "ExecuteTime": {
          "end_time": "2021-12-11T11:44:33.037087Z",
          "start_time": "2021-12-11T11:44:33.011089Z"
        },
        "id": "ed671c28",
        "outputId": "df742eca-90b6-4e48-cd32-15789a5f6c07"
      },
      "outputs": [
        {
          "data": {
            "text/plain": [
              "Male      1068\n",
              "Female    1043\n",
              "Name: Gender, dtype: int64"
            ]
          },
          "execution_count": 14,
          "metadata": {},
          "output_type": "execute_result"
        }
      ],
      "source": [
        "df['Gender'].value_counts()#shows how many times each item appears in the column"
      ]
    },
    {
      "cell_type": "markdown",
      "id": "71e9dded",
      "metadata": {
        "id": "71e9dded"
      },
      "source": [
        "As shown in the graph, genders are fairly balanced"
      ]
    },
    {
      "cell_type": "code",
      "execution_count": null,
      "id": "eda4ec1b",
      "metadata": {
        "ExecuteTime": {
          "end_time": "2021-12-11T11:44:33.410776Z",
          "start_time": "2021-12-11T11:44:33.040089Z"
        },
        "id": "eda4ec1b",
        "outputId": "4e046f98-6f81-4d51-bc96-dd51d414c681"
      },
      "outputs": [
        {
          "data": {
            "text/plain": [
              "<matplotlib.legend.Legend at 0x1fc0092b490>"
            ]
          },
          "execution_count": 15,
          "metadata": {},
          "output_type": "execute_result"
        },
        {
          "data": {
            "image/png": "[encoded data removed]",
            "text/plain": [
              "<Figure size 360x360 with 1 Axes>"
            ]
          },
          "metadata": {},
          "output_type": "display_data"
        }
      ],
      "source": [
        "sns.set(rc={'figure.figsize':(5,5)})\n",
        "sns.countplot(x='Gender',  hue='Gender', data=df).legend(loc='lower right')"
      ]
    },
    {
      "cell_type": "markdown",
      "id": "0634173b",
      "metadata": {
        "id": "0634173b"
      },
      "source": [
        "## Family History With Overweight"
      ]
    },
    {
      "cell_type": "markdown",
      "id": "d979c3c9",
      "metadata": {
        "id": "d979c3c9"
      },
      "source": [
        "1726 participants have a family history with overweight people, while 385 participants don't"
      ]
    },
    {
      "cell_type": "code",
      "execution_count": null,
      "id": "9c605283",
      "metadata": {
        "ExecuteTime": {
          "end_time": "2021-12-11T11:44:33.427030Z",
          "start_time": "2021-12-11T11:44:33.413780Z"
        },
        "id": "9c605283",
        "outputId": "c2919a44-905a-408b-9544-db76c5a6d1d2"
      },
      "outputs": [
        {
          "data": {
            "text/plain": [
              "yes    1726\n",
              "no      385\n",
              "Name: family_history_with_overweight, dtype: int64"
            ]
          },
          "execution_count": 16,
          "metadata": {},
          "output_type": "execute_result"
        }
      ],
      "source": [
        "df['family_history_with_overweight'].value_counts() #shows how many times each item appears in the column"
      ]
    },
    {
      "cell_type": "markdown",
      "id": "fb3f2fc0",
      "metadata": {
        "id": "fb3f2fc0"
      },
      "source": [
        "The graph shows that the dataset is skewed towards people who have a family history with overweight people"
      ]
    },
    {
      "cell_type": "code",
      "execution_count": null,
      "id": "76851e98",
      "metadata": {
        "ExecuteTime": {
          "end_time": "2021-12-11T11:44:33.862777Z",
          "start_time": "2021-12-11T11:44:33.431778Z"
        },
        "id": "76851e98",
        "outputId": "1ac2521d-67fd-45a1-807b-ac01d643a405"
      },
      "outputs": [
        {
          "data": {
            "text/plain": [
              "<matplotlib.legend.Legend at 0x1fc00869130>"
            ]
          },
          "execution_count": 17,
          "metadata": {},
          "output_type": "execute_result"
        },
        {
          "data": {
            "image/png": "[encoded data removed]",
            "text/plain": [
              "<Figure size 360x360 with 1 Axes>"
            ]
          },
          "metadata": {},
          "output_type": "display_data"
        }
      ],
      "source": [
        "sns.set(rc={'figure.figsize':(5,5)})\n",
        "sns.countplot(x='family_history_with_overweight',  hue='family_history_with_overweight', data=df).legend(loc='upper right')"
      ]
    },
    {
      "cell_type": "markdown",
      "id": "c6508dad",
      "metadata": {
        "id": "c6508dad"
      },
      "source": [
        "## FAVC: Frequent consumption of high caloric food\n"
      ]
    },
    {
      "cell_type": "markdown",
      "id": "28beec30",
      "metadata": {
        "id": "28beec30"
      },
      "source": [
        "1866 participants consume foods with high calories, while 245 participants don't"
      ]
    },
    {
      "cell_type": "code",
      "execution_count": null,
      "id": "78d25bb2",
      "metadata": {
        "ExecuteTime": {
          "end_time": "2021-12-11T11:44:33.878883Z",
          "start_time": "2021-12-11T11:44:33.866780Z"
        },
        "id": "78d25bb2",
        "outputId": "2a062fc6-4d2c-4f26-b96a-4831bae07283"
      },
      "outputs": [
        {
          "data": {
            "text/plain": [
              "yes    1866\n",
              "no      245\n",
              "Name: FAVC, dtype: int64"
            ]
          },
          "execution_count": 18,
          "metadata": {},
          "output_type": "execute_result"
        }
      ],
      "source": [
        "df['FAVC'].value_counts() #shows how many times each item appears in the column"
      ]
    },
    {
      "cell_type": "code",
      "execution_count": null,
      "id": "15abfe72",
      "metadata": {
        "ExecuteTime": {
          "end_time": "2021-12-11T11:44:34.421776Z",
          "start_time": "2021-12-11T11:44:33.882779Z"
        },
        "id": "15abfe72",
        "outputId": "8153bd5b-a477-43c9-cf1a-da6e800fe9f8"
      },
      "outputs": [
        {
          "data": {
            "text/plain": [
              "<matplotlib.legend.Legend at 0x1fc0099b430>"
            ]
          },
          "execution_count": 19,
          "metadata": {},
          "output_type": "execute_result"
        },
        {
          "data": {
            "image/png": "[encoded data removed]",
            "text/plain": [
              "<Figure size 360x360 with 1 Axes>"
            ]
          },
          "metadata": {},
          "output_type": "display_data"
        }
      ],
      "source": [
        "sns.set(rc={'figure.figsize':(5,5)})\n",
        "sns.countplot(x='FAVC',  hue='FAVC', data=df).legend(loc='lower right')"
      ]
    },
    {
      "cell_type": "markdown",
      "id": "0571fff9",
      "metadata": {
        "id": "0571fff9"
      },
      "source": [
        "## FCVC:Frequent consumption of vegetables"
      ]
    },
    {
      "cell_type": "markdown",
      "id": "f3cf2e21",
      "metadata": {
        "id": "f3cf2e21"
      },
      "source": [
        "The majority of participants are either moderate or frequent consumers of vegetables"
      ]
    },
    {
      "cell_type": "code",
      "execution_count": null,
      "id": "202c3d4a",
      "metadata": {
        "ExecuteTime": {
          "end_time": "2021-12-11T11:44:34.809147Z",
          "start_time": "2021-12-11T11:44:34.424781Z"
        },
        "id": "202c3d4a",
        "outputId": "8389806f-d1bc-4e3c-b30f-c5caac43a395"
      },
      "outputs": [
        {
          "data": {
            "image/png": "[encoded data removed]",
            "text/plain": [
              "<Figure size 360x360 with 1 Axes>"
            ]
          },
          "metadata": {},
          "output_type": "display_data"
        }
      ],
      "source": [
        "histFCVC = df[\"FCVC\"].hist(bins=4)"
      ]
    },
    {
      "cell_type": "markdown",
      "id": "1057c65f",
      "metadata": {
        "id": "1057c65f"
      },
      "source": [
        "## NCP: Number of main meals "
      ]
    },
    {
      "cell_type": "markdown",
      "id": "e7a96b52",
      "metadata": {
        "id": "e7a96b52"
      },
      "source": [
        "Most participants consume more than 3 meals a day"
      ]
    },
    {
      "cell_type": "code",
      "execution_count": null,
      "id": "ec6e7525",
      "metadata": {
        "ExecuteTime": {
          "end_time": "2021-12-11T11:44:35.305147Z",
          "start_time": "2021-12-11T11:44:34.815172Z"
        },
        "id": "ec6e7525",
        "outputId": "114ffb22-11b1-45f7-dce4-f59282da39b3"
      },
      "outputs": [
        {
          "data": {
            "image/png": "[encoded data removed]",
            "text/plain": [
              "<Figure size 360x360 with 1 Axes>"
            ]
          },
          "metadata": {},
          "output_type": "display_data"
        }
      ],
      "source": [
        "histNCP = df[\"NCP\"].hist(bins=6)"
      ]
    },
    {
      "cell_type": "markdown",
      "id": "477c04fa",
      "metadata": {
        "id": "477c04fa"
      },
      "source": [
        "## CAEC: Consumption of food between meals"
      ]
    },
    {
      "cell_type": "code",
      "execution_count": null,
      "id": "b7834ea9",
      "metadata": {
        "ExecuteTime": {
          "end_time": "2021-12-11T11:44:35.337189Z",
          "start_time": "2021-12-11T11:44:35.308149Z"
        },
        "id": "b7834ea9",
        "outputId": "173bb59f-6f98-4ba0-d50a-3516433b1b4a"
      },
      "outputs": [
        {
          "data": {
            "text/plain": [
              "Sometimes     1765\n",
              "Frequently     242\n",
              "Always          53\n",
              "no              51\n",
              "Name: CAEC, dtype: int64"
            ]
          },
          "execution_count": 22,
          "metadata": {},
          "output_type": "execute_result"
        }
      ],
      "source": [
        "df['CAEC'].value_counts() #shows how many times each item appears in the column"
      ]
    },
    {
      "cell_type": "markdown",
      "id": "e81df509",
      "metadata": {
        "id": "e81df509"
      },
      "source": [
        "The majority of participants are moderate to frequent consumers of food between meals"
      ]
    },
    {
      "cell_type": "code",
      "execution_count": null,
      "id": "873fd11c",
      "metadata": {
        "ExecuteTime": {
          "end_time": "2021-12-11T11:44:36.022149Z",
          "start_time": "2021-12-11T11:44:35.341147Z"
        },
        "id": "873fd11c",
        "outputId": "1bc83efc-003a-4cad-9434-b1c9d1c811bf"
      },
      "outputs": [
        {
          "data": {
            "text/plain": [
              "<matplotlib.legend.Legend at 0x1fc00aecc10>"
            ]
          },
          "execution_count": 23,
          "metadata": {},
          "output_type": "execute_result"
        },
        {
          "data": {
            "image/png": "[encoded data removed]",
            "text/plain": [
              "<Figure size 360x360 with 1 Axes>"
            ]
          },
          "metadata": {},
          "output_type": "display_data"
        }
      ],
      "source": [
        "sns.set(rc={'figure.figsize':(5,5)})\n",
        "sns.countplot(x='CAEC',  hue='CAEC', data=df).legend(loc='upper right')"
      ]
    },
    {
      "cell_type": "markdown",
      "id": "f876fa72",
      "metadata": {
        "id": "f876fa72"
      },
      "source": [
        "## Smoke"
      ]
    },
    {
      "cell_type": "code",
      "execution_count": null,
      "id": "c4f3a8ce",
      "metadata": {
        "ExecuteTime": {
          "end_time": "2021-12-11T11:44:36.038250Z",
          "start_time": "2021-12-11T11:44:36.025150Z"
        },
        "id": "c4f3a8ce",
        "outputId": "17ec4ade-b811-4522-99fb-44903c2b9287"
      },
      "outputs": [
        {
          "data": {
            "text/plain": [
              "no     2067\n",
              "yes      44\n",
              "Name: SMOKE, dtype: int64"
            ]
          },
          "execution_count": 24,
          "metadata": {},
          "output_type": "execute_result"
        }
      ],
      "source": [
        "df['SMOKE'].value_counts() #shows how many times each item appears in the column"
      ]
    },
    {
      "cell_type": "markdown",
      "id": "3e2875e8",
      "metadata": {
        "id": "3e2875e8"
      },
      "source": [
        "Smokers are a minority of the participants, most of which are male"
      ]
    },
    {
      "cell_type": "code",
      "execution_count": null,
      "id": "fb6e4014",
      "metadata": {
        "ExecuteTime": {
          "end_time": "2021-12-11T11:44:36.569149Z",
          "start_time": "2021-12-11T11:44:36.042270Z"
        },
        "id": "fb6e4014",
        "outputId": "bfc77eeb-3f11-4f9a-e3eb-f019a993948c"
      },
      "outputs": [
        {
          "data": {
            "text/plain": [
              "<matplotlib.legend.Legend at 0x1fc00adb370>"
            ]
          },
          "execution_count": 25,
          "metadata": {},
          "output_type": "execute_result"
        },
        {
          "data": {
            "image/png": "[encoded data removed]",
            "text/plain": [
              "<Figure size 360x360 with 1 Axes>"
            ]
          },
          "metadata": {},
          "output_type": "display_data"
        }
      ],
      "source": [
        "sns.set(rc={'figure.figsize':(5,5)})\n",
        "sns.countplot(x='SMOKE',  hue='SMOKE', data=df).legend(loc='upper right')"
      ]
    },
    {
      "cell_type": "markdown",
      "id": "0e51d42d",
      "metadata": {
        "id": "0e51d42d"
      },
      "source": [
        "### Smoker Count by Gender"
      ]
    },
    {
      "cell_type": "code",
      "execution_count": null,
      "id": "735ea184",
      "metadata": {
        "ExecuteTime": {
          "end_time": "2021-12-11T11:44:36.990857Z",
          "start_time": "2021-12-11T11:44:36.572151Z"
        },
        "id": "735ea184",
        "outputId": "a72f3ee0-d1ba-4cde-b3c5-9c7c5474f89e"
      },
      "outputs": [
        {
          "data": {
            "image/png": "[encoded data removed]",
            "text/plain": [
              "<Figure size 360x360 with 1 Axes>"
            ]
          },
          "metadata": {},
          "output_type": "display_data"
        }
      ],
      "source": [
        "sns.set(rc={'figure.figsize':(5,5)})\n",
        "smokerCount =sns.countplot(x= \"SMOKE\", hue='Gender', data=df.loc[df['SMOKE'] ==\"yes\"],).legend(loc='upper right')\n",
        "# smokerCount.set(ylabel=\"Smoker Count\")\n",
        "# plt.show()\n"
      ]
    },
    {
      "cell_type": "markdown",
      "id": "e4fda7d0",
      "metadata": {
        "id": "e4fda7d0"
      },
      "source": [
        "## CH2O: Consumption of water daily"
      ]
    },
    {
      "cell_type": "markdown",
      "id": "e1895cf6",
      "metadata": {
        "id": "e1895cf6"
      },
      "source": [
        "Most participants consume more than 2 liters of water daily"
      ]
    },
    {
      "cell_type": "code",
      "execution_count": null,
      "id": "68dbfd8b",
      "metadata": {
        "ExecuteTime": {
          "end_time": "2021-12-11T11:44:37.473901Z",
          "start_time": "2021-12-11T11:44:36.994804Z"
        },
        "id": "68dbfd8b",
        "outputId": "2c2aaefa-ddb9-4085-9265-49dcf9a12ff8"
      },
      "outputs": [
        {
          "data": {
            "image/png": "[encoded data removed]",
            "text/plain": [
              "<Figure size 360x360 with 1 Axes>"
            ]
          },
          "metadata": {},
          "output_type": "display_data"
        }
      ],
      "source": [
        "histCH2O = df[\"CH2O\"].hist(bins=4)"
      ]
    },
    {
      "cell_type": "markdown",
      "id": "f357695e",
      "metadata": {
        "id": "f357695e"
      },
      "source": [
        "## SCC: Calories consumption monitoring"
      ]
    },
    {
      "cell_type": "code",
      "execution_count": null,
      "id": "794c4097",
      "metadata": {
        "ExecuteTime": {
          "end_time": "2021-12-11T11:44:37.504802Z",
          "start_time": "2021-12-11T11:44:37.482805Z"
        },
        "id": "794c4097",
        "outputId": "6e612381-62d2-4a6b-8287-1538651a45b6"
      },
      "outputs": [
        {
          "data": {
            "text/plain": [
              "no     2015\n",
              "yes      96\n",
              "Name: SCC, dtype: int64"
            ]
          },
          "execution_count": 28,
          "metadata": {},
          "output_type": "execute_result"
        }
      ],
      "source": [
        "df['SCC'].value_counts() #shows how many times each item appears in the column"
      ]
    },
    {
      "cell_type": "markdown",
      "id": "5c906ad5",
      "metadata": {
        "id": "5c906ad5"
      },
      "source": [
        "Most people do not monitor their calories consumption"
      ]
    },
    {
      "cell_type": "code",
      "execution_count": null,
      "id": "5496c5cc",
      "metadata": {
        "ExecuteTime": {
          "end_time": "2021-12-11T11:44:37.958856Z",
          "start_time": "2021-12-11T11:44:37.509031Z"
        },
        "id": "5496c5cc",
        "outputId": "063baf89-11d2-4463-956d-6cad588eed00"
      },
      "outputs": [
        {
          "data": {
            "text/plain": [
              "<matplotlib.legend.Legend at 0x1fc00b78130>"
            ]
          },
          "execution_count": 29,
          "metadata": {},
          "output_type": "execute_result"
        },
        {
          "data": {
            "image/png": "[encoded data removed]",
            "text/plain": [
              "<Figure size 360x360 with 1 Axes>"
            ]
          },
          "metadata": {},
          "output_type": "display_data"
        }
      ],
      "source": [
        "sns.set(rc={'figure.figsize':(5,5)})\n",
        "sns.countplot(x='SCC',  hue='SCC', data=df).legend(loc='upper right')"
      ]
    },
    {
      "cell_type": "markdown",
      "id": "272f47de",
      "metadata": {
        "id": "272f47de"
      },
      "source": [
        "### Calories consumption monitoring Used by Gender"
      ]
    },
    {
      "cell_type": "code",
      "execution_count": null,
      "id": "91e44fd1",
      "metadata": {
        "ExecuteTime": {
          "end_time": "2021-12-11T11:44:38.327875Z",
          "start_time": "2021-12-11T11:44:37.961802Z"
        },
        "id": "91e44fd1",
        "outputId": "6a7fcbaa-63af-4f3a-a3fc-9ae0b1a2bd14"
      },
      "outputs": [
        {
          "data": {
            "image/png": "[encoded data removed]",
            "text/plain": [
              "<Figure size 720x576 with 1 Axes>"
            ]
          },
          "metadata": {},
          "output_type": "display_data"
        }
      ],
      "source": [
        "sns.set(rc={'figure.figsize':(10,8)})\n",
        "SCCCount =sns.countplot(x= \"SCC\", hue='Gender', data=df.loc[df['SCC'] ==\"yes\"],).legend(loc='upper right')"
      ]
    },
    {
      "cell_type": "markdown",
      "id": "c78deff4",
      "metadata": {
        "id": "c78deff4"
      },
      "source": [
        "## FAF: Physical activity frequency "
      ]
    },
    {
      "cell_type": "markdown",
      "id": "1cebdb6d",
      "metadata": {
        "id": "1cebdb6d"
      },
      "source": [
        "Most participants don't perform physical activity more than 2 days a week"
      ]
    },
    {
      "cell_type": "code",
      "execution_count": null,
      "id": "2c8b6143",
      "metadata": {
        "ExecuteTime": {
          "end_time": "2021-12-11T11:44:38.836482Z",
          "start_time": "2021-12-11T11:44:38.331517Z"
        },
        "id": "2c8b6143",
        "outputId": "dcedad40-dc01-4a3d-a2fe-7618da42d804"
      },
      "outputs": [
        {
          "data": {
            "image/png": "[encoded data removed]",
            "text/plain": [
              "<Figure size 720x576 with 1 Axes>"
            ]
          },
          "metadata": {},
          "output_type": "display_data"
        }
      ],
      "source": [
        "histFAF = df[\"FAF\"].hist(bins=6)"
      ]
    },
    {
      "cell_type": "markdown",
      "id": "9ee3c36f",
      "metadata": {
        "id": "9ee3c36f"
      },
      "source": [
        "## TUE: Time using technology devices"
      ]
    },
    {
      "cell_type": "markdown",
      "id": "009c768c",
      "metadata": {
        "id": "009c768c"
      },
      "source": [
        "A significant portion of the population uses technology devices for less than 2 hours daily, this might change soon"
      ]
    },
    {
      "cell_type": "code",
      "execution_count": null,
      "id": "c90f489a",
      "metadata": {
        "ExecuteTime": {
          "end_time": "2021-12-11T11:44:39.318482Z",
          "start_time": "2021-12-11T11:44:38.839485Z"
        },
        "id": "c90f489a",
        "outputId": "257bfa01-b1c6-44f5-f1bf-e34798398242"
      },
      "outputs": [
        {
          "data": {
            "image/png": "[encoded data removed]",
            "text/plain": [
              "<Figure size 720x576 with 1 Axes>"
            ]
          },
          "metadata": {},
          "output_type": "display_data"
        }
      ],
      "source": [
        "histTUE = df[\"TUE\"].hist(bins=4)"
      ]
    },
    {
      "cell_type": "markdown",
      "id": "4fb7853e",
      "metadata": {
        "id": "4fb7853e"
      },
      "source": [
        "## CALC: Consumption of Alcohol\n"
      ]
    },
    {
      "cell_type": "code",
      "execution_count": null,
      "id": "3c79e30d",
      "metadata": {
        "ExecuteTime": {
          "end_time": "2021-12-11T11:44:39.333484Z",
          "start_time": "2021-12-11T11:44:39.321485Z"
        },
        "id": "3c79e30d",
        "outputId": "9e443d6c-6be7-4f82-88d8-70ae7e96f9b9"
      },
      "outputs": [
        {
          "data": {
            "text/plain": [
              "Sometimes     1401\n",
              "no             639\n",
              "Frequently      70\n",
              "Always           1\n",
              "Name: CALC, dtype: int64"
            ]
          },
          "execution_count": 33,
          "metadata": {},
          "output_type": "execute_result"
        }
      ],
      "source": [
        "df['CALC'].value_counts()#shows how many times each item appears in the column"
      ]
    },
    {
      "cell_type": "markdown",
      "id": "9a150192",
      "metadata": {
        "id": "9a150192"
      },
      "source": [
        "Most participants are alcohol consumers"
      ]
    },
    {
      "cell_type": "code",
      "execution_count": null,
      "id": "f1f831a4",
      "metadata": {
        "ExecuteTime": {
          "end_time": "2021-12-11T11:44:39.826774Z",
          "start_time": "2021-12-11T11:44:39.337482Z"
        },
        "id": "f1f831a4",
        "outputId": "0ac10030-1f57-4271-daa9-70f68d5a1218"
      },
      "outputs": [
        {
          "data": {
            "text/plain": [
              "<matplotlib.legend.Legend at 0x1fc00c9bdf0>"
            ]
          },
          "execution_count": 34,
          "metadata": {},
          "output_type": "execute_result"
        },
        {
          "data": {
            "image/png": "[encoded data removed]",
            "text/plain": [
              "<Figure size 504x504 with 1 Axes>"
            ]
          },
          "metadata": {},
          "output_type": "display_data"
        }
      ],
      "source": [
        "sns.set(rc={'figure.figsize':(7,7)})\n",
        "sns.countplot(x='CALC',  hue='CALC', data=df).legend(loc='upper right')"
      ]
    },
    {
      "cell_type": "markdown",
      "id": "9e057b62",
      "metadata": {
        "id": "9e057b62"
      },
      "source": [
        "### Consumption of Alcohol by Gender"
      ]
    },
    {
      "cell_type": "code",
      "execution_count": null,
      "id": "a2aacf81",
      "metadata": {
        "ExecuteTime": {
          "end_time": "2021-12-11T11:44:40.341482Z",
          "start_time": "2021-12-11T11:44:39.830631Z"
        },
        "id": "a2aacf81",
        "outputId": "67ab85e4-6551-4173-dd57-9b1a86ff0cde"
      },
      "outputs": [
        {
          "data": {
            "image/png": "[encoded data removed]",
            "text/plain": [
              "<Figure size 576x576 with 1 Axes>"
            ]
          },
          "metadata": {},
          "output_type": "display_data"
        }
      ],
      "source": [
        "sns.set(rc={'figure.figsize':(8,8)})\n",
        "CALCCount =sns.countplot(x= \"Gender\", hue='CALC', data=df,).legend(loc='upper right')"
      ]
    },
    {
      "cell_type": "markdown",
      "id": "ea62d453",
      "metadata": {
        "id": "ea62d453"
      },
      "source": [
        "## MTRANS: Transportation Used"
      ]
    },
    {
      "cell_type": "code",
      "execution_count": null,
      "id": "d3b029d5",
      "metadata": {
        "ExecuteTime": {
          "end_time": "2021-12-11T11:44:40.357485Z",
          "start_time": "2021-12-11T11:44:40.344484Z"
        },
        "id": "d3b029d5",
        "outputId": "98f9ccbc-3860-46bc-834e-2b46f035a918"
      },
      "outputs": [
        {
          "data": {
            "text/plain": [
              "Public_Transportation    1580\n",
              "Automobile                457\n",
              "Walking                    56\n",
              "Motorbike                  11\n",
              "Bike                        7\n",
              "Name: MTRANS, dtype: int64"
            ]
          },
          "execution_count": 36,
          "metadata": {},
          "output_type": "execute_result"
        }
      ],
      "source": [
        "df['MTRANS'].value_counts()#shows how many times each item appears in the colum"
      ]
    },
    {
      "cell_type": "markdown",
      "id": "a71a83ca",
      "metadata": {
        "id": "a71a83ca"
      },
      "source": [
        "Most participants either walk or use public tranportation, allowing for more physical activity. Personal transportaion on the other hand isn't as popular"
      ]
    },
    {
      "cell_type": "code",
      "execution_count": null,
      "id": "00068cdd",
      "metadata": {
        "ExecuteTime": {
          "end_time": "2021-12-11T11:44:41.133688Z",
          "start_time": "2021-12-11T11:44:40.360483Z"
        },
        "id": "00068cdd",
        "outputId": "3a490da8-ce41-493e-d154-bd29b99a7a68"
      },
      "outputs": [
        {
          "data": {
            "text/plain": [
              "<matplotlib.legend.Legend at 0x1fc02674130>"
            ]
          },
          "execution_count": 37,
          "metadata": {},
          "output_type": "execute_result"
        },
        {
          "data": {
            "image/png": "[encoded data removed]",
            "text/plain": [
              "<Figure size 504x504 with 1 Axes>"
            ]
          },
          "metadata": {},
          "output_type": "display_data"
        }
      ],
      "source": [
        "sns.set(rc={'figure.figsize':(7,7)})\n",
        "sns.countplot(x='MTRANS',  hue='MTRANS', data=df).legend(loc='upper right')"
      ]
    },
    {
      "cell_type": "markdown",
      "id": "060751bd",
      "metadata": {
        "id": "060751bd"
      },
      "source": [
        "### Most used Trasportation Methods"
      ]
    },
    {
      "cell_type": "code",
      "execution_count": null,
      "id": "c816cf1e",
      "metadata": {
        "ExecuteTime": {
          "end_time": "2021-12-11T11:44:41.489590Z",
          "start_time": "2021-12-11T11:44:41.137653Z"
        },
        "id": "c816cf1e",
        "outputId": "8a1ca7e8-14b4-4d5a-c517-927a59d9ba2f"
      },
      "outputs": [
        {
          "data": {
            "image/png": "[encoded data removed]",
            "text/plain": [
              "<Figure size 504x504 with 1 Axes>"
            ]
          },
          "metadata": {},
          "output_type": "display_data"
        }
      ],
      "source": [
        "sums = df[\"Age\"].groupby(df[\"MTRANS\"]).count()\n",
        "plt.pie(sums, labels=['','','','',\"\"],);\n",
        "plt.legend(loc=3, labels=sums.index)\n",
        "plt.show()"
      ]
    },
    {
      "cell_type": "markdown",
      "id": "40109739",
      "metadata": {
        "ExecuteTime": {
          "end_time": "2021-11-28T15:17:10.896998Z",
          "start_time": "2021-11-28T15:17:10.892038Z"
        },
        "id": "40109739"
      },
      "source": [
        "### Transportation Used by Gender"
      ]
    },
    {
      "cell_type": "code",
      "execution_count": null,
      "id": "ef61d1ec",
      "metadata": {
        "ExecuteTime": {
          "end_time": "2021-12-11T11:44:41.970643Z",
          "start_time": "2021-12-11T11:44:41.492593Z"
        },
        "id": "ef61d1ec",
        "outputId": "f1394eb1-92b3-4109-ba96-2a83500e7ea7"
      },
      "outputs": [
        {
          "data": {
            "image/png": "[encoded data removed]",
            "text/plain": [
              "<Figure size 720x576 with 1 Axes>"
            ]
          },
          "metadata": {},
          "output_type": "display_data"
        }
      ],
      "source": [
        "sns.set(rc={'figure.figsize':(10,8)})\n",
        "MRTANSCount =sns.countplot(x= \"MTRANS\", hue='Gender', data=df,).legend(loc='upper right')"
      ]
    },
    {
      "cell_type": "markdown",
      "id": "6918f80f",
      "metadata": {
        "id": "6918f80f"
      },
      "source": [
        "## NObeyesdad"
      ]
    },
    {
      "cell_type": "code",
      "execution_count": null,
      "id": "1089bce0",
      "metadata": {
        "ExecuteTime": {
          "end_time": "2021-12-11T11:44:41.985986Z",
          "start_time": "2021-12-11T11:44:41.973596Z"
        },
        "id": "1089bce0",
        "outputId": "cad1adcb-efab-43c7-a3dd-b5e7f37ca095"
      },
      "outputs": [
        {
          "data": {
            "text/plain": [
              "Obesity_Type_I         351\n",
              "Obesity_Type_III       324\n",
              "Obesity_Type_II        297\n",
              "Overweight_Level_I     290\n",
              "Overweight_Level_II    290\n",
              "Normal_Weight          287\n",
              "Insufficient_Weight    272\n",
              "Name: NObeyesdad, dtype: int64"
            ]
          },
          "execution_count": 40,
          "metadata": {},
          "output_type": "execute_result"
        }
      ],
      "source": [
        "df['NObeyesdad'].value_counts()"
      ]
    },
    {
      "cell_type": "code",
      "execution_count": null,
      "id": "68dc089d",
      "metadata": {
        "ExecuteTime": {
          "end_time": "2021-12-11T11:44:42.761188Z",
          "start_time": "2021-12-11T11:44:41.989593Z"
        },
        "id": "68dc089d",
        "outputId": "fa6c7ac9-aa41-44c1-ca93-f6478dd00dba"
      },
      "outputs": [
        {
          "data": {
            "text/plain": [
              "<matplotlib.legend.Legend at 0x1fc00852580>"
            ]
          },
          "execution_count": 41,
          "metadata": {},
          "output_type": "execute_result"
        },
        {
          "data": {
            "image/png": "[encoded data removed]",
            "text/plain": [
              "<Figure size 864x648 with 1 Axes>"
            ]
          },
          "metadata": {},
          "output_type": "display_data"
        }
      ],
      "source": [
        "sns.set(rc={'figure.figsize':(12,9)})\n",
        "sns.countplot(x='NObeyesdad',  hue='NObeyesdad', data=df).legend(loc='lower right')"
      ]
    },
    {
      "cell_type": "markdown",
      "id": "08f4bc98",
      "metadata": {
        "id": "08f4bc98"
      },
      "source": [
        "### Gender Distribution Level by Obesity Level"
      ]
    },
    {
      "cell_type": "code",
      "execution_count": null,
      "id": "fad55d72",
      "metadata": {
        "ExecuteTime": {
          "end_time": "2021-12-11T11:44:43.318550Z",
          "start_time": "2021-12-11T11:44:42.764912Z"
        },
        "id": "fad55d72",
        "outputId": "c82aa6d5-d442-4707-f5f3-6634140b9e0e"
      },
      "outputs": [
        {
          "data": {
            "image/png": "[encoded data removed]",
            "text/plain": [
              "<Figure size 1296x576 with 1 Axes>"
            ]
          },
          "metadata": {},
          "output_type": "display_data"
        }
      ],
      "source": [
        "sns.set(rc={'figure.figsize':(18,8)})\n",
        "smokerCount =sns.countplot(x= \"NObeyesdad\", hue='Gender', data=df,).legend(loc='upper right')"
      ]
    },
    {
      "cell_type": "markdown",
      "id": "d54dbb0c",
      "metadata": {
        "id": "d54dbb0c"
      },
      "source": [
        "### Obesity Level Distribution by Method of Transportation"
      ]
    },
    {
      "cell_type": "code",
      "execution_count": null,
      "id": "a1d2bf27",
      "metadata": {
        "ExecuteTime": {
          "end_time": "2021-12-11T11:43:34.771764Z",
          "start_time": "2021-12-11T11:43:34.279519Z"
        },
        "id": "a1d2bf27",
        "outputId": "ea835901-1283-436c-fe70-9965537ae192"
      },
      "outputs": [
        {
          "data": {
            "image/png": "[encoded data removed]",
            "text/plain": [
              "<Figure size 1296x576 with 1 Axes>"
            ]
          },
          "metadata": {},
          "output_type": "display_data"
        }
      ],
      "source": [
        "sns.set(rc={'figure.figsize':(18,8)})\n",
        "smokerCount =sns.countplot(x= \"MTRANS\", hue='NObeyesdad', data=df,).legend(loc='upper right')"
      ]
    },
    {
      "cell_type": "markdown",
      "id": "243d9877",
      "metadata": {
        "id": "243d9877"
      },
      "source": [
        "# Finding Missing Values"
      ]
    },
    {
      "cell_type": "markdown",
      "id": "9c80df3c",
      "metadata": {
        "id": "9c80df3c"
      },
      "source": [
        "As demonstrated below, the dataset does not contain any missing values, however, upon non-graphical EDA, it has been appearent that there are some entries that are incorrectly formatted"
      ]
    },
    {
      "cell_type": "code",
      "execution_count": null,
      "id": "13c8ecfb",
      "metadata": {
        "ExecuteTime": {
          "end_time": "2021-12-03T14:18:01.120761Z",
          "start_time": "2021-12-03T14:18:01.108777Z"
        },
        "id": "13c8ecfb",
        "outputId": "a1764dcb-0f24-4646-982e-6cfac4672396"
      },
      "outputs": [
        {
          "data": {
            "text/plain": [
              "Gender                            0\n",
              "Age                               0\n",
              "Height                            0\n",
              "Weight                            0\n",
              "family_history_with_overweight    0\n",
              "FAVC                              0\n",
              "FCVC                              0\n",
              "NCP                               0\n",
              "CAEC                              0\n",
              "SMOKE                             0\n",
              "CH2O                              0\n",
              "SCC                               0\n",
              "FAF                               0\n",
              "TUE                               0\n",
              "CALC                              0\n",
              "MTRANS                            0\n",
              "NObeyesdad                        0\n",
              "dtype: int64"
            ]
          },
          "execution_count": 38,
          "metadata": {},
          "output_type": "execute_result"
        }
      ],
      "source": [
        "#For missing Values\n",
        "df.isnull().sum()"
      ]
    },
    {
      "cell_type": "markdown",
      "id": "5bf3643a",
      "metadata": {
        "id": "5bf3643a"
      },
      "source": [
        "# Preprocessing Analysis"
      ]
    },
    {
      "cell_type": "code",
      "execution_count": null,
      "id": "74cd36de",
      "metadata": {
        "ExecuteTime": {
          "end_time": "2021-12-02T14:14:12.991220Z",
          "start_time": "2021-12-02T14:14:12.910868Z"
        },
        "scrolled": true,
        "id": "74cd36de",
        "outputId": "699eee18-4852-4cef-b9c3-8f8bbb1ec347"
      },
      "outputs": [
        {
          "data": {
            "text/html": [
              "<div>\n",
              "<style scoped>\n",
              "    .dataframe tbody tr th:only-of-type {\n",
              "        vertical-align: middle;\n",
              "    }\n",
              "\n",
              "    .dataframe tbody tr th {\n",
              "        vertical-align: top;\n",
              "    }\n",
              "\n",
              "    .dataframe thead th {\n",
              "        text-align: right;\n",
              "    }\n",
              "</style>\n",
              "<table border=\"1\" class=\"dataframe\">\n",
              "  <thead>\n",
              "    <tr style=\"text-align: right;\">\n",
              "      <th></th>\n",
              "      <th>Gender</th>\n",
              "      <th>Age</th>\n",
              "      <th>Height</th>\n",
              "      <th>Weight</th>\n",
              "      <th>family_history_with_overweight</th>\n",
              "      <th>FAVC</th>\n",
              "      <th>FCVC</th>\n",
              "      <th>NCP</th>\n",
              "      <th>CAEC</th>\n",
              "      <th>SMOKE</th>\n",
              "      <th>CH2O</th>\n",
              "      <th>SCC</th>\n",
              "      <th>FAF</th>\n",
              "      <th>TUE</th>\n",
              "      <th>CALC</th>\n",
              "      <th>MTRANS</th>\n",
              "      <th>NObeyesdad</th>\n",
              "    </tr>\n",
              "  </thead>\n",
              "  <tbody>\n",
              "    <tr>\n",
              "      <th>0</th>\n",
              "      <td>Female</td>\n",
              "      <td>21.0</td>\n",
              "      <td>1.62</td>\n",
              "      <td>64.0</td>\n",
              "      <td>yes</td>\n",
              "      <td>no</td>\n",
              "      <td>2.0</td>\n",
              "      <td>3.0</td>\n",
              "      <td>Sometimes</td>\n",
              "      <td>no</td>\n",
              "      <td>2.0</td>\n",
              "      <td>no</td>\n",
              "      <td>0.0</td>\n",
              "      <td>1.0</td>\n",
              "      <td>no</td>\n",
              "      <td>Public_Transportation</td>\n",
              "      <td>Normal_Weight</td>\n",
              "    </tr>\n",
              "    <tr>\n",
              "      <th>1</th>\n",
              "      <td>Female</td>\n",
              "      <td>21.0</td>\n",
              "      <td>1.52</td>\n",
              "      <td>56.0</td>\n",
              "      <td>yes</td>\n",
              "      <td>no</td>\n",
              "      <td>3.0</td>\n",
              "      <td>3.0</td>\n",
              "      <td>Sometimes</td>\n",
              "      <td>yes</td>\n",
              "      <td>3.0</td>\n",
              "      <td>yes</td>\n",
              "      <td>3.0</td>\n",
              "      <td>0.0</td>\n",
              "      <td>Sometimes</td>\n",
              "      <td>Public_Transportation</td>\n",
              "      <td>Normal_Weight</td>\n",
              "    </tr>\n",
              "    <tr>\n",
              "      <th>2</th>\n",
              "      <td>Male</td>\n",
              "      <td>23.0</td>\n",
              "      <td>1.80</td>\n",
              "      <td>77.0</td>\n",
              "      <td>yes</td>\n",
              "      <td>no</td>\n",
              "      <td>2.0</td>\n",
              "      <td>3.0</td>\n",
              "      <td>Sometimes</td>\n",
              "      <td>no</td>\n",
              "      <td>2.0</td>\n",
              "      <td>no</td>\n",
              "      <td>2.0</td>\n",
              "      <td>1.0</td>\n",
              "      <td>Frequently</td>\n",
              "      <td>Public_Transportation</td>\n",
              "      <td>Normal_Weight</td>\n",
              "    </tr>\n",
              "    <tr>\n",
              "      <th>3</th>\n",
              "      <td>Male</td>\n",
              "      <td>27.0</td>\n",
              "      <td>1.80</td>\n",
              "      <td>87.0</td>\n",
              "      <td>no</td>\n",
              "      <td>no</td>\n",
              "      <td>3.0</td>\n",
              "      <td>3.0</td>\n",
              "      <td>Sometimes</td>\n",
              "      <td>no</td>\n",
              "      <td>2.0</td>\n",
              "      <td>no</td>\n",
              "      <td>2.0</td>\n",
              "      <td>0.0</td>\n",
              "      <td>Frequently</td>\n",
              "      <td>Walking</td>\n",
              "      <td>Overweight_Level_I</td>\n",
              "    </tr>\n",
              "    <tr>\n",
              "      <th>4</th>\n",
              "      <td>Male</td>\n",
              "      <td>22.0</td>\n",
              "      <td>1.78</td>\n",
              "      <td>89.8</td>\n",
              "      <td>no</td>\n",
              "      <td>no</td>\n",
              "      <td>2.0</td>\n",
              "      <td>1.0</td>\n",
              "      <td>Sometimes</td>\n",
              "      <td>no</td>\n",
              "      <td>2.0</td>\n",
              "      <td>no</td>\n",
              "      <td>0.0</td>\n",
              "      <td>0.0</td>\n",
              "      <td>Sometimes</td>\n",
              "      <td>Public_Transportation</td>\n",
              "      <td>Overweight_Level_II</td>\n",
              "    </tr>\n",
              "    <tr>\n",
              "      <th>5</th>\n",
              "      <td>Male</td>\n",
              "      <td>29.0</td>\n",
              "      <td>1.62</td>\n",
              "      <td>53.0</td>\n",
              "      <td>no</td>\n",
              "      <td>yes</td>\n",
              "      <td>2.0</td>\n",
              "      <td>3.0</td>\n",
              "      <td>Sometimes</td>\n",
              "      <td>no</td>\n",
              "      <td>2.0</td>\n",
              "      <td>no</td>\n",
              "      <td>0.0</td>\n",
              "      <td>0.0</td>\n",
              "      <td>Sometimes</td>\n",
              "      <td>Automobile</td>\n",
              "      <td>Normal_Weight</td>\n",
              "    </tr>\n",
              "    <tr>\n",
              "      <th>6</th>\n",
              "      <td>Female</td>\n",
              "      <td>23.0</td>\n",
              "      <td>1.50</td>\n",
              "      <td>55.0</td>\n",
              "      <td>yes</td>\n",
              "      <td>yes</td>\n",
              "      <td>3.0</td>\n",
              "      <td>3.0</td>\n",
              "      <td>Sometimes</td>\n",
              "      <td>no</td>\n",
              "      <td>2.0</td>\n",
              "      <td>no</td>\n",
              "      <td>1.0</td>\n",
              "      <td>0.0</td>\n",
              "      <td>Sometimes</td>\n",
              "      <td>Motorbike</td>\n",
              "      <td>Normal_Weight</td>\n",
              "    </tr>\n",
              "    <tr>\n",
              "      <th>7</th>\n",
              "      <td>Male</td>\n",
              "      <td>22.0</td>\n",
              "      <td>1.64</td>\n",
              "      <td>53.0</td>\n",
              "      <td>no</td>\n",
              "      <td>no</td>\n",
              "      <td>2.0</td>\n",
              "      <td>3.0</td>\n",
              "      <td>Sometimes</td>\n",
              "      <td>no</td>\n",
              "      <td>2.0</td>\n",
              "      <td>no</td>\n",
              "      <td>3.0</td>\n",
              "      <td>0.0</td>\n",
              "      <td>Sometimes</td>\n",
              "      <td>Public_Transportation</td>\n",
              "      <td>Normal_Weight</td>\n",
              "    </tr>\n",
              "    <tr>\n",
              "      <th>8</th>\n",
              "      <td>Male</td>\n",
              "      <td>24.0</td>\n",
              "      <td>1.78</td>\n",
              "      <td>64.0</td>\n",
              "      <td>yes</td>\n",
              "      <td>yes</td>\n",
              "      <td>3.0</td>\n",
              "      <td>3.0</td>\n",
              "      <td>Sometimes</td>\n",
              "      <td>no</td>\n",
              "      <td>2.0</td>\n",
              "      <td>no</td>\n",
              "      <td>1.0</td>\n",
              "      <td>1.0</td>\n",
              "      <td>Frequently</td>\n",
              "      <td>Public_Transportation</td>\n",
              "      <td>Normal_Weight</td>\n",
              "    </tr>\n",
              "    <tr>\n",
              "      <th>9</th>\n",
              "      <td>Male</td>\n",
              "      <td>22.0</td>\n",
              "      <td>1.72</td>\n",
              "      <td>68.0</td>\n",
              "      <td>yes</td>\n",
              "      <td>yes</td>\n",
              "      <td>2.0</td>\n",
              "      <td>3.0</td>\n",
              "      <td>Sometimes</td>\n",
              "      <td>no</td>\n",
              "      <td>2.0</td>\n",
              "      <td>no</td>\n",
              "      <td>1.0</td>\n",
              "      <td>1.0</td>\n",
              "      <td>no</td>\n",
              "      <td>Public_Transportation</td>\n",
              "      <td>Normal_Weight</td>\n",
              "    </tr>\n",
              "    <tr>\n",
              "      <th>10</th>\n",
              "      <td>Male</td>\n",
              "      <td>26.0</td>\n",
              "      <td>1.85</td>\n",
              "      <td>105.0</td>\n",
              "      <td>yes</td>\n",
              "      <td>yes</td>\n",
              "      <td>3.0</td>\n",
              "      <td>3.0</td>\n",
              "      <td>Frequently</td>\n",
              "      <td>no</td>\n",
              "      <td>3.0</td>\n",
              "      <td>no</td>\n",
              "      <td>2.0</td>\n",
              "      <td>2.0</td>\n",
              "      <td>Sometimes</td>\n",
              "      <td>Public_Transportation</td>\n",
              "      <td>Obesity_Type_I</td>\n",
              "    </tr>\n",
              "    <tr>\n",
              "      <th>11</th>\n",
              "      <td>Female</td>\n",
              "      <td>21.0</td>\n",
              "      <td>1.72</td>\n",
              "      <td>80.0</td>\n",
              "      <td>yes</td>\n",
              "      <td>yes</td>\n",
              "      <td>2.0</td>\n",
              "      <td>3.0</td>\n",
              "      <td>Frequently</td>\n",
              "      <td>no</td>\n",
              "      <td>2.0</td>\n",
              "      <td>yes</td>\n",
              "      <td>2.0</td>\n",
              "      <td>1.0</td>\n",
              "      <td>Sometimes</td>\n",
              "      <td>Public_Transportation</td>\n",
              "      <td>Overweight_Level_II</td>\n",
              "    </tr>\n",
              "    <tr>\n",
              "      <th>12</th>\n",
              "      <td>Male</td>\n",
              "      <td>22.0</td>\n",
              "      <td>1.65</td>\n",
              "      <td>56.0</td>\n",
              "      <td>no</td>\n",
              "      <td>no</td>\n",
              "      <td>3.0</td>\n",
              "      <td>3.0</td>\n",
              "      <td>Sometimes</td>\n",
              "      <td>no</td>\n",
              "      <td>3.0</td>\n",
              "      <td>no</td>\n",
              "      <td>2.0</td>\n",
              "      <td>0.0</td>\n",
              "      <td>Sometimes</td>\n",
              "      <td>Public_Transportation</td>\n",
              "      <td>Normal_Weight</td>\n",
              "    </tr>\n",
              "    <tr>\n",
              "      <th>13</th>\n",
              "      <td>Male</td>\n",
              "      <td>41.0</td>\n",
              "      <td>1.80</td>\n",
              "      <td>99.0</td>\n",
              "      <td>no</td>\n",
              "      <td>yes</td>\n",
              "      <td>2.0</td>\n",
              "      <td>3.0</td>\n",
              "      <td>Sometimes</td>\n",
              "      <td>no</td>\n",
              "      <td>2.0</td>\n",
              "      <td>no</td>\n",
              "      <td>2.0</td>\n",
              "      <td>1.0</td>\n",
              "      <td>Frequently</td>\n",
              "      <td>Automobile</td>\n",
              "      <td>Obesity_Type_I</td>\n",
              "    </tr>\n",
              "    <tr>\n",
              "      <th>14</th>\n",
              "      <td>Male</td>\n",
              "      <td>23.0</td>\n",
              "      <td>1.77</td>\n",
              "      <td>60.0</td>\n",
              "      <td>yes</td>\n",
              "      <td>yes</td>\n",
              "      <td>3.0</td>\n",
              "      <td>1.0</td>\n",
              "      <td>Sometimes</td>\n",
              "      <td>no</td>\n",
              "      <td>1.0</td>\n",
              "      <td>no</td>\n",
              "      <td>1.0</td>\n",
              "      <td>1.0</td>\n",
              "      <td>Sometimes</td>\n",
              "      <td>Public_Transportation</td>\n",
              "      <td>Normal_Weight</td>\n",
              "    </tr>\n",
              "    <tr>\n",
              "      <th>15</th>\n",
              "      <td>Female</td>\n",
              "      <td>22.0</td>\n",
              "      <td>1.70</td>\n",
              "      <td>66.0</td>\n",
              "      <td>yes</td>\n",
              "      <td>no</td>\n",
              "      <td>3.0</td>\n",
              "      <td>3.0</td>\n",
              "      <td>Always</td>\n",
              "      <td>no</td>\n",
              "      <td>2.0</td>\n",
              "      <td>yes</td>\n",
              "      <td>2.0</td>\n",
              "      <td>1.0</td>\n",
              "      <td>Sometimes</td>\n",
              "      <td>Public_Transportation</td>\n",
              "      <td>Normal_Weight</td>\n",
              "    </tr>\n",
              "    <tr>\n",
              "      <th>16</th>\n",
              "      <td>Male</td>\n",
              "      <td>27.0</td>\n",
              "      <td>1.93</td>\n",
              "      <td>102.0</td>\n",
              "      <td>yes</td>\n",
              "      <td>yes</td>\n",
              "      <td>2.0</td>\n",
              "      <td>1.0</td>\n",
              "      <td>Sometimes</td>\n",
              "      <td>no</td>\n",
              "      <td>1.0</td>\n",
              "      <td>no</td>\n",
              "      <td>1.0</td>\n",
              "      <td>0.0</td>\n",
              "      <td>Sometimes</td>\n",
              "      <td>Public_Transportation</td>\n",
              "      <td>Overweight_Level_II</td>\n",
              "    </tr>\n",
              "    <tr>\n",
              "      <th>17</th>\n",
              "      <td>Female</td>\n",
              "      <td>29.0</td>\n",
              "      <td>1.53</td>\n",
              "      <td>78.0</td>\n",
              "      <td>no</td>\n",
              "      <td>yes</td>\n",
              "      <td>2.0</td>\n",
              "      <td>1.0</td>\n",
              "      <td>Sometimes</td>\n",
              "      <td>no</td>\n",
              "      <td>2.0</td>\n",
              "      <td>no</td>\n",
              "      <td>0.0</td>\n",
              "      <td>0.0</td>\n",
              "      <td>no</td>\n",
              "      <td>Automobile</td>\n",
              "      <td>Obesity_Type_I</td>\n",
              "    </tr>\n",
              "    <tr>\n",
              "      <th>18</th>\n",
              "      <td>Female</td>\n",
              "      <td>30.0</td>\n",
              "      <td>1.71</td>\n",
              "      <td>82.0</td>\n",
              "      <td>yes</td>\n",
              "      <td>yes</td>\n",
              "      <td>3.0</td>\n",
              "      <td>4.0</td>\n",
              "      <td>Frequently</td>\n",
              "      <td>yes</td>\n",
              "      <td>1.0</td>\n",
              "      <td>no</td>\n",
              "      <td>0.0</td>\n",
              "      <td>0.0</td>\n",
              "      <td>no</td>\n",
              "      <td>Automobile</td>\n",
              "      <td>Overweight_Level_II</td>\n",
              "    </tr>\n",
              "    <tr>\n",
              "      <th>19</th>\n",
              "      <td>Female</td>\n",
              "      <td>23.0</td>\n",
              "      <td>1.65</td>\n",
              "      <td>70.0</td>\n",
              "      <td>yes</td>\n",
              "      <td>no</td>\n",
              "      <td>2.0</td>\n",
              "      <td>1.0</td>\n",
              "      <td>Sometimes</td>\n",
              "      <td>no</td>\n",
              "      <td>2.0</td>\n",
              "      <td>no</td>\n",
              "      <td>0.0</td>\n",
              "      <td>0.0</td>\n",
              "      <td>Sometimes</td>\n",
              "      <td>Public_Transportation</td>\n",
              "      <td>Overweight_Level_I</td>\n",
              "    </tr>\n",
              "    <tr>\n",
              "      <th>20</th>\n",
              "      <td>Male</td>\n",
              "      <td>22.0</td>\n",
              "      <td>1.65</td>\n",
              "      <td>80.0</td>\n",
              "      <td>yes</td>\n",
              "      <td>no</td>\n",
              "      <td>2.0</td>\n",
              "      <td>3.0</td>\n",
              "      <td>Sometimes</td>\n",
              "      <td>no</td>\n",
              "      <td>2.0</td>\n",
              "      <td>no</td>\n",
              "      <td>3.0</td>\n",
              "      <td>2.0</td>\n",
              "      <td>no</td>\n",
              "      <td>Walking</td>\n",
              "      <td>Overweight_Level_II</td>\n",
              "    </tr>\n",
              "    <tr>\n",
              "      <th>21</th>\n",
              "      <td>Female</td>\n",
              "      <td>52.0</td>\n",
              "      <td>1.69</td>\n",
              "      <td>87.0</td>\n",
              "      <td>yes</td>\n",
              "      <td>yes</td>\n",
              "      <td>3.0</td>\n",
              "      <td>1.0</td>\n",
              "      <td>Sometimes</td>\n",
              "      <td>yes</td>\n",
              "      <td>2.0</td>\n",
              "      <td>no</td>\n",
              "      <td>0.0</td>\n",
              "      <td>0.0</td>\n",
              "      <td>no</td>\n",
              "      <td>Automobile</td>\n",
              "      <td>Obesity_Type_I</td>\n",
              "    </tr>\n",
              "    <tr>\n",
              "      <th>22</th>\n",
              "      <td>Female</td>\n",
              "      <td>22.0</td>\n",
              "      <td>1.65</td>\n",
              "      <td>60.0</td>\n",
              "      <td>yes</td>\n",
              "      <td>yes</td>\n",
              "      <td>3.0</td>\n",
              "      <td>3.0</td>\n",
              "      <td>Sometimes</td>\n",
              "      <td>no</td>\n",
              "      <td>2.0</td>\n",
              "      <td>no</td>\n",
              "      <td>1.0</td>\n",
              "      <td>0.0</td>\n",
              "      <td>Sometimes</td>\n",
              "      <td>Automobile</td>\n",
              "      <td>Normal_Weight</td>\n",
              "    </tr>\n",
              "    <tr>\n",
              "      <th>23</th>\n",
              "      <td>Female</td>\n",
              "      <td>22.0</td>\n",
              "      <td>1.60</td>\n",
              "      <td>82.0</td>\n",
              "      <td>yes</td>\n",
              "      <td>yes</td>\n",
              "      <td>1.0</td>\n",
              "      <td>1.0</td>\n",
              "      <td>Sometimes</td>\n",
              "      <td>no</td>\n",
              "      <td>2.0</td>\n",
              "      <td>no</td>\n",
              "      <td>0.0</td>\n",
              "      <td>2.0</td>\n",
              "      <td>Sometimes</td>\n",
              "      <td>Public_Transportation</td>\n",
              "      <td>Obesity_Type_I</td>\n",
              "    </tr>\n",
              "    <tr>\n",
              "      <th>24</th>\n",
              "      <td>Male</td>\n",
              "      <td>21.0</td>\n",
              "      <td>1.85</td>\n",
              "      <td>68.0</td>\n",
              "      <td>yes</td>\n",
              "      <td>yes</td>\n",
              "      <td>2.0</td>\n",
              "      <td>3.0</td>\n",
              "      <td>Sometimes</td>\n",
              "      <td>no</td>\n",
              "      <td>2.0</td>\n",
              "      <td>no</td>\n",
              "      <td>0.0</td>\n",
              "      <td>1.0</td>\n",
              "      <td>Sometimes</td>\n",
              "      <td>Public_Transportation</td>\n",
              "      <td>Normal_Weight</td>\n",
              "    </tr>\n",
              "    <tr>\n",
              "      <th>25</th>\n",
              "      <td>Male</td>\n",
              "      <td>20.0</td>\n",
              "      <td>1.60</td>\n",
              "      <td>50.0</td>\n",
              "      <td>yes</td>\n",
              "      <td>no</td>\n",
              "      <td>2.0</td>\n",
              "      <td>4.0</td>\n",
              "      <td>Frequently</td>\n",
              "      <td>yes</td>\n",
              "      <td>2.0</td>\n",
              "      <td>no</td>\n",
              "      <td>3.0</td>\n",
              "      <td>2.0</td>\n",
              "      <td>no</td>\n",
              "      <td>Public_Transportation</td>\n",
              "      <td>Normal_Weight</td>\n",
              "    </tr>\n",
              "    <tr>\n",
              "      <th>26</th>\n",
              "      <td>Male</td>\n",
              "      <td>21.0</td>\n",
              "      <td>1.70</td>\n",
              "      <td>65.0</td>\n",
              "      <td>yes</td>\n",
              "      <td>yes</td>\n",
              "      <td>2.0</td>\n",
              "      <td>1.0</td>\n",
              "      <td>Frequently</td>\n",
              "      <td>no</td>\n",
              "      <td>2.0</td>\n",
              "      <td>no</td>\n",
              "      <td>1.0</td>\n",
              "      <td>2.0</td>\n",
              "      <td>Always</td>\n",
              "      <td>Walking</td>\n",
              "      <td>Normal_Weight</td>\n",
              "    </tr>\n",
              "    <tr>\n",
              "      <th>27</th>\n",
              "      <td>Female</td>\n",
              "      <td>23.0</td>\n",
              "      <td>1.60</td>\n",
              "      <td>52.0</td>\n",
              "      <td>no</td>\n",
              "      <td>yes</td>\n",
              "      <td>2.0</td>\n",
              "      <td>4.0</td>\n",
              "      <td>Frequently</td>\n",
              "      <td>no</td>\n",
              "      <td>2.0</td>\n",
              "      <td>no</td>\n",
              "      <td>2.0</td>\n",
              "      <td>1.0</td>\n",
              "      <td>Sometimes</td>\n",
              "      <td>Automobile</td>\n",
              "      <td>Normal_Weight</td>\n",
              "    </tr>\n",
              "    <tr>\n",
              "      <th>28</th>\n",
              "      <td>Male</td>\n",
              "      <td>19.0</td>\n",
              "      <td>1.75</td>\n",
              "      <td>76.0</td>\n",
              "      <td>yes</td>\n",
              "      <td>yes</td>\n",
              "      <td>3.0</td>\n",
              "      <td>3.0</td>\n",
              "      <td>Sometimes</td>\n",
              "      <td>no</td>\n",
              "      <td>2.0</td>\n",
              "      <td>yes</td>\n",
              "      <td>3.0</td>\n",
              "      <td>1.0</td>\n",
              "      <td>Sometimes</td>\n",
              "      <td>Public_Transportation</td>\n",
              "      <td>Normal_Weight</td>\n",
              "    </tr>\n",
              "    <tr>\n",
              "      <th>29</th>\n",
              "      <td>Male</td>\n",
              "      <td>23.0</td>\n",
              "      <td>1.68</td>\n",
              "      <td>70.0</td>\n",
              "      <td>no</td>\n",
              "      <td>yes</td>\n",
              "      <td>2.0</td>\n",
              "      <td>3.0</td>\n",
              "      <td>Sometimes</td>\n",
              "      <td>no</td>\n",
              "      <td>2.0</td>\n",
              "      <td>no</td>\n",
              "      <td>2.0</td>\n",
              "      <td>2.0</td>\n",
              "      <td>Frequently</td>\n",
              "      <td>Walking</td>\n",
              "      <td>Normal_Weight</td>\n",
              "    </tr>\n",
              "  </tbody>\n",
              "</table>\n",
              "</div>"
            ],
            "text/plain": [
              "    Gender   Age  Height  Weight family_history_with_overweight FAVC  FCVC  \\\n",
              "0   Female  21.0    1.62    64.0                            yes   no   2.0   \n",
              "1   Female  21.0    1.52    56.0                            yes   no   3.0   \n",
              "2     Male  23.0    1.80    77.0                            yes   no   2.0   \n",
              "3     Male  27.0    1.80    87.0                             no   no   3.0   \n",
              "4     Male  22.0    1.78    89.8                             no   no   2.0   \n",
              "5     Male  29.0    1.62    53.0                             no  yes   2.0   \n",
              "6   Female  23.0    1.50    55.0                            yes  yes   3.0   \n",
              "7     Male  22.0    1.64    53.0                             no   no   2.0   \n",
              "8     Male  24.0    1.78    64.0                            yes  yes   3.0   \n",
              "9     Male  22.0    1.72    68.0                            yes  yes   2.0   \n",
              "10    Male  26.0    1.85   105.0                            yes  yes   3.0   \n",
              "11  Female  21.0    1.72    80.0                            yes  yes   2.0   \n",
              "12    Male  22.0    1.65    56.0                             no   no   3.0   \n",
              "13    Male  41.0    1.80    99.0                             no  yes   2.0   \n",
              "14    Male  23.0    1.77    60.0                            yes  yes   3.0   \n",
              "15  Female  22.0    1.70    66.0                            yes   no   3.0   \n",
              "16    Male  27.0    1.93   102.0                            yes  yes   2.0   \n",
              "17  Female  29.0    1.53    78.0                             no  yes   2.0   \n",
              "18  Female  30.0    1.71    82.0                            yes  yes   3.0   \n",
              "19  Female  23.0    1.65    70.0                            yes   no   2.0   \n",
              "20    Male  22.0    1.65    80.0                            yes   no   2.0   \n",
              "21  Female  52.0    1.69    87.0                            yes  yes   3.0   \n",
              "22  Female  22.0    1.65    60.0                            yes  yes   3.0   \n",
              "23  Female  22.0    1.60    82.0                            yes  yes   1.0   \n",
              "24    Male  21.0    1.85    68.0                            yes  yes   2.0   \n",
              "25    Male  20.0    1.60    50.0                            yes   no   2.0   \n",
              "26    Male  21.0    1.70    65.0                            yes  yes   2.0   \n",
              "27  Female  23.0    1.60    52.0                             no  yes   2.0   \n",
              "28    Male  19.0    1.75    76.0                            yes  yes   3.0   \n",
              "29    Male  23.0    1.68    70.0                             no  yes   2.0   \n",
              "\n",
              "    NCP        CAEC SMOKE  CH2O  SCC  FAF  TUE        CALC  \\\n",
              "0   3.0   Sometimes    no   2.0   no  0.0  1.0          no   \n",
              "1   3.0   Sometimes   yes   3.0  yes  3.0  0.0   Sometimes   \n",
              "2   3.0   Sometimes    no   2.0   no  2.0  1.0  Frequently   \n",
              "3   3.0   Sometimes    no   2.0   no  2.0  0.0  Frequently   \n",
              "4   1.0   Sometimes    no   2.0   no  0.0  0.0   Sometimes   \n",
              "5   3.0   Sometimes    no   2.0   no  0.0  0.0   Sometimes   \n",
              "6   3.0   Sometimes    no   2.0   no  1.0  0.0   Sometimes   \n",
              "7   3.0   Sometimes    no   2.0   no  3.0  0.0   Sometimes   \n",
              "8   3.0   Sometimes    no   2.0   no  1.0  1.0  Frequently   \n",
              "9   3.0   Sometimes    no   2.0   no  1.0  1.0          no   \n",
              "10  3.0  Frequently    no   3.0   no  2.0  2.0   Sometimes   \n",
              "11  3.0  Frequently    no   2.0  yes  2.0  1.0   Sometimes   \n",
              "12  3.0   Sometimes    no   3.0   no  2.0  0.0   Sometimes   \n",
              "13  3.0   Sometimes    no   2.0   no  2.0  1.0  Frequently   \n",
              "14  1.0   Sometimes    no   1.0   no  1.0  1.0   Sometimes   \n",
              "15  3.0      Always    no   2.0  yes  2.0  1.0   Sometimes   \n",
              "16  1.0   Sometimes    no   1.0   no  1.0  0.0   Sometimes   \n",
              "17  1.0   Sometimes    no   2.0   no  0.0  0.0          no   \n",
              "18  4.0  Frequently   yes   1.0   no  0.0  0.0          no   \n",
              "19  1.0   Sometimes    no   2.0   no  0.0  0.0   Sometimes   \n",
              "20  3.0   Sometimes    no   2.0   no  3.0  2.0          no   \n",
              "21  1.0   Sometimes   yes   2.0   no  0.0  0.0          no   \n",
              "22  3.0   Sometimes    no   2.0   no  1.0  0.0   Sometimes   \n",
              "23  1.0   Sometimes    no   2.0   no  0.0  2.0   Sometimes   \n",
              "24  3.0   Sometimes    no   2.0   no  0.0  1.0   Sometimes   \n",
              "25  4.0  Frequently   yes   2.0   no  3.0  2.0          no   \n",
              "26  1.0  Frequently    no   2.0   no  1.0  2.0      Always   \n",
              "27  4.0  Frequently    no   2.0   no  2.0  1.0   Sometimes   \n",
              "28  3.0   Sometimes    no   2.0  yes  3.0  1.0   Sometimes   \n",
              "29  3.0   Sometimes    no   2.0   no  2.0  2.0  Frequently   \n",
              "\n",
              "                   MTRANS           NObeyesdad  \n",
              "0   Public_Transportation        Normal_Weight  \n",
              "1   Public_Transportation        Normal_Weight  \n",
              "2   Public_Transportation        Normal_Weight  \n",
              "3                 Walking   Overweight_Level_I  \n",
              "4   Public_Transportation  Overweight_Level_II  \n",
              "5              Automobile        Normal_Weight  \n",
              "6               Motorbike        Normal_Weight  \n",
              "7   Public_Transportation        Normal_Weight  \n",
              "8   Public_Transportation        Normal_Weight  \n",
              "9   Public_Transportation        Normal_Weight  \n",
              "10  Public_Transportation       Obesity_Type_I  \n",
              "11  Public_Transportation  Overweight_Level_II  \n",
              "12  Public_Transportation        Normal_Weight  \n",
              "13             Automobile       Obesity_Type_I  \n",
              "14  Public_Transportation        Normal_Weight  \n",
              "15  Public_Transportation        Normal_Weight  \n",
              "16  Public_Transportation  Overweight_Level_II  \n",
              "17             Automobile       Obesity_Type_I  \n",
              "18             Automobile  Overweight_Level_II  \n",
              "19  Public_Transportation   Overweight_Level_I  \n",
              "20                Walking  Overweight_Level_II  \n",
              "21             Automobile       Obesity_Type_I  \n",
              "22             Automobile        Normal_Weight  \n",
              "23  Public_Transportation       Obesity_Type_I  \n",
              "24  Public_Transportation        Normal_Weight  \n",
              "25  Public_Transportation        Normal_Weight  \n",
              "26                Walking        Normal_Weight  \n",
              "27             Automobile        Normal_Weight  \n",
              "28  Public_Transportation        Normal_Weight  \n",
              "29                Walking        Normal_Weight  "
            ]
          },
          "execution_count": 39,
          "metadata": {},
          "output_type": "execute_result"
        }
      ],
      "source": [
        "dfCopy=df.copy()\n",
        "# Age is rounded to the nearest integer\n",
        "df['Age']=df['Age'].round(decimals = 0)\n",
        "# Height is rounded to one decimal place\n",
        "df['Height']=df['Height'].round(decimals = 1)\n",
        "# Weight is rounded to one decimal place\n",
        "df['Weight']=df['Weight'].round(decimals = 1)\n",
        "# FCVC is rounded to the nearest integer\n",
        "df['FCVC']=df['FCVC'].round(decimals = 0)\n",
        "# NCP is rounded to the nearest integer\n",
        "df['NCP']=df['NCP'].round(decimals = 0)\n",
        "# CH2O is rounded to the nearest integer\n",
        "df['CH2O']=df['CH2O'].round(decimals = 0)\n",
        "# FAF is rounded to the nearest integer\n",
        "df['FAF']=df['FAF'].round(decimals = 0)\n",
        "# TUE is rounded to the nearest integer\n",
        "df['TUE']=df['TUE'].round(decimals = 0)\n",
        "dfCopy.head(30)"
      ]
    },
    {
      "cell_type": "code",
      "execution_count": null,
      "id": "d5c41548",
      "metadata": {
        "ExecuteTime": {
          "end_time": "2021-12-02T14:14:17.803742Z",
          "start_time": "2021-12-02T14:14:17.743725Z"
        },
        "id": "d5c41548",
        "outputId": "05b10d3c-4419-4940-f848-933e8d571255"
      },
      "outputs": [
        {
          "data": {
            "text/html": [
              "<div>\n",
              "<style scoped>\n",
              "    .dataframe tbody tr th:only-of-type {\n",
              "        vertical-align: middle;\n",
              "    }\n",
              "\n",
              "    .dataframe tbody tr th {\n",
              "        vertical-align: top;\n",
              "    }\n",
              "\n",
              "    .dataframe thead th {\n",
              "        text-align: right;\n",
              "    }\n",
              "</style>\n",
              "<table border=\"1\" class=\"dataframe\">\n",
              "  <thead>\n",
              "    <tr style=\"text-align: right;\">\n",
              "      <th></th>\n",
              "      <th>Gender</th>\n",
              "      <th>Age</th>\n",
              "      <th>Height</th>\n",
              "      <th>Weight</th>\n",
              "      <th>family_history_with_overweight</th>\n",
              "      <th>FAVC</th>\n",
              "      <th>FCVC</th>\n",
              "      <th>NCP</th>\n",
              "      <th>CAEC</th>\n",
              "      <th>SMOKE</th>\n",
              "      <th>CH2O</th>\n",
              "      <th>SCC</th>\n",
              "      <th>FAF</th>\n",
              "      <th>TUE</th>\n",
              "      <th>CALC</th>\n",
              "      <th>MTRANS</th>\n",
              "      <th>target</th>\n",
              "    </tr>\n",
              "  </thead>\n",
              "  <tbody>\n",
              "    <tr>\n",
              "      <th>0</th>\n",
              "      <td>1</td>\n",
              "      <td>21.0</td>\n",
              "      <td>1.62</td>\n",
              "      <td>64.0</td>\n",
              "      <td>1</td>\n",
              "      <td>0</td>\n",
              "      <td>2.0</td>\n",
              "      <td>3.0</td>\n",
              "      <td>1</td>\n",
              "      <td>0</td>\n",
              "      <td>2.0</td>\n",
              "      <td>0</td>\n",
              "      <td>0.0</td>\n",
              "      <td>1.0</td>\n",
              "      <td>0</td>\n",
              "      <td>3</td>\n",
              "      <td>1</td>\n",
              "    </tr>\n",
              "    <tr>\n",
              "      <th>1</th>\n",
              "      <td>1</td>\n",
              "      <td>21.0</td>\n",
              "      <td>1.52</td>\n",
              "      <td>56.0</td>\n",
              "      <td>1</td>\n",
              "      <td>0</td>\n",
              "      <td>3.0</td>\n",
              "      <td>3.0</td>\n",
              "      <td>1</td>\n",
              "      <td>1</td>\n",
              "      <td>3.0</td>\n",
              "      <td>1</td>\n",
              "      <td>3.0</td>\n",
              "      <td>0.0</td>\n",
              "      <td>1</td>\n",
              "      <td>3</td>\n",
              "      <td>1</td>\n",
              "    </tr>\n",
              "    <tr>\n",
              "      <th>2</th>\n",
              "      <td>0</td>\n",
              "      <td>23.0</td>\n",
              "      <td>1.80</td>\n",
              "      <td>77.0</td>\n",
              "      <td>1</td>\n",
              "      <td>0</td>\n",
              "      <td>2.0</td>\n",
              "      <td>3.0</td>\n",
              "      <td>1</td>\n",
              "      <td>0</td>\n",
              "      <td>2.0</td>\n",
              "      <td>0</td>\n",
              "      <td>2.0</td>\n",
              "      <td>1.0</td>\n",
              "      <td>2</td>\n",
              "      <td>3</td>\n",
              "      <td>1</td>\n",
              "    </tr>\n",
              "    <tr>\n",
              "      <th>3</th>\n",
              "      <td>0</td>\n",
              "      <td>27.0</td>\n",
              "      <td>1.80</td>\n",
              "      <td>87.0</td>\n",
              "      <td>0</td>\n",
              "      <td>0</td>\n",
              "      <td>3.0</td>\n",
              "      <td>3.0</td>\n",
              "      <td>1</td>\n",
              "      <td>0</td>\n",
              "      <td>2.0</td>\n",
              "      <td>0</td>\n",
              "      <td>2.0</td>\n",
              "      <td>0.0</td>\n",
              "      <td>2</td>\n",
              "      <td>4</td>\n",
              "      <td>2</td>\n",
              "    </tr>\n",
              "    <tr>\n",
              "      <th>4</th>\n",
              "      <td>0</td>\n",
              "      <td>22.0</td>\n",
              "      <td>1.78</td>\n",
              "      <td>89.8</td>\n",
              "      <td>0</td>\n",
              "      <td>0</td>\n",
              "      <td>2.0</td>\n",
              "      <td>1.0</td>\n",
              "      <td>1</td>\n",
              "      <td>0</td>\n",
              "      <td>2.0</td>\n",
              "      <td>0</td>\n",
              "      <td>0.0</td>\n",
              "      <td>0.0</td>\n",
              "      <td>1</td>\n",
              "      <td>3</td>\n",
              "      <td>3</td>\n",
              "    </tr>\n",
              "    <tr>\n",
              "      <th>5</th>\n",
              "      <td>0</td>\n",
              "      <td>29.0</td>\n",
              "      <td>1.62</td>\n",
              "      <td>53.0</td>\n",
              "      <td>0</td>\n",
              "      <td>1</td>\n",
              "      <td>2.0</td>\n",
              "      <td>3.0</td>\n",
              "      <td>1</td>\n",
              "      <td>0</td>\n",
              "      <td>2.0</td>\n",
              "      <td>0</td>\n",
              "      <td>0.0</td>\n",
              "      <td>0.0</td>\n",
              "      <td>1</td>\n",
              "      <td>0</td>\n",
              "      <td>1</td>\n",
              "    </tr>\n",
              "    <tr>\n",
              "      <th>6</th>\n",
              "      <td>1</td>\n",
              "      <td>23.0</td>\n",
              "      <td>1.50</td>\n",
              "      <td>55.0</td>\n",
              "      <td>1</td>\n",
              "      <td>1</td>\n",
              "      <td>3.0</td>\n",
              "      <td>3.0</td>\n",
              "      <td>1</td>\n",
              "      <td>0</td>\n",
              "      <td>2.0</td>\n",
              "      <td>0</td>\n",
              "      <td>1.0</td>\n",
              "      <td>0.0</td>\n",
              "      <td>1</td>\n",
              "      <td>2</td>\n",
              "      <td>1</td>\n",
              "    </tr>\n",
              "    <tr>\n",
              "      <th>7</th>\n",
              "      <td>0</td>\n",
              "      <td>22.0</td>\n",
              "      <td>1.64</td>\n",
              "      <td>53.0</td>\n",
              "      <td>0</td>\n",
              "      <td>0</td>\n",
              "      <td>2.0</td>\n",
              "      <td>3.0</td>\n",
              "      <td>1</td>\n",
              "      <td>0</td>\n",
              "      <td>2.0</td>\n",
              "      <td>0</td>\n",
              "      <td>3.0</td>\n",
              "      <td>0.0</td>\n",
              "      <td>1</td>\n",
              "      <td>3</td>\n",
              "      <td>1</td>\n",
              "    </tr>\n",
              "    <tr>\n",
              "      <th>8</th>\n",
              "      <td>0</td>\n",
              "      <td>24.0</td>\n",
              "      <td>1.78</td>\n",
              "      <td>64.0</td>\n",
              "      <td>1</td>\n",
              "      <td>1</td>\n",
              "      <td>3.0</td>\n",
              "      <td>3.0</td>\n",
              "      <td>1</td>\n",
              "      <td>0</td>\n",
              "      <td>2.0</td>\n",
              "      <td>0</td>\n",
              "      <td>1.0</td>\n",
              "      <td>1.0</td>\n",
              "      <td>2</td>\n",
              "      <td>3</td>\n",
              "      <td>1</td>\n",
              "    </tr>\n",
              "    <tr>\n",
              "      <th>9</th>\n",
              "      <td>0</td>\n",
              "      <td>22.0</td>\n",
              "      <td>1.72</td>\n",
              "      <td>68.0</td>\n",
              "      <td>1</td>\n",
              "      <td>1</td>\n",
              "      <td>2.0</td>\n",
              "      <td>3.0</td>\n",
              "      <td>1</td>\n",
              "      <td>0</td>\n",
              "      <td>2.0</td>\n",
              "      <td>0</td>\n",
              "      <td>1.0</td>\n",
              "      <td>1.0</td>\n",
              "      <td>0</td>\n",
              "      <td>3</td>\n",
              "      <td>1</td>\n",
              "    </tr>\n",
              "  </tbody>\n",
              "</table>\n",
              "</div>"
            ],
            "text/plain": [
              "   Gender   Age  Height  Weight  family_history_with_overweight  FAVC  FCVC  \\\n",
              "0       1  21.0    1.62    64.0                               1     0   2.0   \n",
              "1       1  21.0    1.52    56.0                               1     0   3.0   \n",
              "2       0  23.0    1.80    77.0                               1     0   2.0   \n",
              "3       0  27.0    1.80    87.0                               0     0   3.0   \n",
              "4       0  22.0    1.78    89.8                               0     0   2.0   \n",
              "5       0  29.0    1.62    53.0                               0     1   2.0   \n",
              "6       1  23.0    1.50    55.0                               1     1   3.0   \n",
              "7       0  22.0    1.64    53.0                               0     0   2.0   \n",
              "8       0  24.0    1.78    64.0                               1     1   3.0   \n",
              "9       0  22.0    1.72    68.0                               1     1   2.0   \n",
              "\n",
              "   NCP  CAEC  SMOKE  CH2O  SCC  FAF  TUE  CALC  MTRANS  target  \n",
              "0  3.0     1      0   2.0    0  0.0  1.0     0       3       1  \n",
              "1  3.0     1      1   3.0    1  3.0  0.0     1       3       1  \n",
              "2  3.0     1      0   2.0    0  2.0  1.0     2       3       1  \n",
              "3  3.0     1      0   2.0    0  2.0  0.0     2       4       2  \n",
              "4  1.0     1      0   2.0    0  0.0  0.0     1       3       3  \n",
              "5  3.0     1      0   2.0    0  0.0  0.0     1       0       1  \n",
              "6  3.0     1      0   2.0    0  1.0  0.0     1       2       1  \n",
              "7  3.0     1      0   2.0    0  3.0  0.0     1       3       1  \n",
              "8  3.0     1      0   2.0    0  1.0  1.0     2       3       1  \n",
              "9  3.0     1      0   2.0    0  1.0  1.0     0       3       1  "
            ]
          },
          "execution_count": 40,
          "metadata": {},
          "output_type": "execute_result"
        }
      ],
      "source": [
        "le = LabelEncoder()\n",
        "\n",
        "dfCopy[\"Gender\"]=dfCopy[\"Gender\"].map({ 'Male' : 0, 'Female' : 1})\n",
        "dfCopy[\"family_history_with_overweight\"]=dfCopy[\"family_history_with_overweight\"].map({ 'no' : 0, 'yes' : 1})\n",
        "dfCopy[\"FAVC\"]=df[\"FAVC\"].map({ 'no' : 0, 'yes' : 1})\n",
        "dfCopy[\"CAEC\"]=df[\"CAEC\"].map({ 'no' : 0, 'Sometimes' : 1, 'Frequently' : 2, 'Always' : 3})\n",
        "dfCopy[\"SMOKE\"]=dfCopy[\"SMOKE\"].map({ 'no' : 0, 'yes' : 1})\n",
        "dfCopy[\"SCC\"]=dfCopy[\"SCC\"].map({ 'no' : 0, 'yes' : 1})\n",
        "dfCopy[\"CALC\"]=df[\"CALC\"].map({ 'no' : 0, 'Sometimes' : 1, 'Frequently' : 2, 'Always' : 3})\n",
        "dfCopy['MTRANS'] =le.fit_transform(dfCopy['MTRANS'])\n",
        "dfCopy[\"NObeyesdad\"]=df[\"NObeyesdad\"].map({ 'Insufficient_Weight' : 0, 'Normal_Weight' : 1, 'Overweight_Level_I' : 2, 'Overweight_Level_II' : 3, 'Obesity_Type_I' : 4, 'Obesity_Type_II' : 5, 'Obesity_Type_III' : 6})\n",
        "\n",
        "target_dict={  0 : 'Insufficient_Weight' ,  1:'Normal_Weight' , 2:'Overweight_Level_I' ,3: 'Overweight_Level_II',4: 'Obesity_Type_I' ,5: 'Obesity_Type_II' , 6:'Obesity_Type_III'}\n",
        "# dfCopy['Gender'] =  le.fit_transform(dfCopy['Gender'])\n",
        "# dfCopy['family_history_with_overweight'] =  le.fit_transform(dfCopy['family_history_with_overweight'])\n",
        "# dfCopy['FAVC'] =  le.fit_transform(dfCopy['FAVC'])\n",
        "# dfCopy['SMOKE'] =  le.fit_transform(dfCopy['SMOKE'])\n",
        "# dfCopy['SCC'] =  le.fit_transform(dfCopy['SCC'])\n",
        "# dfCopy['CALC'] =  le.fit_transform(dfCopy['CALC'])\n",
        "# dfCopy['MTRANS'] =  le.fit_transform(dfCopy['MTRANS'])\n",
        "# dfCopy['CAEC'] = le.fit_transform(dfCopy['CAEC'])\n",
        "# dfCopy['NObeyesdad'] =  le.fit_transform(dfCopy['NObeyesdad'])\n",
        "dfCopy.rename(columns = {'NObeyesdad':\"target\"}, inplace = True)\n",
        "dfCopy.head(10)"
      ]
    },
    {
      "cell_type": "code",
      "execution_count": null,
      "id": "6e6748bd",
      "metadata": {
        "ExecuteTime": {
          "end_time": "2021-12-02T14:14:23.149165Z",
          "start_time": "2021-12-02T14:14:23.142374Z"
        },
        "id": "6e6748bd",
        "outputId": "cee723eb-f40d-42b2-ff1f-cf2e3af46371"
      },
      "outputs": [
        {
          "data": {
            "text/plain": [
              "{0: 'Insufficient_Weight',\n",
              " 1: 'Normal_Weight',\n",
              " 2: 'Overweight_Level_I',\n",
              " 3: 'Overweight_Level_II',\n",
              " 4: 'Obesity_Type_I',\n",
              " 5: 'Obesity_Type_II',\n",
              " 6: 'Obesity_Type_III'}"
            ]
          },
          "execution_count": 41,
          "metadata": {},
          "output_type": "execute_result"
        }
      ],
      "source": [
        "target_dict"
      ]
    },
    {
      "cell_type": "markdown",
      "id": "b01b1835",
      "metadata": {
        "id": "b01b1835"
      },
      "source": [
        "Dropping out features"
      ]
    },
    {
      "cell_type": "code",
      "execution_count": null,
      "id": "43cc1e6b",
      "metadata": {
        "ExecuteTime": {
          "end_time": "2021-12-02T14:14:23.872139Z",
          "start_time": "2021-12-02T14:14:23.837916Z"
        },
        "id": "43cc1e6b",
        "outputId": "6ad0beef-89e5-436c-e314-c7f573201af4"
      },
      "outputs": [
        {
          "data": {
            "text/html": [
              "<div>\n",
              "<style scoped>\n",
              "    .dataframe tbody tr th:only-of-type {\n",
              "        vertical-align: middle;\n",
              "    }\n",
              "\n",
              "    .dataframe tbody tr th {\n",
              "        vertical-align: top;\n",
              "    }\n",
              "\n",
              "    .dataframe thead th {\n",
              "        text-align: right;\n",
              "    }\n",
              "</style>\n",
              "<table border=\"1\" class=\"dataframe\">\n",
              "  <thead>\n",
              "    <tr style=\"text-align: right;\">\n",
              "      <th></th>\n",
              "      <th>Gender</th>\n",
              "      <th>Age</th>\n",
              "      <th>Height</th>\n",
              "      <th>Weight</th>\n",
              "      <th>family_history_with_overweight</th>\n",
              "      <th>FAVC</th>\n",
              "      <th>FCVC</th>\n",
              "      <th>NCP</th>\n",
              "      <th>CAEC</th>\n",
              "      <th>SMOKE</th>\n",
              "      <th>CH2O</th>\n",
              "      <th>SCC</th>\n",
              "      <th>FAF</th>\n",
              "      <th>TUE</th>\n",
              "      <th>CALC</th>\n",
              "      <th>MTRANS</th>\n",
              "    </tr>\n",
              "  </thead>\n",
              "  <tbody>\n",
              "    <tr>\n",
              "      <th>0</th>\n",
              "      <td>1</td>\n",
              "      <td>21.0</td>\n",
              "      <td>1.62</td>\n",
              "      <td>64.0</td>\n",
              "      <td>1</td>\n",
              "      <td>0</td>\n",
              "      <td>2.0</td>\n",
              "      <td>3.0</td>\n",
              "      <td>1</td>\n",
              "      <td>0</td>\n",
              "      <td>2.0</td>\n",
              "      <td>0</td>\n",
              "      <td>0.0</td>\n",
              "      <td>1.0</td>\n",
              "      <td>0</td>\n",
              "      <td>3</td>\n",
              "    </tr>\n",
              "    <tr>\n",
              "      <th>1</th>\n",
              "      <td>1</td>\n",
              "      <td>21.0</td>\n",
              "      <td>1.52</td>\n",
              "      <td>56.0</td>\n",
              "      <td>1</td>\n",
              "      <td>0</td>\n",
              "      <td>3.0</td>\n",
              "      <td>3.0</td>\n",
              "      <td>1</td>\n",
              "      <td>1</td>\n",
              "      <td>3.0</td>\n",
              "      <td>1</td>\n",
              "      <td>3.0</td>\n",
              "      <td>0.0</td>\n",
              "      <td>1</td>\n",
              "      <td>3</td>\n",
              "    </tr>\n",
              "    <tr>\n",
              "      <th>2</th>\n",
              "      <td>0</td>\n",
              "      <td>23.0</td>\n",
              "      <td>1.80</td>\n",
              "      <td>77.0</td>\n",
              "      <td>1</td>\n",
              "      <td>0</td>\n",
              "      <td>2.0</td>\n",
              "      <td>3.0</td>\n",
              "      <td>1</td>\n",
              "      <td>0</td>\n",
              "      <td>2.0</td>\n",
              "      <td>0</td>\n",
              "      <td>2.0</td>\n",
              "      <td>1.0</td>\n",
              "      <td>2</td>\n",
              "      <td>3</td>\n",
              "    </tr>\n",
              "    <tr>\n",
              "      <th>3</th>\n",
              "      <td>0</td>\n",
              "      <td>27.0</td>\n",
              "      <td>1.80</td>\n",
              "      <td>87.0</td>\n",
              "      <td>0</td>\n",
              "      <td>0</td>\n",
              "      <td>3.0</td>\n",
              "      <td>3.0</td>\n",
              "      <td>1</td>\n",
              "      <td>0</td>\n",
              "      <td>2.0</td>\n",
              "      <td>0</td>\n",
              "      <td>2.0</td>\n",
              "      <td>0.0</td>\n",
              "      <td>2</td>\n",
              "      <td>4</td>\n",
              "    </tr>\n",
              "    <tr>\n",
              "      <th>4</th>\n",
              "      <td>0</td>\n",
              "      <td>22.0</td>\n",
              "      <td>1.78</td>\n",
              "      <td>89.8</td>\n",
              "      <td>0</td>\n",
              "      <td>0</td>\n",
              "      <td>2.0</td>\n",
              "      <td>1.0</td>\n",
              "      <td>1</td>\n",
              "      <td>0</td>\n",
              "      <td>2.0</td>\n",
              "      <td>0</td>\n",
              "      <td>0.0</td>\n",
              "      <td>0.0</td>\n",
              "      <td>1</td>\n",
              "      <td>3</td>\n",
              "    </tr>\n",
              "    <tr>\n",
              "      <th>5</th>\n",
              "      <td>0</td>\n",
              "      <td>29.0</td>\n",
              "      <td>1.62</td>\n",
              "      <td>53.0</td>\n",
              "      <td>0</td>\n",
              "      <td>1</td>\n",
              "      <td>2.0</td>\n",
              "      <td>3.0</td>\n",
              "      <td>1</td>\n",
              "      <td>0</td>\n",
              "      <td>2.0</td>\n",
              "      <td>0</td>\n",
              "      <td>0.0</td>\n",
              "      <td>0.0</td>\n",
              "      <td>1</td>\n",
              "      <td>0</td>\n",
              "    </tr>\n",
              "    <tr>\n",
              "      <th>6</th>\n",
              "      <td>1</td>\n",
              "      <td>23.0</td>\n",
              "      <td>1.50</td>\n",
              "      <td>55.0</td>\n",
              "      <td>1</td>\n",
              "      <td>1</td>\n",
              "      <td>3.0</td>\n",
              "      <td>3.0</td>\n",
              "      <td>1</td>\n",
              "      <td>0</td>\n",
              "      <td>2.0</td>\n",
              "      <td>0</td>\n",
              "      <td>1.0</td>\n",
              "      <td>0.0</td>\n",
              "      <td>1</td>\n",
              "      <td>2</td>\n",
              "    </tr>\n",
              "    <tr>\n",
              "      <th>7</th>\n",
              "      <td>0</td>\n",
              "      <td>22.0</td>\n",
              "      <td>1.64</td>\n",
              "      <td>53.0</td>\n",
              "      <td>0</td>\n",
              "      <td>0</td>\n",
              "      <td>2.0</td>\n",
              "      <td>3.0</td>\n",
              "      <td>1</td>\n",
              "      <td>0</td>\n",
              "      <td>2.0</td>\n",
              "      <td>0</td>\n",
              "      <td>3.0</td>\n",
              "      <td>0.0</td>\n",
              "      <td>1</td>\n",
              "      <td>3</td>\n",
              "    </tr>\n",
              "    <tr>\n",
              "      <th>8</th>\n",
              "      <td>0</td>\n",
              "      <td>24.0</td>\n",
              "      <td>1.78</td>\n",
              "      <td>64.0</td>\n",
              "      <td>1</td>\n",
              "      <td>1</td>\n",
              "      <td>3.0</td>\n",
              "      <td>3.0</td>\n",
              "      <td>1</td>\n",
              "      <td>0</td>\n",
              "      <td>2.0</td>\n",
              "      <td>0</td>\n",
              "      <td>1.0</td>\n",
              "      <td>1.0</td>\n",
              "      <td>2</td>\n",
              "      <td>3</td>\n",
              "    </tr>\n",
              "    <tr>\n",
              "      <th>9</th>\n",
              "      <td>0</td>\n",
              "      <td>22.0</td>\n",
              "      <td>1.72</td>\n",
              "      <td>68.0</td>\n",
              "      <td>1</td>\n",
              "      <td>1</td>\n",
              "      <td>2.0</td>\n",
              "      <td>3.0</td>\n",
              "      <td>1</td>\n",
              "      <td>0</td>\n",
              "      <td>2.0</td>\n",
              "      <td>0</td>\n",
              "      <td>1.0</td>\n",
              "      <td>1.0</td>\n",
              "      <td>0</td>\n",
              "      <td>3</td>\n",
              "    </tr>\n",
              "  </tbody>\n",
              "</table>\n",
              "</div>"
            ],
            "text/plain": [
              "   Gender   Age  Height  Weight  family_history_with_overweight  FAVC  FCVC  \\\n",
              "0       1  21.0    1.62    64.0                               1     0   2.0   \n",
              "1       1  21.0    1.52    56.0                               1     0   3.0   \n",
              "2       0  23.0    1.80    77.0                               1     0   2.0   \n",
              "3       0  27.0    1.80    87.0                               0     0   3.0   \n",
              "4       0  22.0    1.78    89.8                               0     0   2.0   \n",
              "5       0  29.0    1.62    53.0                               0     1   2.0   \n",
              "6       1  23.0    1.50    55.0                               1     1   3.0   \n",
              "7       0  22.0    1.64    53.0                               0     0   2.0   \n",
              "8       0  24.0    1.78    64.0                               1     1   3.0   \n",
              "9       0  22.0    1.72    68.0                               1     1   2.0   \n",
              "\n",
              "   NCP  CAEC  SMOKE  CH2O  SCC  FAF  TUE  CALC  MTRANS  \n",
              "0  3.0     1      0   2.0    0  0.0  1.0     0       3  \n",
              "1  3.0     1      1   3.0    1  3.0  0.0     1       3  \n",
              "2  3.0     1      0   2.0    0  2.0  1.0     2       3  \n",
              "3  3.0     1      0   2.0    0  2.0  0.0     2       4  \n",
              "4  1.0     1      0   2.0    0  0.0  0.0     1       3  \n",
              "5  3.0     1      0   2.0    0  0.0  0.0     1       0  \n",
              "6  3.0     1      0   2.0    0  1.0  0.0     1       2  \n",
              "7  3.0     1      0   2.0    0  3.0  0.0     1       3  \n",
              "8  3.0     1      0   2.0    0  1.0  1.0     2       3  \n",
              "9  3.0     1      0   2.0    0  1.0  1.0     0       3  "
            ]
          },
          "execution_count": 42,
          "metadata": {},
          "output_type": "execute_result"
        }
      ],
      "source": [
        "dfCopyDropped = dfCopy.drop(['target'], axis=1)\n",
        "X = dfCopyDropped.copy()\n",
        "Y=dfCopy['target']\n",
        "X.head(10)"
      ]
    },
    {
      "cell_type": "markdown",
      "id": "a8304b68",
      "metadata": {
        "id": "a8304b68"
      },
      "source": [
        "## KNN Accuracy (Before Normalization)"
      ]
    },
    {
      "cell_type": "code",
      "execution_count": null,
      "id": "7e5c98ac",
      "metadata": {
        "ExecuteTime": {
          "end_time": "2021-12-02T14:14:24.201625Z",
          "start_time": "2021-12-02T14:14:24.196026Z"
        },
        "id": "7e5c98ac"
      },
      "outputs": [],
      "source": [
        "X_original = X.copy()\n",
        "X_original_train, X_original_test, y_train, y_test = train_test_split(X_original, Y, test_size=0.2)"
      ]
    },
    {
      "cell_type": "code",
      "execution_count": null,
      "id": "91560e50",
      "metadata": {
        "ExecuteTime": {
          "end_time": "2021-12-02T14:14:24.390975Z",
          "start_time": "2021-12-02T14:14:24.381054Z"
        },
        "id": "91560e50",
        "outputId": "ef4abace-79d0-4301-8ead-b099b5d62b69"
      },
      "outputs": [
        {
          "data": {
            "text/plain": [
              "KNeighborsClassifier(n_neighbors=1)"
            ]
          },
          "execution_count": 44,
          "metadata": {},
          "output_type": "execute_result"
        }
      ],
      "source": [
        "knn = KNeighborsClassifier(n_neighbors=1) \n",
        "knn.fit(X_original_train, y_train)"
      ]
    },
    {
      "cell_type": "code",
      "execution_count": null,
      "id": "6a15f67e",
      "metadata": {
        "ExecuteTime": {
          "end_time": "2021-12-02T14:14:24.604235Z",
          "start_time": "2021-12-02T14:14:24.564059Z"
        },
        "id": "6a15f67e"
      },
      "outputs": [],
      "source": [
        "preds = knn.predict(X_original_test)"
      ]
    },
    {
      "cell_type": "code",
      "execution_count": null,
      "id": "57f47271",
      "metadata": {
        "ExecuteTime": {
          "end_time": "2021-12-02T14:14:25.590285Z",
          "start_time": "2021-12-02T14:14:24.748572Z"
        },
        "id": "57f47271",
        "outputId": "6259614c-dc78-4168-cbc6-a84ce911ddaa"
      },
      "outputs": [
        {
          "name": "stdout",
          "output_type": "stream",
          "text": [
            "[[38 11  5  1  7  0  0]\n",
            " [ 4 51  4  0  0  0  0]\n",
            " [ 1  2 53  3  0  1  0]\n",
            " [ 0  1  3 56  0  0  0]\n",
            " [ 1  1  0  0 50  0  0]\n",
            " [ 0  0  0  1  0 59  1]\n",
            " [ 0  0  0  0  0  0 69]]\n"
          ]
        },
        {
          "data": {
            "text/plain": [
              "<AxesSubplot:>"
            ]
          },
          "execution_count": 46,
          "metadata": {},
          "output_type": "execute_result"
        },
        {
          "data": {
            "image/png": "[encoded data removed]",
            "text/plain": [
              "<Figure size 1296x576 with 2 Axes>"
            ]
          },
          "metadata": {},
          "output_type": "display_data"
        }
      ],
      "source": [
        "matrix = confusion_matrix(y_test, preds, labels=Y.unique(), normalize=None)\n",
        "print(matrix)\n",
        "\n",
        "sns.heatmap(matrix, annot=True,  \n",
        "                  annot_kws={\"size\": 14},\n",
        "                  fmt='.2f', cmap=\"Blues\", cbar_kws={\"shrink\": .82},\n",
        "                  linewidths=0.1, linecolor='gray')"
      ]
    },
    {
      "cell_type": "code",
      "execution_count": null,
      "id": "d0295971",
      "metadata": {
        "ExecuteTime": {
          "end_time": "2021-12-02T14:14:25.606653Z",
          "start_time": "2021-12-02T14:14:25.593261Z"
        },
        "scrolled": true,
        "id": "d0295971",
        "outputId": "1a30821a-dd3a-4b44-e610-6fa7643fa5e0"
      },
      "outputs": [
        {
          "name": "stdout",
          "output_type": "stream",
          "text": [
            "              precision    recall  f1-score   support\n",
            "\n",
            "           0       0.96      0.88      0.92        57\n",
            "           1       0.61      0.86      0.72        44\n",
            "           2       0.86      0.77      0.82        66\n",
            "           3       0.88      0.82      0.85        65\n",
            "           4       0.93      0.92      0.93        61\n",
            "           5       0.97      0.98      0.98        60\n",
            "           6       1.00      0.99      0.99        70\n",
            "\n",
            "    accuracy                           0.89       423\n",
            "   macro avg       0.89      0.89      0.88       423\n",
            "weighted avg       0.90      0.89      0.89       423\n",
            "\n"
          ]
        }
      ],
      "source": [
        "print(classification_report(preds, y_test))"
      ]
    },
    {
      "cell_type": "code",
      "execution_count": null,
      "id": "864c405d",
      "metadata": {
        "ExecuteTime": {
          "end_time": "2021-12-02T14:14:34.017832Z",
          "start_time": "2021-12-02T14:14:25.609633Z"
        },
        "id": "864c405d",
        "outputId": "f0f87f41-d9a3-4865-d03f-d55d09727339"
      },
      "outputs": [
        {
          "name": "stdout",
          "output_type": "stream",
          "text": [
            "[0.886 0.875 0.86  0.86  0.848 0.847 0.837 0.829 0.819 0.821 0.818 0.816\n",
            " 0.806 0.806 0.799 0.795 0.789 0.779 0.778 0.775 0.773 0.764 0.763 0.758\n",
            " 0.755 0.749 0.742 0.74  0.736 0.735 0.733 0.731 0.73  0.727 0.719 0.718\n",
            " 0.712 0.707 0.697 0.693 0.688 0.687 0.675 0.674 0.669 0.671 0.668 0.664\n",
            " 0.663]\n"
          ]
        },
        {
          "data": {
            "image/png": "[encoded data removed]",
            "text/plain": [
              "<Figure size 1296x576 with 1 Axes>"
            ]
          },
          "metadata": {},
          "output_type": "display_data"
        }
      ],
      "source": [
        "k_range=list(range(1,50))\n",
        "k_scores=[]\n",
        "for k in k_range:\n",
        "    knn=KNeighborsClassifier(n_neighbors=k)\n",
        "    knn.fit(X_original_train, y_train)\n",
        "    scores=cross_val_score(knn, X_original_train, y_train,cv=5, scoring='f1_weighted')  # or ‘f1_micro’, ‘f1_weighted’\n",
        "    k_scores.append(scores.mean())\n",
        "print(np.round(k_scores,3)) # to display scores to 3 decimal places\n",
        "                                                                          \n",
        "plt.plot(k_range,k_scores)\n",
        "plt.xlabel('k values')\n",
        "plt.ylabel('F1-Score-weighted')\n",
        "plt.show()"
      ]
    },
    {
      "cell_type": "code",
      "execution_count": null,
      "id": "bb73d086",
      "metadata": {
        "ExecuteTime": {
          "end_time": "2021-12-02T14:14:34.029240Z",
          "start_time": "2021-12-02T14:14:34.021304Z"
        },
        "id": "bb73d086",
        "outputId": "e5a1d062-0250-46bc-d513-20894b1d5e13"
      },
      "outputs": [
        {
          "name": "stdout",
          "output_type": "stream",
          "text": [
            "Optimal K:  1\n"
          ]
        }
      ],
      "source": [
        "optimal_k = k_range[k_scores.index(max(k_scores))]\n",
        "print(\"Optimal K: \", optimal_k)"
      ]
    },
    {
      "cell_type": "code",
      "execution_count": null,
      "id": "5e82d104",
      "metadata": {
        "ExecuteTime": {
          "end_time": "2021-12-02T14:14:34.938904Z",
          "start_time": "2021-12-02T14:14:34.033208Z"
        },
        "id": "5e82d104",
        "outputId": "b4768f1c-920b-4d36-a061-3db26fd5e44c"
      },
      "outputs": [
        {
          "name": "stdout",
          "output_type": "stream",
          "text": [
            "[[38 11  5  1  7  0  0]\n",
            " [ 4 51  4  0  0  0  0]\n",
            " [ 1  2 53  3  0  1  0]\n",
            " [ 0  1  3 56  0  0  0]\n",
            " [ 1  1  0  0 50  0  0]\n",
            " [ 0  0  0  1  0 59  1]\n",
            " [ 0  0  0  0  0  0 69]]\n",
            "              precision    recall  f1-score   support\n",
            "\n",
            "           0       0.88      0.96      0.92        52\n",
            "           1       0.86      0.61      0.72        62\n",
            "           2       0.77      0.86      0.82        59\n",
            "           3       0.82      0.88      0.85        60\n",
            "           4       0.92      0.93      0.93        60\n",
            "           5       0.98      0.97      0.98        61\n",
            "           6       0.99      1.00      0.99        69\n",
            "\n",
            "    accuracy                           0.89       423\n",
            "   macro avg       0.89      0.89      0.88       423\n",
            "weighted avg       0.89      0.89      0.89       423\n",
            "\n"
          ]
        },
        {
          "data": {
            "text/plain": [
              "<AxesSubplot:>"
            ]
          },
          "execution_count": 50,
          "metadata": {},
          "output_type": "execute_result"
        },
        {
          "data": {
            "image/png": "[encoded data removed]",
            "text/plain": [
              "<Figure size 1296x576 with 2 Axes>"
            ]
          },
          "metadata": {},
          "output_type": "display_data"
        }
      ],
      "source": [
        "# Training the model on Optimal K.\n",
        "knn_optimal = KNeighborsClassifier(n_neighbors=optimal_k, weights='distance') \n",
        "knn_optimal.fit(X_original_train, y_train)\n",
        "\n",
        "y_hat = knn_optimal.predict(X_original_test)\n",
        "matrix = confusion_matrix(y_test, preds, labels=Y.unique(), normalize=None)\n",
        "print(matrix)\n",
        "print(classification_report(y_test, y_hat))\n",
        "sns.heatmap(matrix, annot=True,  \n",
        "                  annot_kws={\"size\": 14},\n",
        "                  fmt='.2f', cmap=\"Blues\", cbar_kws={\"shrink\": .82},\n",
        "                  linewidths=0.1, linecolor='gray')"
      ]
    },
    {
      "cell_type": "markdown",
      "id": "f6a65ffe",
      "metadata": {
        "id": "f6a65ffe"
      },
      "source": [
        "## KNN Accuracy (After Normalization)\n"
      ]
    },
    {
      "cell_type": "markdown",
      "id": "8f1ed993",
      "metadata": {
        "id": "8f1ed993"
      },
      "source": [
        "### Data Normalization"
      ]
    },
    {
      "cell_type": "code",
      "execution_count": null,
      "id": "9dedfcda",
      "metadata": {
        "ExecuteTime": {
          "end_time": "2021-12-02T14:14:34.990488Z",
          "start_time": "2021-12-02T14:14:34.943369Z"
        },
        "id": "9dedfcda",
        "outputId": "80e08aa9-17d4-44e3-8d75-e1f91a5b6cc0"
      },
      "outputs": [
        {
          "data": {
            "text/html": [
              "<div>\n",
              "<style scoped>\n",
              "    .dataframe tbody tr th:only-of-type {\n",
              "        vertical-align: middle;\n",
              "    }\n",
              "\n",
              "    .dataframe tbody tr th {\n",
              "        vertical-align: top;\n",
              "    }\n",
              "\n",
              "    .dataframe thead th {\n",
              "        text-align: right;\n",
              "    }\n",
              "</style>\n",
              "<table border=\"1\" class=\"dataframe\">\n",
              "  <thead>\n",
              "    <tr style=\"text-align: right;\">\n",
              "      <th></th>\n",
              "      <th>Gender</th>\n",
              "      <th>Age</th>\n",
              "      <th>Height</th>\n",
              "      <th>Weight</th>\n",
              "      <th>family_history_with_overweight</th>\n",
              "      <th>FAVC</th>\n",
              "      <th>FCVC</th>\n",
              "      <th>NCP</th>\n",
              "      <th>CAEC</th>\n",
              "      <th>SMOKE</th>\n",
              "      <th>CH2O</th>\n",
              "      <th>SCC</th>\n",
              "      <th>FAF</th>\n",
              "      <th>TUE</th>\n",
              "      <th>CALC</th>\n",
              "      <th>MTRANS</th>\n",
              "    </tr>\n",
              "  </thead>\n",
              "  <tbody>\n",
              "    <tr>\n",
              "      <th>0</th>\n",
              "      <td>1.011914</td>\n",
              "      <td>-0.522124</td>\n",
              "      <td>-0.875589</td>\n",
              "      <td>-0.862558</td>\n",
              "      <td>0.472291</td>\n",
              "      <td>-2.759769</td>\n",
              "      <td>-0.785019</td>\n",
              "      <td>0.404153</td>\n",
              "      <td>-0.300346</td>\n",
              "      <td>-0.145900</td>\n",
              "      <td>-0.013073</td>\n",
              "      <td>-0.218272</td>\n",
              "      <td>-1.188039</td>\n",
              "      <td>0.561997</td>\n",
              "      <td>-1.419172</td>\n",
              "      <td>0.503337</td>\n",
              "    </tr>\n",
              "    <tr>\n",
              "      <th>1</th>\n",
              "      <td>1.011914</td>\n",
              "      <td>-0.522124</td>\n",
              "      <td>-1.947599</td>\n",
              "      <td>-1.168077</td>\n",
              "      <td>0.472291</td>\n",
              "      <td>-2.759769</td>\n",
              "      <td>1.088342</td>\n",
              "      <td>0.404153</td>\n",
              "      <td>-0.300346</td>\n",
              "      <td>6.853997</td>\n",
              "      <td>1.618759</td>\n",
              "      <td>4.581439</td>\n",
              "      <td>2.339750</td>\n",
              "      <td>-1.080625</td>\n",
              "      <td>0.521160</td>\n",
              "      <td>0.503337</td>\n",
              "    </tr>\n",
              "    <tr>\n",
              "      <th>2</th>\n",
              "      <td>-0.988227</td>\n",
              "      <td>-0.206889</td>\n",
              "      <td>1.054029</td>\n",
              "      <td>-0.366090</td>\n",
              "      <td>0.472291</td>\n",
              "      <td>-2.759769</td>\n",
              "      <td>-0.785019</td>\n",
              "      <td>0.404153</td>\n",
              "      <td>-0.300346</td>\n",
              "      <td>-0.145900</td>\n",
              "      <td>-0.013073</td>\n",
              "      <td>-0.218272</td>\n",
              "      <td>1.163820</td>\n",
              "      <td>0.561997</td>\n",
              "      <td>2.461491</td>\n",
              "      <td>0.503337</td>\n",
              "    </tr>\n",
              "    <tr>\n",
              "      <th>3</th>\n",
              "      <td>-0.988227</td>\n",
              "      <td>0.423582</td>\n",
              "      <td>1.054029</td>\n",
              "      <td>0.015808</td>\n",
              "      <td>-2.117337</td>\n",
              "      <td>-2.759769</td>\n",
              "      <td>1.088342</td>\n",
              "      <td>0.404153</td>\n",
              "      <td>-0.300346</td>\n",
              "      <td>-0.145900</td>\n",
              "      <td>-0.013073</td>\n",
              "      <td>-0.218272</td>\n",
              "      <td>1.163820</td>\n",
              "      <td>-1.080625</td>\n",
              "      <td>2.461491</td>\n",
              "      <td>1.296280</td>\n",
              "    </tr>\n",
              "    <tr>\n",
              "      <th>4</th>\n",
              "      <td>-0.988227</td>\n",
              "      <td>-0.364507</td>\n",
              "      <td>0.839627</td>\n",
              "      <td>0.122740</td>\n",
              "      <td>-2.117337</td>\n",
              "      <td>-2.759769</td>\n",
              "      <td>-0.785019</td>\n",
              "      <td>-2.167023</td>\n",
              "      <td>-0.300346</td>\n",
              "      <td>-0.145900</td>\n",
              "      <td>-0.013073</td>\n",
              "      <td>-0.218272</td>\n",
              "      <td>-1.188039</td>\n",
              "      <td>-1.080625</td>\n",
              "      <td>0.521160</td>\n",
              "      <td>0.503337</td>\n",
              "    </tr>\n",
              "    <tr>\n",
              "      <th>...</th>\n",
              "      <td>...</td>\n",
              "      <td>...</td>\n",
              "      <td>...</td>\n",
              "      <td>...</td>\n",
              "      <td>...</td>\n",
              "      <td>...</td>\n",
              "      <td>...</td>\n",
              "      <td>...</td>\n",
              "      <td>...</td>\n",
              "      <td>...</td>\n",
              "      <td>...</td>\n",
              "      <td>...</td>\n",
              "      <td>...</td>\n",
              "      <td>...</td>\n",
              "      <td>...</td>\n",
              "      <td>...</td>\n",
              "    </tr>\n",
              "    <tr>\n",
              "      <th>2106</th>\n",
              "      <td>1.011914</td>\n",
              "      <td>-0.525774</td>\n",
              "      <td>0.097045</td>\n",
              "      <td>1.711763</td>\n",
              "      <td>0.472291</td>\n",
              "      <td>0.362349</td>\n",
              "      <td>1.088342</td>\n",
              "      <td>0.404153</td>\n",
              "      <td>-0.300346</td>\n",
              "      <td>-0.145900</td>\n",
              "      <td>-0.456705</td>\n",
              "      <td>-0.218272</td>\n",
              "      <td>0.783135</td>\n",
              "      <td>0.407996</td>\n",
              "      <td>0.521160</td>\n",
              "      <td>0.503337</td>\n",
              "    </tr>\n",
              "    <tr>\n",
              "      <th>2107</th>\n",
              "      <td>1.011914</td>\n",
              "      <td>-0.367195</td>\n",
              "      <td>0.502844</td>\n",
              "      <td>1.800914</td>\n",
              "      <td>0.472291</td>\n",
              "      <td>0.362349</td>\n",
              "      <td>1.088342</td>\n",
              "      <td>0.404153</td>\n",
              "      <td>-0.300346</td>\n",
              "      <td>-0.145900</td>\n",
              "      <td>-0.004702</td>\n",
              "      <td>-0.218272</td>\n",
              "      <td>0.389341</td>\n",
              "      <td>-0.096251</td>\n",
              "      <td>0.521160</td>\n",
              "      <td>0.503337</td>\n",
              "    </tr>\n",
              "    <tr>\n",
              "      <th>2108</th>\n",
              "      <td>1.011914</td>\n",
              "      <td>-0.281909</td>\n",
              "      <td>0.541672</td>\n",
              "      <td>1.798868</td>\n",
              "      <td>0.472291</td>\n",
              "      <td>0.362349</td>\n",
              "      <td>1.088342</td>\n",
              "      <td>0.404153</td>\n",
              "      <td>-0.300346</td>\n",
              "      <td>-0.145900</td>\n",
              "      <td>0.075361</td>\n",
              "      <td>-0.218272</td>\n",
              "      <td>0.474971</td>\n",
              "      <td>-0.019018</td>\n",
              "      <td>0.521160</td>\n",
              "      <td>0.503337</td>\n",
              "    </tr>\n",
              "    <tr>\n",
              "      <th>2109</th>\n",
              "      <td>1.011914</td>\n",
              "      <td>0.007776</td>\n",
              "      <td>0.404927</td>\n",
              "      <td>1.785780</td>\n",
              "      <td>0.472291</td>\n",
              "      <td>0.362349</td>\n",
              "      <td>1.088342</td>\n",
              "      <td>0.404153</td>\n",
              "      <td>-0.300346</td>\n",
              "      <td>-0.145900</td>\n",
              "      <td>1.377801</td>\n",
              "      <td>-0.218272</td>\n",
              "      <td>0.151471</td>\n",
              "      <td>-0.117991</td>\n",
              "      <td>0.521160</td>\n",
              "      <td>0.503337</td>\n",
              "    </tr>\n",
              "    <tr>\n",
              "      <th>2110</th>\n",
              "      <td>1.011914</td>\n",
              "      <td>-0.102119</td>\n",
              "      <td>0.398344</td>\n",
              "      <td>1.790592</td>\n",
              "      <td>0.472291</td>\n",
              "      <td>0.362349</td>\n",
              "      <td>1.088342</td>\n",
              "      <td>0.404153</td>\n",
              "      <td>-0.300346</td>\n",
              "      <td>-0.145900</td>\n",
              "      <td>1.396035</td>\n",
              "      <td>-0.218272</td>\n",
              "      <td>0.018996</td>\n",
              "      <td>0.092432</td>\n",
              "      <td>0.521160</td>\n",
              "      <td>0.503337</td>\n",
              "    </tr>\n",
              "  </tbody>\n",
              "</table>\n",
              "<p>2111 rows × 16 columns</p>\n",
              "</div>"
            ],
            "text/plain": [
              "        Gender       Age    Height    Weight  family_history_with_overweight  \\\n",
              "0     1.011914 -0.522124 -0.875589 -0.862558                        0.472291   \n",
              "1     1.011914 -0.522124 -1.947599 -1.168077                        0.472291   \n",
              "2    -0.988227 -0.206889  1.054029 -0.366090                        0.472291   \n",
              "3    -0.988227  0.423582  1.054029  0.015808                       -2.117337   \n",
              "4    -0.988227 -0.364507  0.839627  0.122740                       -2.117337   \n",
              "...        ...       ...       ...       ...                             ...   \n",
              "2106  1.011914 -0.525774  0.097045  1.711763                        0.472291   \n",
              "2107  1.011914 -0.367195  0.502844  1.800914                        0.472291   \n",
              "2108  1.011914 -0.281909  0.541672  1.798868                        0.472291   \n",
              "2109  1.011914  0.007776  0.404927  1.785780                        0.472291   \n",
              "2110  1.011914 -0.102119  0.398344  1.790592                        0.472291   \n",
              "\n",
              "          FAVC      FCVC       NCP      CAEC     SMOKE      CH2O       SCC  \\\n",
              "0    -2.759769 -0.785019  0.404153 -0.300346 -0.145900 -0.013073 -0.218272   \n",
              "1    -2.759769  1.088342  0.404153 -0.300346  6.853997  1.618759  4.581439   \n",
              "2    -2.759769 -0.785019  0.404153 -0.300346 -0.145900 -0.013073 -0.218272   \n",
              "3    -2.759769  1.088342  0.404153 -0.300346 -0.145900 -0.013073 -0.218272   \n",
              "4    -2.759769 -0.785019 -2.167023 -0.300346 -0.145900 -0.013073 -0.218272   \n",
              "...        ...       ...       ...       ...       ...       ...       ...   \n",
              "2106  0.362349  1.088342  0.404153 -0.300346 -0.145900 -0.456705 -0.218272   \n",
              "2107  0.362349  1.088342  0.404153 -0.300346 -0.145900 -0.004702 -0.218272   \n",
              "2108  0.362349  1.088342  0.404153 -0.300346 -0.145900  0.075361 -0.218272   \n",
              "2109  0.362349  1.088342  0.404153 -0.300346 -0.145900  1.377801 -0.218272   \n",
              "2110  0.362349  1.088342  0.404153 -0.300346 -0.145900  1.396035 -0.218272   \n",
              "\n",
              "           FAF       TUE      CALC    MTRANS  \n",
              "0    -1.188039  0.561997 -1.419172  0.503337  \n",
              "1     2.339750 -1.080625  0.521160  0.503337  \n",
              "2     1.163820  0.561997  2.461491  0.503337  \n",
              "3     1.163820 -1.080625  2.461491  1.296280  \n",
              "4    -1.188039 -1.080625  0.521160  0.503337  \n",
              "...        ...       ...       ...       ...  \n",
              "2106  0.783135  0.407996  0.521160  0.503337  \n",
              "2107  0.389341 -0.096251  0.521160  0.503337  \n",
              "2108  0.474971 -0.019018  0.521160  0.503337  \n",
              "2109  0.151471 -0.117991  0.521160  0.503337  \n",
              "2110  0.018996  0.092432  0.521160  0.503337  \n",
              "\n",
              "[2111 rows x 16 columns]"
            ]
          },
          "execution_count": 51,
          "metadata": {},
          "output_type": "execute_result"
        }
      ],
      "source": [
        "scaler=StandardScaler()\n",
        "# scaler = MinMaxScaler()\n",
        "X=scaler.fit_transform(X)\n",
        "X = pd.DataFrame(X, columns = dfCopyDropped.columns[:])\n",
        "X\n",
        "# X=(X - X.min()) / (X.max() - X.min())"
      ]
    },
    {
      "cell_type": "code",
      "execution_count": null,
      "id": "5bbfbc61",
      "metadata": {
        "ExecuteTime": {
          "end_time": "2021-12-02T14:14:35.090185Z",
          "start_time": "2021-12-02T14:14:34.995449Z"
        },
        "id": "5bbfbc61",
        "outputId": "a48cf3d2-f6dc-4178-bcb2-815da8ffeb49"
      },
      "outputs": [
        {
          "data": {
            "text/html": [
              "<div>\n",
              "<style scoped>\n",
              "    .dataframe tbody tr th:only-of-type {\n",
              "        vertical-align: middle;\n",
              "    }\n",
              "\n",
              "    .dataframe tbody tr th {\n",
              "        vertical-align: top;\n",
              "    }\n",
              "\n",
              "    .dataframe thead th {\n",
              "        text-align: right;\n",
              "    }\n",
              "</style>\n",
              "<table border=\"1\" class=\"dataframe\">\n",
              "  <thead>\n",
              "    <tr style=\"text-align: right;\">\n",
              "      <th></th>\n",
              "      <th>Gender</th>\n",
              "      <th>Age</th>\n",
              "      <th>Height</th>\n",
              "      <th>Weight</th>\n",
              "      <th>family_history_with_overweight</th>\n",
              "      <th>FAVC</th>\n",
              "      <th>FCVC</th>\n",
              "      <th>NCP</th>\n",
              "      <th>CAEC</th>\n",
              "      <th>SMOKE</th>\n",
              "      <th>CH2O</th>\n",
              "      <th>SCC</th>\n",
              "      <th>FAF</th>\n",
              "      <th>TUE</th>\n",
              "      <th>CALC</th>\n",
              "      <th>MTRANS</th>\n",
              "    </tr>\n",
              "  </thead>\n",
              "  <tbody>\n",
              "    <tr>\n",
              "      <th>count</th>\n",
              "      <td>2.111000e+03</td>\n",
              "      <td>2.111000e+03</td>\n",
              "      <td>2.111000e+03</td>\n",
              "      <td>2.111000e+03</td>\n",
              "      <td>2.111000e+03</td>\n",
              "      <td>2.111000e+03</td>\n",
              "      <td>2.111000e+03</td>\n",
              "      <td>2.111000e+03</td>\n",
              "      <td>2.111000e+03</td>\n",
              "      <td>2.111000e+03</td>\n",
              "      <td>2.111000e+03</td>\n",
              "      <td>2.111000e+03</td>\n",
              "      <td>2.111000e+03</td>\n",
              "      <td>2.111000e+03</td>\n",
              "      <td>2.111000e+03</td>\n",
              "      <td>2.111000e+03</td>\n",
              "    </tr>\n",
              "    <tr>\n",
              "      <th>mean</th>\n",
              "      <td>6.529857e-16</td>\n",
              "      <td>-4.823567e-16</td>\n",
              "      <td>-6.476213e-16</td>\n",
              "      <td>-1.786349e-15</td>\n",
              "      <td>-7.570659e-16</td>\n",
              "      <td>8.647906e-15</td>\n",
              "      <td>2.861020e-16</td>\n",
              "      <td>-6.844359e-16</td>\n",
              "      <td>-2.540838e-15</td>\n",
              "      <td>1.326640e-16</td>\n",
              "      <td>3.811888e-16</td>\n",
              "      <td>-3.919361e-15</td>\n",
              "      <td>2.325105e-16</td>\n",
              "      <td>-8.107757e-17</td>\n",
              "      <td>-2.006185e-15</td>\n",
              "      <td>5.255021e-16</td>\n",
              "    </tr>\n",
              "    <tr>\n",
              "      <th>std</th>\n",
              "      <td>1.000237e+00</td>\n",
              "      <td>1.000237e+00</td>\n",
              "      <td>1.000237e+00</td>\n",
              "      <td>1.000237e+00</td>\n",
              "      <td>1.000237e+00</td>\n",
              "      <td>1.000237e+00</td>\n",
              "      <td>1.000237e+00</td>\n",
              "      <td>1.000237e+00</td>\n",
              "      <td>1.000237e+00</td>\n",
              "      <td>1.000237e+00</td>\n",
              "      <td>1.000237e+00</td>\n",
              "      <td>1.000237e+00</td>\n",
              "      <td>1.000237e+00</td>\n",
              "      <td>1.000237e+00</td>\n",
              "      <td>1.000237e+00</td>\n",
              "      <td>1.000237e+00</td>\n",
              "    </tr>\n",
              "    <tr>\n",
              "      <th>min</th>\n",
              "      <td>-9.882266e-01</td>\n",
              "      <td>-1.625448e+00</td>\n",
              "      <td>-2.698006e+00</td>\n",
              "      <td>-1.817304e+00</td>\n",
              "      <td>-2.117337e+00</td>\n",
              "      <td>-2.759769e+00</td>\n",
              "      <td>-2.658379e+00</td>\n",
              "      <td>-2.167023e+00</td>\n",
              "      <td>-2.435125e+00</td>\n",
              "      <td>-1.459003e-01</td>\n",
              "      <td>-1.644905e+00</td>\n",
              "      <td>-2.182720e-01</td>\n",
              "      <td>-1.188039e+00</td>\n",
              "      <td>-1.080625e+00</td>\n",
              "      <td>-1.419172e+00</td>\n",
              "      <td>-1.875493e+00</td>\n",
              "    </tr>\n",
              "    <tr>\n",
              "      <th>25%</th>\n",
              "      <td>-9.882266e-01</td>\n",
              "      <td>-6.880656e-01</td>\n",
              "      <td>-7.683883e-01</td>\n",
              "      <td>-8.062914e-01</td>\n",
              "      <td>4.722913e-01</td>\n",
              "      <td>3.623491e-01</td>\n",
              "      <td>-7.850187e-01</td>\n",
              "      <td>-3.456952e-02</td>\n",
              "      <td>-3.003456e-01</td>\n",
              "      <td>-1.459003e-01</td>\n",
              "      <td>-6.905894e-01</td>\n",
              "      <td>-2.182720e-01</td>\n",
              "      <td>-1.041630e+00</td>\n",
              "      <td>-1.080625e+00</td>\n",
              "      <td>-1.419172e+00</td>\n",
              "      <td>5.033367e-01</td>\n",
              "    </tr>\n",
              "    <tr>\n",
              "      <th>50%</th>\n",
              "      <td>-9.882266e-01</td>\n",
              "      <td>-2.418974e-01</td>\n",
              "      <td>-1.263207e-02</td>\n",
              "      <td>-1.369510e-01</td>\n",
              "      <td>4.722913e-01</td>\n",
              "      <td>3.623491e-01</td>\n",
              "      <td>-6.283450e-02</td>\n",
              "      <td>4.041527e-01</td>\n",
              "      <td>-3.003456e-01</td>\n",
              "      <td>-1.459003e-01</td>\n",
              "      <td>-1.307326e-02</td>\n",
              "      <td>-2.182720e-01</td>\n",
              "      <td>-1.210937e-02</td>\n",
              "      <td>-5.341135e-02</td>\n",
              "      <td>5.211595e-01</td>\n",
              "      <td>5.033367e-01</td>\n",
              "    </tr>\n",
              "    <tr>\n",
              "      <th>75%</th>\n",
              "      <td>1.011914e+00</td>\n",
              "      <td>2.659641e-01</td>\n",
              "      <td>7.159595e-01</td>\n",
              "      <td>7.960531e-01</td>\n",
              "      <td>4.722913e-01</td>\n",
              "      <td>3.623491e-01</td>\n",
              "      <td>1.088342e+00</td>\n",
              "      <td>4.041527e-01</td>\n",
              "      <td>-3.003456e-01</td>\n",
              "      <td>-1.459003e-01</td>\n",
              "      <td>7.659959e-01</td>\n",
              "      <td>-2.182720e-01</td>\n",
              "      <td>7.718565e-01</td>\n",
              "      <td>5.619968e-01</td>\n",
              "      <td>5.211595e-01</td>\n",
              "      <td>5.033367e-01</td>\n",
              "    </tr>\n",
              "    <tr>\n",
              "      <th>max</th>\n",
              "      <td>1.011914e+00</td>\n",
              "      <td>5.782584e+00</td>\n",
              "      <td>2.983646e+00</td>\n",
              "      <td>3.300136e+00</td>\n",
              "      <td>4.722913e-01</td>\n",
              "      <td>3.623491e-01</td>\n",
              "      <td>1.088342e+00</td>\n",
              "      <td>1.689740e+00</td>\n",
              "      <td>3.969213e+00</td>\n",
              "      <td>6.853997e+00</td>\n",
              "      <td>1.618759e+00</td>\n",
              "      <td>4.581439e+00</td>\n",
              "      <td>2.339750e+00</td>\n",
              "      <td>2.204618e+00</td>\n",
              "      <td>4.401822e+00</td>\n",
              "      <td>1.296280e+00</td>\n",
              "    </tr>\n",
              "  </tbody>\n",
              "</table>\n",
              "</div>"
            ],
            "text/plain": [
              "             Gender           Age        Height        Weight  \\\n",
              "count  2.111000e+03  2.111000e+03  2.111000e+03  2.111000e+03   \n",
              "mean   6.529857e-16 -4.823567e-16 -6.476213e-16 -1.786349e-15   \n",
              "std    1.000237e+00  1.000237e+00  1.000237e+00  1.000237e+00   \n",
              "min   -9.882266e-01 -1.625448e+00 -2.698006e+00 -1.817304e+00   \n",
              "25%   -9.882266e-01 -6.880656e-01 -7.683883e-01 -8.062914e-01   \n",
              "50%   -9.882266e-01 -2.418974e-01 -1.263207e-02 -1.369510e-01   \n",
              "75%    1.011914e+00  2.659641e-01  7.159595e-01  7.960531e-01   \n",
              "max    1.011914e+00  5.782584e+00  2.983646e+00  3.300136e+00   \n",
              "\n",
              "       family_history_with_overweight          FAVC          FCVC  \\\n",
              "count                    2.111000e+03  2.111000e+03  2.111000e+03   \n",
              "mean                    -7.570659e-16  8.647906e-15  2.861020e-16   \n",
              "std                      1.000237e+00  1.000237e+00  1.000237e+00   \n",
              "min                     -2.117337e+00 -2.759769e+00 -2.658379e+00   \n",
              "25%                      4.722913e-01  3.623491e-01 -7.850187e-01   \n",
              "50%                      4.722913e-01  3.623491e-01 -6.283450e-02   \n",
              "75%                      4.722913e-01  3.623491e-01  1.088342e+00   \n",
              "max                      4.722913e-01  3.623491e-01  1.088342e+00   \n",
              "\n",
              "                NCP          CAEC         SMOKE          CH2O           SCC  \\\n",
              "count  2.111000e+03  2.111000e+03  2.111000e+03  2.111000e+03  2.111000e+03   \n",
              "mean  -6.844359e-16 -2.540838e-15  1.326640e-16  3.811888e-16 -3.919361e-15   \n",
              "std    1.000237e+00  1.000237e+00  1.000237e+00  1.000237e+00  1.000237e+00   \n",
              "min   -2.167023e+00 -2.435125e+00 -1.459003e-01 -1.644905e+00 -2.182720e-01   \n",
              "25%   -3.456952e-02 -3.003456e-01 -1.459003e-01 -6.905894e-01 -2.182720e-01   \n",
              "50%    4.041527e-01 -3.003456e-01 -1.459003e-01 -1.307326e-02 -2.182720e-01   \n",
              "75%    4.041527e-01 -3.003456e-01 -1.459003e-01  7.659959e-01 -2.182720e-01   \n",
              "max    1.689740e+00  3.969213e+00  6.853997e+00  1.618759e+00  4.581439e+00   \n",
              "\n",
              "                FAF           TUE          CALC        MTRANS  \n",
              "count  2.111000e+03  2.111000e+03  2.111000e+03  2.111000e+03  \n",
              "mean   2.325105e-16 -8.107757e-17 -2.006185e-15  5.255021e-16  \n",
              "std    1.000237e+00  1.000237e+00  1.000237e+00  1.000237e+00  \n",
              "min   -1.188039e+00 -1.080625e+00 -1.419172e+00 -1.875493e+00  \n",
              "25%   -1.041630e+00 -1.080625e+00 -1.419172e+00  5.033367e-01  \n",
              "50%   -1.210937e-02 -5.341135e-02  5.211595e-01  5.033367e-01  \n",
              "75%    7.718565e-01  5.619968e-01  5.211595e-01  5.033367e-01  \n",
              "max    2.339750e+00  2.204618e+00  4.401822e+00  1.296280e+00  "
            ]
          },
          "execution_count": 52,
          "metadata": {},
          "output_type": "execute_result"
        }
      ],
      "source": [
        "X.describe()"
      ]
    },
    {
      "cell_type": "markdown",
      "id": "81242542",
      "metadata": {
        "id": "81242542"
      },
      "source": [
        "### Fetch Target"
      ]
    },
    {
      "cell_type": "code",
      "execution_count": null,
      "id": "576bd969",
      "metadata": {
        "ExecuteTime": {
          "end_time": "2021-12-02T14:14:35.099114Z",
          "start_time": "2021-12-02T14:14:35.093160Z"
        },
        "id": "576bd969",
        "outputId": "759f361f-ad71-494e-9168-b1b7b5d83cd5"
      },
      "outputs": [
        {
          "data": {
            "text/plain": [
              "array([1, 1, 1, ..., 6, 6, 6], dtype=int64)"
            ]
          },
          "execution_count": 53,
          "metadata": {},
          "output_type": "execute_result"
        }
      ],
      "source": [
        "y_true = dfCopy['target'].values\n",
        "y_true"
      ]
    },
    {
      "cell_type": "code",
      "execution_count": null,
      "id": "cdf6fbff",
      "metadata": {
        "ExecuteTime": {
          "end_time": "2021-12-02T14:14:35.113993Z",
          "start_time": "2021-12-02T14:14:35.104072Z"
        },
        "id": "cdf6fbff",
        "outputId": "30404a5c-e86a-435c-9c1b-604dd29f2a97"
      },
      "outputs": [
        {
          "data": {
            "text/plain": [
              "array([1, 2, 3, 4, 0, 5, 6], dtype=int64)"
            ]
          },
          "execution_count": 54,
          "metadata": {},
          "output_type": "execute_result"
        }
      ],
      "source": [
        "labels = dfCopy[\"target\"].unique()\n",
        "labels"
      ]
    },
    {
      "cell_type": "code",
      "execution_count": null,
      "id": "2d266483",
      "metadata": {
        "ExecuteTime": {
          "end_time": "2021-12-02T14:14:35.125400Z",
          "start_time": "2021-12-02T14:14:35.117964Z"
        },
        "id": "2d266483"
      },
      "outputs": [],
      "source": [
        "X_train, X_test, y_train, y_test = train_test_split(X, Y, test_size=0.1)"
      ]
    },
    {
      "cell_type": "code",
      "execution_count": null,
      "id": "456eb8a3",
      "metadata": {
        "ExecuteTime": {
          "end_time": "2021-12-02T14:14:35.138297Z",
          "start_time": "2021-12-02T14:14:35.127880Z"
        },
        "id": "456eb8a3",
        "outputId": "972d4230-e430-4b44-ca4c-fc30d835f91d"
      },
      "outputs": [
        {
          "data": {
            "text/plain": [
              "KNeighborsClassifier(n_neighbors=49)"
            ]
          },
          "execution_count": 56,
          "metadata": {},
          "output_type": "execute_result"
        }
      ],
      "source": [
        "# knn = KNeighborsClassifier(n_neighbors=5) \n",
        "knn.fit(X_train, y_train)"
      ]
    },
    {
      "cell_type": "code",
      "execution_count": null,
      "id": "c1eccf95",
      "metadata": {
        "ExecuteTime": {
          "end_time": "2021-12-02T14:14:35.167064Z",
          "start_time": "2021-12-02T14:14:35.140281Z"
        },
        "id": "c1eccf95"
      },
      "outputs": [],
      "source": [
        "# Use the .predict() method to make predictions from the X_test subset\n",
        "preds = knn.predict(X_test)"
      ]
    },
    {
      "cell_type": "code",
      "execution_count": null,
      "id": "49498b40",
      "metadata": {
        "ExecuteTime": {
          "end_time": "2021-12-02T14:14:36.047961Z",
          "start_time": "2021-12-02T14:14:35.169048Z"
        },
        "id": "49498b40",
        "outputId": "f3ed630a-9c9f-4c38-d93d-acc5515bc4a6"
      },
      "outputs": [
        {
          "name": "stdout",
          "output_type": "stream",
          "text": [
            "[[ 5  6  3  1  8  0  0]\n",
            " [ 2 14  1  2  2  1  1]\n",
            " [ 0  5 17  5  0  3  0]\n",
            " [ 2  2  0 26  0  3  5]\n",
            " [ 0  2  0  0 28  0  0]\n",
            " [ 0  0  0  0  0 33  0]\n",
            " [ 0  0  0  0  0  0 35]]\n"
          ]
        },
        {
          "data": {
            "text/plain": [
              "<AxesSubplot:>"
            ]
          },
          "execution_count": 58,
          "metadata": {},
          "output_type": "execute_result"
        },
        {
          "data": {
            "image/png": "[encoded data removed]",
            "text/plain": [
              "<Figure size 1296x576 with 2 Axes>"
            ]
          },
          "metadata": {},
          "output_type": "display_data"
        }
      ],
      "source": [
        "matrix = confusion_matrix(y_test, preds, labels=Y.unique(), normalize=None)\n",
        "print(matrix)\n",
        "\n",
        "sns.heatmap(matrix, annot=True,  \n",
        "                  annot_kws={\"size\": 14},\n",
        "                  fmt='.2f', cmap=\"Blues\", cbar_kws={\"shrink\": .82},\n",
        "                  linewidths=0.1, linecolor='gray')"
      ]
    },
    {
      "cell_type": "markdown",
      "id": "abd47e8c",
      "metadata": {
        "id": "abd47e8c"
      },
      "source": [
        "Perhaps in your particular instance, one inputs *should* be dramatically more or less important than the other inputs. This explains why normalization reduced accuracy. We can solve this by dropping unimportant features."
      ]
    },
    {
      "cell_type": "code",
      "execution_count": null,
      "id": "9c9f9b9c",
      "metadata": {
        "ExecuteTime": {
          "end_time": "2021-12-02T14:14:36.062841Z",
          "start_time": "2021-12-02T14:14:36.049946Z"
        },
        "id": "9c9f9b9c",
        "outputId": "f1191264-3d93-46bc-9c5c-8885c6547951"
      },
      "outputs": [
        {
          "name": "stdout",
          "output_type": "stream",
          "text": [
            "              precision    recall  f1-score   support\n",
            "\n",
            "           0       0.93      0.74      0.82        38\n",
            "           1       0.22      0.56      0.31         9\n",
            "           2       0.61      0.48      0.54        29\n",
            "           3       0.57      0.81      0.67        21\n",
            "           4       0.68      0.76      0.72        34\n",
            "           5       1.00      0.82      0.90        40\n",
            "           6       1.00      0.85      0.92        41\n",
            "\n",
            "    accuracy                           0.75       212\n",
            "   macro avg       0.72      0.72      0.70       212\n",
            "weighted avg       0.81      0.75      0.77       212\n",
            "\n"
          ]
        }
      ],
      "source": [
        "print(classification_report(preds, y_test))"
      ]
    },
    {
      "cell_type": "markdown",
      "id": "c49a46e7",
      "metadata": {
        "id": "c49a46e7"
      },
      "source": [
        "## Parameter tuning: optimizing the number of neighbors (k) ...Method 2 by using Cross validation"
      ]
    },
    {
      "cell_type": "code",
      "execution_count": null,
      "id": "366dd859",
      "metadata": {
        "ExecuteTime": {
          "end_time": "2021-12-02T14:14:45.541412Z",
          "start_time": "2021-12-02T14:14:36.066810Z"
        },
        "id": "366dd859",
        "outputId": "5ecb33f3-1053-4615-b4a4-2fbaf7eeb160"
      },
      "outputs": [
        {
          "name": "stdout",
          "output_type": "stream",
          "text": [
            "[0.826 0.814 0.812 0.806 0.808 0.796 0.784 0.772 0.769 0.76  0.757 0.748\n",
            " 0.74  0.737 0.732 0.728 0.726 0.721 0.712 0.712 0.71  0.712 0.703 0.7\n",
            " 0.7   0.692 0.687 0.686 0.683 0.681 0.678 0.679 0.674 0.676 0.674 0.674\n",
            " 0.668 0.666 0.664 0.661 0.663 0.66  0.659 0.657 0.651 0.65  0.643 0.647\n",
            " 0.644]\n"
          ]
        },
        {
          "data": {
            "image/png": "[encoded data removed]",
            "text/plain": [
              "<Figure size 1296x576 with 1 Axes>"
            ]
          },
          "metadata": {},
          "output_type": "display_data"
        }
      ],
      "source": [
        "k_range=list(range(1,50))\n",
        "k_scores=[]\n",
        "for k in k_range:\n",
        "    knn=KNeighborsClassifier(n_neighbors=k)\n",
        "    knn.fit(X_train, y_train)\n",
        "    scores=cross_val_score(knn, X_train, y_train,cv=5, scoring='f1_weighted')  # or ‘f1_micro’, ‘f1_weighted’\n",
        "    k_scores.append(scores.mean())\n",
        "print(np.round(k_scores,3)) # to display scores to 3 decimal places\n",
        "                                                                          \n",
        "plt.plot(k_range,k_scores)\n",
        "plt.xlabel('k values')\n",
        "plt.ylabel('F1-Score-weighted')\n",
        "plt.show()"
      ]
    },
    {
      "cell_type": "code",
      "execution_count": null,
      "id": "52e745c9",
      "metadata": {
        "ExecuteTime": {
          "end_time": "2021-12-02T14:14:45.553317Z",
          "start_time": "2021-12-02T14:14:45.543893Z"
        },
        "id": "52e745c9",
        "outputId": "ca58397a-6d0b-4e02-9b34-63efed6db3ec"
      },
      "outputs": [
        {
          "name": "stdout",
          "output_type": "stream",
          "text": [
            "Optimal K:  1\n"
          ]
        }
      ],
      "source": [
        "optimal_k = k_range[k_scores.index(max(k_scores))]\n",
        "print(\"Optimal K: \", optimal_k)"
      ]
    },
    {
      "cell_type": "code",
      "execution_count": null,
      "id": "b770b419",
      "metadata": {
        "ExecuteTime": {
          "end_time": "2021-12-02T14:14:46.465462Z",
          "start_time": "2021-12-02T14:14:45.555797Z"
        },
        "id": "b770b419",
        "outputId": "e999a504-6567-400d-860f-f3b5c9f60865"
      },
      "outputs": [
        {
          "name": "stdout",
          "output_type": "stream",
          "text": [
            "[[ 5  6  3  1  8  0  0]\n",
            " [ 2 14  1  2  2  1  1]\n",
            " [ 0  5 17  5  0  3  0]\n",
            " [ 2  2  0 26  0  3  5]\n",
            " [ 0  2  0  0 28  0  0]\n",
            " [ 0  0  0  0  0 33  0]\n",
            " [ 0  0  0  0  0  0 35]]\n",
            "              precision    recall  f1-score   support\n",
            "\n",
            "           0       0.79      0.87      0.83        30\n",
            "           1       0.64      0.39      0.49        23\n",
            "           2       0.71      0.87      0.78        23\n",
            "           3       0.87      0.90      0.89        30\n",
            "           4       0.94      0.89      0.92        38\n",
            "           5       0.97      1.00      0.99        33\n",
            "           6       0.97      1.00      0.99        35\n",
            "\n",
            "    accuracy                           0.87       212\n",
            "   macro avg       0.84      0.85      0.84       212\n",
            "weighted avg       0.86      0.87      0.86       212\n",
            "\n"
          ]
        },
        {
          "data": {
            "text/plain": [
              "<AxesSubplot:>"
            ]
          },
          "execution_count": 62,
          "metadata": {},
          "output_type": "execute_result"
        },
        {
          "data": {
            "image/png": "[encoded data removed]",
            "text/plain": [
              "<Figure size 1296x576 with 2 Axes>"
            ]
          },
          "metadata": {},
          "output_type": "display_data"
        }
      ],
      "source": [
        "# Training the model on Optimal K.\n",
        "knn_optimal = KNeighborsClassifier(n_neighbors=optimal_k, weights='distance') \n",
        "knn_optimal.fit(X_train, y_train)\n",
        "\n",
        "y_hat = knn_optimal.predict(X_test)\n",
        "matrix = confusion_matrix(y_test, preds, labels=Y.unique(), normalize=None)\n",
        "print(matrix)\n",
        "print(classification_report(y_test, y_hat))\n",
        "sns.heatmap(matrix, annot=True,  \n",
        "                  annot_kws={\"size\": 14},\n",
        "                  fmt='.2f', cmap=\"Blues\", cbar_kws={\"shrink\": .82},\n",
        "                  linewidths=0.1, linecolor='gray')"
      ]
    },
    {
      "cell_type": "markdown",
      "id": "37fed607",
      "metadata": {
        "id": "37fed607"
      },
      "source": [
        "# Testing KNN, Decision Tree, Random Forest, and SVC\n"
      ]
    },
    {
      "cell_type": "markdown",
      "id": "1d8e1c49",
      "metadata": {
        "id": "1d8e1c49"
      },
      "source": [
        "## Dropping Features"
      ]
    },
    {
      "cell_type": "code",
      "execution_count": null,
      "id": "d785b598",
      "metadata": {
        "ExecuteTime": {
          "end_time": "2021-12-09T17:44:31.188651Z",
          "start_time": "2021-12-09T17:44:30.846642Z"
        },
        "id": "d785b598",
        "outputId": "f8d8f13c-ba0b-47ed-d23d-44a6729b2dbb"
      },
      "outputs": [
        {
          "data": {
            "text/html": [
              "<div>\n",
              "<style scoped>\n",
              "    .dataframe tbody tr th:only-of-type {\n",
              "        vertical-align: middle;\n",
              "    }\n",
              "\n",
              "    .dataframe tbody tr th {\n",
              "        vertical-align: top;\n",
              "    }\n",
              "\n",
              "    .dataframe thead th {\n",
              "        text-align: right;\n",
              "    }\n",
              "</style>\n",
              "<table border=\"1\" class=\"dataframe\">\n",
              "  <thead>\n",
              "    <tr style=\"text-align: right;\">\n",
              "      <th></th>\n",
              "      <th>Age</th>\n",
              "      <th>Height</th>\n",
              "      <th>Weight</th>\n",
              "      <th>FAVC</th>\n",
              "      <th>CAEC</th>\n",
              "      <th>SMOKE</th>\n",
              "      <th>CH2O</th>\n",
              "      <th>SCC</th>\n",
              "      <th>FAF</th>\n",
              "      <th>TUE</th>\n",
              "    </tr>\n",
              "  </thead>\n",
              "  <tbody>\n",
              "    <tr>\n",
              "      <th>0</th>\n",
              "      <td>21.0</td>\n",
              "      <td>1.62</td>\n",
              "      <td>64.0</td>\n",
              "      <td>0</td>\n",
              "      <td>1</td>\n",
              "      <td>0</td>\n",
              "      <td>2.0</td>\n",
              "      <td>0</td>\n",
              "      <td>0.0</td>\n",
              "      <td>1.0</td>\n",
              "    </tr>\n",
              "    <tr>\n",
              "      <th>1</th>\n",
              "      <td>21.0</td>\n",
              "      <td>1.52</td>\n",
              "      <td>56.0</td>\n",
              "      <td>0</td>\n",
              "      <td>1</td>\n",
              "      <td>1</td>\n",
              "      <td>3.0</td>\n",
              "      <td>1</td>\n",
              "      <td>3.0</td>\n",
              "      <td>0.0</td>\n",
              "    </tr>\n",
              "    <tr>\n",
              "      <th>2</th>\n",
              "      <td>23.0</td>\n",
              "      <td>1.80</td>\n",
              "      <td>77.0</td>\n",
              "      <td>0</td>\n",
              "      <td>1</td>\n",
              "      <td>0</td>\n",
              "      <td>2.0</td>\n",
              "      <td>0</td>\n",
              "      <td>2.0</td>\n",
              "      <td>1.0</td>\n",
              "    </tr>\n",
              "    <tr>\n",
              "      <th>3</th>\n",
              "      <td>27.0</td>\n",
              "      <td>1.80</td>\n",
              "      <td>87.0</td>\n",
              "      <td>0</td>\n",
              "      <td>1</td>\n",
              "      <td>0</td>\n",
              "      <td>2.0</td>\n",
              "      <td>0</td>\n",
              "      <td>2.0</td>\n",
              "      <td>0.0</td>\n",
              "    </tr>\n",
              "    <tr>\n",
              "      <th>4</th>\n",
              "      <td>22.0</td>\n",
              "      <td>1.78</td>\n",
              "      <td>89.8</td>\n",
              "      <td>0</td>\n",
              "      <td>1</td>\n",
              "      <td>0</td>\n",
              "      <td>2.0</td>\n",
              "      <td>0</td>\n",
              "      <td>0.0</td>\n",
              "      <td>0.0</td>\n",
              "    </tr>\n",
              "    <tr>\n",
              "      <th>5</th>\n",
              "      <td>29.0</td>\n",
              "      <td>1.62</td>\n",
              "      <td>53.0</td>\n",
              "      <td>1</td>\n",
              "      <td>1</td>\n",
              "      <td>0</td>\n",
              "      <td>2.0</td>\n",
              "      <td>0</td>\n",
              "      <td>0.0</td>\n",
              "      <td>0.0</td>\n",
              "    </tr>\n",
              "    <tr>\n",
              "      <th>6</th>\n",
              "      <td>23.0</td>\n",
              "      <td>1.50</td>\n",
              "      <td>55.0</td>\n",
              "      <td>1</td>\n",
              "      <td>1</td>\n",
              "      <td>0</td>\n",
              "      <td>2.0</td>\n",
              "      <td>0</td>\n",
              "      <td>1.0</td>\n",
              "      <td>0.0</td>\n",
              "    </tr>\n",
              "    <tr>\n",
              "      <th>7</th>\n",
              "      <td>22.0</td>\n",
              "      <td>1.64</td>\n",
              "      <td>53.0</td>\n",
              "      <td>0</td>\n",
              "      <td>1</td>\n",
              "      <td>0</td>\n",
              "      <td>2.0</td>\n",
              "      <td>0</td>\n",
              "      <td>3.0</td>\n",
              "      <td>0.0</td>\n",
              "    </tr>\n",
              "    <tr>\n",
              "      <th>8</th>\n",
              "      <td>24.0</td>\n",
              "      <td>1.78</td>\n",
              "      <td>64.0</td>\n",
              "      <td>1</td>\n",
              "      <td>1</td>\n",
              "      <td>0</td>\n",
              "      <td>2.0</td>\n",
              "      <td>0</td>\n",
              "      <td>1.0</td>\n",
              "      <td>1.0</td>\n",
              "    </tr>\n",
              "    <tr>\n",
              "      <th>9</th>\n",
              "      <td>22.0</td>\n",
              "      <td>1.72</td>\n",
              "      <td>68.0</td>\n",
              "      <td>1</td>\n",
              "      <td>1</td>\n",
              "      <td>0</td>\n",
              "      <td>2.0</td>\n",
              "      <td>0</td>\n",
              "      <td>1.0</td>\n",
              "      <td>1.0</td>\n",
              "    </tr>\n",
              "  </tbody>\n",
              "</table>\n",
              "</div>"
            ],
            "text/plain": [
              "    Age  Height  Weight  FAVC  CAEC  SMOKE  CH2O  SCC  FAF  TUE\n",
              "0  21.0    1.62    64.0     0     1      0   2.0    0  0.0  1.0\n",
              "1  21.0    1.52    56.0     0     1      1   3.0    1  3.0  0.0\n",
              "2  23.0    1.80    77.0     0     1      0   2.0    0  2.0  1.0\n",
              "3  27.0    1.80    87.0     0     1      0   2.0    0  2.0  0.0\n",
              "4  22.0    1.78    89.8     0     1      0   2.0    0  0.0  0.0\n",
              "5  29.0    1.62    53.0     1     1      0   2.0    0  0.0  0.0\n",
              "6  23.0    1.50    55.0     1     1      0   2.0    0  1.0  0.0\n",
              "7  22.0    1.64    53.0     0     1      0   2.0    0  3.0  0.0\n",
              "8  24.0    1.78    64.0     1     1      0   2.0    0  1.0  1.0\n",
              "9  22.0    1.72    68.0     1     1      0   2.0    0  1.0  1.0"
            ]
          },
          "execution_count": 1155,
          "metadata": {},
          "output_type": "execute_result"
        }
      ],
      "source": [
        "dfCopyDropped2 = dfCopyDropped.drop(['Gender', 'family_history_with_overweight', 'FCVC', 'NCP', 'CALC', 'MTRANS'], axis=1)\n",
        "dfCopyDropped2.to_csv(\"ObesityDataSet_processed.csv\")\n",
        "X = dfCopyDropped2.copy()\n",
        "# X=X.drop(['Age'], axis=1)\n",
        "Y=dfCopy['target']\n",
        "X.head(10)"
      ]
    },
    {
      "cell_type": "markdown",
      "id": "4cc0d844",
      "metadata": {
        "id": "4cc0d844"
      },
      "source": [
        "## Train Test Split"
      ]
    },
    {
      "cell_type": "code",
      "execution_count": null,
      "id": "35848824",
      "metadata": {
        "ExecuteTime": {
          "end_time": "2021-12-09T17:29:07.685001Z",
          "start_time": "2021-12-09T17:29:07.670004Z"
        },
        "id": "35848824"
      },
      "outputs": [],
      "source": [
        "X_original2 = X.copy()\n",
        "X_train, X_test, y_train, y_test = train_test_split(X_original2, Y, test_size=0.1)"
      ]
    },
    {
      "cell_type": "markdown",
      "id": "e97cc897",
      "metadata": {
        "id": "e97cc897"
      },
      "source": [
        "## Training Models"
      ]
    },
    {
      "cell_type": "code",
      "execution_count": null,
      "id": "e1821f8c",
      "metadata": {
        "ExecuteTime": {
          "end_time": "2021-12-09T17:29:08.203064Z",
          "start_time": "2021-12-09T17:29:08.154011Z"
        },
        "id": "e1821f8c"
      },
      "outputs": [],
      "source": [
        "from sklearn.tree import DecisionTreeClassifier # Import Decision Tree Classifier\n",
        "from sklearn.svm import SVC\n",
        "from sklearn.ensemble import RandomForestClassifier\n",
        "from sklearn.naive_bayes import GaussianNB\n",
        "\n",
        "# standard scale data\n",
        "ss = StandardScaler()\n",
        "X_train_scaled = ss.fit_transform(X_train)\n",
        "X_test_scaled = ss.transform(X_test)\n",
        "\n",
        "# tested MinMaxScaler as KNN historically does better with MinMax\n",
        "mm = MinMaxScaler()\n",
        "X_train_mm_scaled = ss.fit_transform(X_train)\n",
        "X_test_mm_scaled = ss.transform(X_test)\n",
        "\n",
        "# program to run multilple models though sklearn \n",
        "# Default settings output accuracy and classification report\n",
        "# compares accuracy for scaled and unscaled data\n",
        "def run_models(X_train: pd.DataFrame , y_train: pd.DataFrame, X_test: pd.DataFrame, y_test: pd.DataFrame):\n",
        "    \n",
        "    models = [          \n",
        "          ('Random Forest', RandomForestClassifier(random_state=2020)),\n",
        "          ('Decision Tree', DecisionTreeClassifier()),                                                 \n",
        "          ('KNN', KNeighborsClassifier()),\n",
        "          ('SVM', SVC())\n",
        "        ]  \n",
        "    \n",
        "    for name, model in models:        \n",
        "        # unscaled data\n",
        "        clf = model.fit(X_train, y_train)\n",
        "        y_pred = clf.predict(X_test)\n",
        "        \n",
        "        # scaled data\n",
        "        clf_scaled = model.fit(X_train_scaled, y_train)\n",
        "        y_pred_scaled = clf_scaled.predict(X_test_scaled)\n",
        "        \n",
        "        # mm scaled data\n",
        "        clf_mm_scaled = model.fit(X_train_mm_scaled, y_train)\n",
        "        y_pred_mm_scaled = clf_scaled.predict(X_test_mm_scaled)\n",
        "        \n",
        "        # accuracy scores\n",
        "        accuracy = round(metrics.accuracy_score(y_test, y_pred),5)\n",
        "        scaled_accuracy = round(metrics.accuracy_score(y_test, y_pred_scaled),5)\n",
        "        scaled_mm_accuracy = round(metrics.accuracy_score(y_test, y_pred_mm_scaled),5)\n",
        "        \n",
        "        # output\n",
        "        print(name + ':')        \n",
        "        print(\"---------------------------------------------------------------\")      \n",
        "        print(\"Accuracy:\", accuracy)\n",
        "        print(\"Accuracy w/Scaled Data (ss):\", scaled_accuracy)\n",
        "        print(\"Accuracy w/Scaled Data (mm):\", scaled_mm_accuracy)\n",
        "        if (accuracy > scaled_accuracy) and (accuracy > scaled_mm_accuracy):\n",
        "            print(\"\\nClassification Report:\\n\", metrics.classification_report(y_test, y_pred))      \n",
        "            print(\"                            -----------------------------------               \\n\")      \n",
        "        elif (scaled_accuracy > scaled_mm_accuracy):\n",
        "            print(\"\\nClassification Report (ss):\\n\", metrics.classification_report(y_test, y_pred_scaled))      \n",
        "            print(\"                            -----------------------------------               \\n\")     \n",
        "        else:            \n",
        "            print(\"\\nClassification Report (mm):\\n\", metrics.classification_report(y_test, y_pred_mm_scaled))      \n",
        "            print(\"                            -----------------------------------               \\n\")  "
      ]
    },
    {
      "cell_type": "code",
      "execution_count": null,
      "id": "aee2bf59",
      "metadata": {
        "ExecuteTime": {
          "end_time": "2021-12-09T17:29:13.057739Z",
          "start_time": "2021-12-09T17:29:08.418000Z"
        },
        "id": "aee2bf59",
        "outputId": "df47f504-fcd1-4b44-bd8f-258749866e35"
      },
      "outputs": [
        {
          "name": "stdout",
          "output_type": "stream",
          "text": [
            "Random Forest:\n",
            "---------------------------------------------------------------\n",
            "Accuracy: 0.98585\n",
            "Accuracy w/Scaled Data (ss): 0.98113\n",
            "Accuracy w/Scaled Data (mm): 0.98113\n",
            "\n",
            "Classification Report:\n",
            "               precision    recall  f1-score   support\n",
            "\n",
            "           0       1.00      1.00      1.00        32\n",
            "           1       0.92      0.96      0.94        25\n",
            "           2       0.95      0.91      0.93        22\n",
            "           3       1.00      1.00      1.00        29\n",
            "           4       1.00      1.00      1.00        34\n",
            "           5       1.00      1.00      1.00        41\n",
            "           6       1.00      1.00      1.00        29\n",
            "\n",
            "    accuracy                           0.99       212\n",
            "   macro avg       0.98      0.98      0.98       212\n",
            "weighted avg       0.99      0.99      0.99       212\n",
            "\n",
            "                            -----------------------------------               \n",
            "\n",
            "Decision Tree:\n",
            "---------------------------------------------------------------\n",
            "Accuracy: 0.9717\n",
            "Accuracy w/Scaled Data (ss): 0.9717\n",
            "Accuracy w/Scaled Data (mm): 0.9717\n",
            "\n",
            "Classification Report (mm):\n",
            "               precision    recall  f1-score   support\n",
            "\n",
            "           0       0.97      1.00      0.98        32\n",
            "           1       0.88      0.92      0.90        25\n",
            "           2       0.95      0.86      0.90        22\n",
            "           3       0.97      1.00      0.98        29\n",
            "           4       1.00      0.97      0.99        34\n",
            "           5       1.00      1.00      1.00        41\n",
            "           6       1.00      1.00      1.00        29\n",
            "\n",
            "    accuracy                           0.97       212\n",
            "   macro avg       0.97      0.96      0.97       212\n",
            "weighted avg       0.97      0.97      0.97       212\n",
            "\n",
            "                            -----------------------------------               \n",
            "\n",
            "KNN:\n",
            "---------------------------------------------------------------\n",
            "Accuracy: 0.87736\n",
            "Accuracy w/Scaled Data (ss): 0.78774\n",
            "Accuracy w/Scaled Data (mm): 0.78774\n",
            "\n",
            "Classification Report:\n",
            "               precision    recall  f1-score   support\n",
            "\n",
            "           0       0.89      0.97      0.93        32\n",
            "           1       0.72      0.52      0.60        25\n",
            "           2       0.69      0.82      0.75        22\n",
            "           3       0.86      0.83      0.84        29\n",
            "           4       0.86      0.91      0.89        34\n",
            "           5       1.00      0.98      0.99        41\n",
            "           6       1.00      1.00      1.00        29\n",
            "\n",
            "    accuracy                           0.88       212\n",
            "   macro avg       0.86      0.86      0.86       212\n",
            "weighted avg       0.88      0.88      0.87       212\n",
            "\n",
            "                            -----------------------------------               \n",
            "\n",
            "SVM:\n",
            "---------------------------------------------------------------\n",
            "Accuracy: 0.61321\n",
            "Accuracy w/Scaled Data (ss): 0.86792\n",
            "Accuracy w/Scaled Data (mm): 0.86792\n",
            "\n",
            "Classification Report (mm):\n",
            "               precision    recall  f1-score   support\n",
            "\n",
            "           0       0.85      0.88      0.86        32\n",
            "           1       0.64      0.56      0.60        25\n",
            "           2       0.71      0.68      0.70        22\n",
            "           3       0.82      0.93      0.87        29\n",
            "           4       0.97      0.97      0.97        34\n",
            "           5       1.00      0.93      0.96        41\n",
            "           6       0.94      1.00      0.97        29\n",
            "\n",
            "    accuracy                           0.87       212\n",
            "   macro avg       0.85      0.85      0.85       212\n",
            "weighted avg       0.87      0.87      0.87       212\n",
            "\n",
            "                            -----------------------------------               \n",
            "\n"
          ]
        }
      ],
      "source": [
        "run_models(X_train, y_train, X_test, y_test)"
      ]
    },
    {
      "cell_type": "markdown",
      "id": "62fd14fe",
      "metadata": {
        "ExecuteTime": {
          "end_time": "2021-12-02T14:11:52.760222Z",
          "start_time": "2021-12-02T14:11:52.757397Z"
        },
        "id": "62fd14fe"
      },
      "source": [
        "## Random Forest Hyperparameter Tuning"
      ]
    },
    {
      "cell_type": "code",
      "execution_count": null,
      "id": "5b5618fd",
      "metadata": {
        "ExecuteTime": {
          "end_time": "2021-12-09T17:48:50.654911Z",
          "start_time": "2021-12-09T17:48:50.640164Z"
        },
        "id": "5b5618fd"
      },
      "outputs": [],
      "source": [
        "from sklearn.model_selection import GridSearchCV\n",
        "\n",
        "#model name, classifier, parameters\n",
        "# function used to process models and parameters through gridsearch\n",
        "def hyper_tune(name, clf, parameters, target_names=None): \n",
        "    \n",
        "    target_names = target_names\n",
        "    clf = clf\n",
        "    search = GridSearchCV(clf, parameters,verbose=True, n_jobs=15, cv=5)\n",
        "    search.fit(X_train_scaled,y_train)\n",
        "    y_pred_scaled = search.predict(X_test_scaled)\n",
        "    print (\"Accuracy Score = %3.2f\" %(search.score(X_test_scaled,y_test)))\n",
        "    print (search.best_params_)\n",
        "    print(\"\\nClassification Report:\\n\", metrics.classification_report(y_test, y_pred_scaled, target_names=target_names))"
      ]
    },
    {
      "cell_type": "code",
      "execution_count": null,
      "id": "ead98aae",
      "metadata": {
        "ExecuteTime": {
          "end_time": "2021-12-09T18:05:27.324427Z",
          "start_time": "2021-12-09T17:52:14.167569Z"
        },
        "id": "ead98aae",
        "outputId": "ae2069d1-d9bc-43f9-ed89-725a3508591c"
      },
      "outputs": [
        {
          "name": "stdout",
          "output_type": "stream",
          "text": [
            "Fitting 5 folds for each of 380 candidates, totalling 1900 fits\n",
            "Accuracy Score = 0.98\n",
            "{'criterion': 'entropy', 'max_depth': None, 'n_estimators': 120}\n",
            "\n",
            "Classification Report:\n",
            "               precision    recall  f1-score   support\n",
            "\n",
            "           0       1.00      1.00      1.00        32\n",
            "           1       0.96      0.92      0.94        25\n",
            "           2       0.88      0.95      0.91        22\n",
            "           3       1.00      1.00      1.00        29\n",
            "           4       1.00      0.97      0.99        34\n",
            "           5       1.00      1.00      1.00        41\n",
            "           6       1.00      1.00      1.00        29\n",
            "\n",
            "    accuracy                           0.98       212\n",
            "   macro avg       0.98      0.98      0.98       212\n",
            "weighted avg       0.98      0.98      0.98       212\n",
            "\n"
          ]
        }
      ],
      "source": [
        "# Number of trees in random forest\n",
        "n_estimators = [int(x) for x in range(10, 200,10)]\n",
        "# Criterion\n",
        "criterion = ['gini','entropy']\n",
        "# Number of features to consider at every split\n",
        "max_features = ['auto', 'sqrt', 'log2']\n",
        "# Maximum number of levels in tree\n",
        "max_depth = [int(x) for x in range(10, 100, 10)]\n",
        "max_depth.append(None)\n",
        "# Minimum number of samples required to split a node\n",
        "min_samples_split = [int(x) for x in range(2, 5)]\n",
        "# Minimum number of samples required at each leaf node\n",
        "min_samples_leaf = [int(x) for x in range(2, 5)]\n",
        "# Method of selecting samples for training each tree\n",
        "bootstrap = [True, False]\n",
        "# random state\n",
        "random_state = [1010]\n",
        "\n",
        "parameters = { 'criterion':criterion,\n",
        "               'n_estimators': n_estimators,\n",
        "              'max_depth':max_depth,\n",
        "              #'random_state': random_state,\n",
        "              #'max_features':max_features,\n",
        "              #'min_samples_split':min_samples_split             \n",
        "               }\n",
        "\n",
        "\n",
        "hyper_tune('Random Forest',\n",
        "           RandomForestClassifier(), parameters)"
      ]
    },
    {
      "cell_type": "markdown",
      "id": "79abaf1d",
      "metadata": {
        "id": "79abaf1d"
      },
      "source": [
        " ## KNN Hyperparameter Tuning"
      ]
    },
    {
      "cell_type": "code",
      "execution_count": null,
      "id": "19107a14",
      "metadata": {
        "ExecuteTime": {
          "end_time": "2021-12-09T18:07:37.656381Z",
          "start_time": "2021-12-09T18:07:37.559380Z"
        },
        "id": "19107a14"
      },
      "outputs": [],
      "source": [
        "#the KNN model performs better on the unscaled data this function\n",
        "# function for unscaled data\n",
        "#model name, classifier, parameters\n",
        "# function used to process models and parameters through gridsearch\n",
        "def hyper_tune2(name, clf, parameters, target_names=None): \n",
        "    \n",
        "    target_names = target_names\n",
        "    clf = clf\n",
        "    search = GridSearchCV(clf, parameters,verbose=True, n_jobs=15, cv=5)\n",
        "    search.fit(X_train,y_train)\n",
        "    y_pred = search.predict(X_test)\n",
        "    print (\"Accuracy Score = %3.2f\" %(search.score(X_test,y_test)))\n",
        "    print (search.best_params_)\n",
        "    print(\"\\nClassification Report:\\n\", metrics.classification_report(y_test, y_pred, target_names=target_names))"
      ]
    },
    {
      "cell_type": "code",
      "execution_count": null,
      "id": "81216928",
      "metadata": {
        "ExecuteTime": {
          "end_time": "2021-12-09T18:08:48.490483Z",
          "start_time": "2021-12-09T18:07:41.236649Z"
        },
        "id": "81216928",
        "outputId": "20fa6d98-4e1f-41d8-c655-02d63ecabbe1"
      },
      "outputs": [
        {
          "name": "stdout",
          "output_type": "stream",
          "text": [
            "Fitting 5 folds for each of 528 candidates, totalling 2640 fits\n",
            "Accuracy Score = 0.91\n",
            "{'algorithm': 'auto', 'metric': 'manhattan', 'n_neighbors': 4, 'p': 1, 'weights': 'distance'}\n",
            "\n",
            "Classification Report:\n",
            "               precision    recall  f1-score   support\n",
            "\n",
            "           0       0.89      0.97      0.93        32\n",
            "           1       0.80      0.48      0.60        25\n",
            "           2       0.77      0.91      0.83        22\n",
            "           3       0.87      0.93      0.90        29\n",
            "           4       0.92      0.97      0.94        34\n",
            "           5       1.00      0.98      0.99        41\n",
            "           6       1.00      1.00      1.00        29\n",
            "\n",
            "    accuracy                           0.91       212\n",
            "   macro avg       0.89      0.89      0.88       212\n",
            "weighted avg       0.90      0.91      0.90       212\n",
            "\n"
          ]
        }
      ],
      "source": [
        "# Number of neighbors\n",
        "n_neighbors = [int(x) for x in range(4, 15)]\n",
        "# weights\n",
        "weights = ['uniform','distance']\n",
        "# distance metric\n",
        "metric = ['euclidean', 'manhattan', 'chebyshev']\n",
        "# computation algorithm\n",
        "algorithm = ['auto', 'ball_tree', 'kd_tree', 'brute']\n",
        "# power paramter\n",
        "p=[1,2]\n",
        "\n",
        "parameters = { 'n_neighbors': n_neighbors,\n",
        "              'weights':weights,\n",
        "              'metric':metric,\n",
        "              'p':p,\n",
        "              'algorithm': algorithm              \n",
        "               }\n",
        "\n",
        "hyper_tune2('KNN', KNeighborsClassifier(), parameters)"
      ]
    },
    {
      "cell_type": "markdown",
      "id": "7b9f4712",
      "metadata": {
        "id": "7b9f4712"
      },
      "source": [
        "# Conclusion\n",
        "For the given dataset, the two most important features seem to be Weight and Height While features such as gender, family history, alcohol consumption, number of main meals, consumption of high caloric food, and methods of transportation can be ignored without much of an effect on the results. The best model seems to be Random Forest where the data goes through many iterations of random selection to come up with the best result, followed by the Decision Tree which is similar but is more prone to overfitting."
      ]
    },
    {
      "cell_type": "markdown",
      "id": "7e4ffcf1",
      "metadata": {
        "id": "7e4ffcf1"
      },
      "source": [
        "# Thank You!\n",
        "For any inquiry or comments, email us at tbafarat@gmail.com<br>\n",
        "Written report: https://docs.google.com/document/d/1e7iKUvYHTyDRc2wV034HRh9UE2rtujYJ/edit?usp=sharing&ouid=102725914137395760196&rtpof=true&sd=true\n",
        "### References\n",
        "Mendoza ,F & Manotas, A (Aug 2, 2019). Dataset for estimation of obesity levels based on eating habits and physical condition in individuals from Colombia, Peru and Mexico\n",
        "Retrieved from https://www.sciencedirect.com/science/article/pii/S2352340919306985?via%3Dihub<br>\n",
        "\n",
        "UCI (Aug 27, 2019). Estimation of obesity levels based on eating habits and physical condition Data Set. The Economist. \n",
        "Retrieved from https://archive.ics.uci.edu/ml/datasets/Estimation+of+obesity+levels+based+on+eating+habits+and+physical+condition+<br>\n",
        "\n",
        "Word Health Organization. (Jun 9, 2021). Obesity and overweight. Retrieved from https://www.who.int/news-room/fact-sheets/detail/obesity-and-overweight#:~:text=Key%20facts,over%20650%20million%20were%20obese"
      ]
    },
    {
      "cell_type": "code",
      "execution_count": null,
      "id": "5bd2984c",
      "metadata": {
        "id": "5bd2984c"
      },
      "outputs": [],
      "source": [
        ""
      ]
    }
  ],
  "metadata": {
    "kernelspec": {
      "display_name": "Python 3",
      "language": "python",
      "name": "python3"
    },
    "language_info": {
      "codemirror_mode": {
        "name": "ipython",
        "version": 3
      },
      "file_extension": ".py",
      "mimetype": "text/x-python",
      "name": "python",
      "nbconvert_exporter": "python",
      "pygments_lexer": "ipython3",
      "version": "3.8.8"
    },
    "toc": {
      "base_numbering": 1,
      "nav_menu": {},
      "number_sections": true,
      "sideBar": true,
      "skip_h1_title": false,
      "title_cell": "Table of Contents",
      "title_sidebar": "Contents",
      "toc_cell": false,
      "toc_position": {
        "height": "calc(100% - 180px)",
        "left": "10px",
        "top": "150px",
        "width": "303.825px"
      },
      "toc_section_display": true,
      "toc_window_display": true
    },
    "colab": {
      "name": "Obesity Classification Notebook.ipynb",
      "provenance": [],
      "include_colab_link": true
    }
  },
  "nbformat": 4,
  "nbformat_minor": 5
}